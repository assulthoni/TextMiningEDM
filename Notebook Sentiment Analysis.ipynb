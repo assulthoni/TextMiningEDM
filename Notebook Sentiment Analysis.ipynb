{
 "cells": [
  {
   "cell_type": "markdown",
   "metadata": {},
   "source": [
    "# Sentiment Analysis for Instagram Comment on @telkomuniversity IG post using RNN"
   ]
  },
  {
   "cell_type": "markdown",
   "metadata": {},
   "source": [
    "## Import Dependencies"
   ]
  },
  {
   "cell_type": "code",
   "execution_count": 141,
   "metadata": {},
   "outputs": [],
   "source": [
    "import os\n",
    "import sys\n",
    "import warnings\n",
    "warnings.filterwarnings('ignore')\n",
    "import re\n",
    "from re import sub\n",
    "import multiprocessing\n",
    "\n",
    "import pandas as pd\n",
    "import numpy as np\n",
    "import plotly.express as px\n",
    "import matplotlib.pyplot as plt\n",
    "\n",
    "from time import time \n",
    "from collections import defaultdict\n",
    "import emoji\n",
    "from unidecode import unidecode\n",
    "from translate import Translator\n",
    "\n",
    "from gensim.models.phrases import Phrases, Phraser\n",
    "from gensim.models import Word2Vec\n",
    "from gensim.test.utils import get_tmpfile\n",
    "from gensim.models import KeyedVectors\n",
    "\n",
    "from sklearn.feature_extraction.text import TfidfVectorizer\n",
    "from sklearn.cluster import KMeans\n",
    "from keras.models import Sequential\n",
    "from keras.layers import Dense\n",
    "from keras.layers import Flatten\n",
    "from keras.layers import LSTM\n",
    "from keras.layers.embeddings import Embedding\n",
    "from keras.layers import Bidirectional\n",
    "from keras.preprocessing import sequence\n",
    "from keras.layers import Dropout\n",
    "from keras.models import model_from_json\n",
    "from keras.models import load_model"
   ]
  },
  {
   "cell_type": "markdown",
   "metadata": {},
   "source": [
    "## Read Data"
   ]
  },
  {
   "cell_type": "code",
   "execution_count": 65,
   "metadata": {},
   "outputs": [
    {
     "data": {
      "text/html": [
       "<div>\n",
       "<style scoped>\n",
       "    .dataframe tbody tr th:only-of-type {\n",
       "        vertical-align: middle;\n",
       "    }\n",
       "\n",
       "    .dataframe tbody tr th {\n",
       "        vertical-align: top;\n",
       "    }\n",
       "\n",
       "    .dataframe thead th {\n",
       "        text-align: right;\n",
       "    }\n",
       "</style>\n",
       "<table border=\"1\" class=\"dataframe\">\n",
       "  <thead>\n",
       "    <tr style=\"text-align: right;\">\n",
       "      <th></th>\n",
       "      <th>id</th>\n",
       "      <th>text</th>\n",
       "      <th>created_at</th>\n",
       "      <th>did_report_as_spam</th>\n",
       "      <th>owner_id</th>\n",
       "      <th>owner_username</th>\n",
       "      <th>owner_is_verified</th>\n",
       "      <th>viewer_has_liked</th>\n",
       "      <th>likes</th>\n",
       "    </tr>\n",
       "  </thead>\n",
       "  <tbody>\n",
       "    <tr>\n",
       "      <th>0</th>\n",
       "      <td>17879474824580432</td>\n",
       "      <td>https://bit.ly/RegistWorkshopTeknisUjianDaring...</td>\n",
       "      <td>1586664958</td>\n",
       "      <td>False</td>\n",
       "      <td>1485219132</td>\n",
       "      <td>fanji_farman</td>\n",
       "      <td>False</td>\n",
       "      <td>False</td>\n",
       "      <td>0</td>\n",
       "    </tr>\n",
       "    <tr>\n",
       "      <th>1</th>\n",
       "      <td>17990924800291559</td>\n",
       "      <td>kuota mana kuota</td>\n",
       "      <td>1586666340</td>\n",
       "      <td>False</td>\n",
       "      <td>3607466523</td>\n",
       "      <td>hasfiamr</td>\n",
       "      <td>False</td>\n",
       "      <td>False</td>\n",
       "      <td>0</td>\n",
       "    </tr>\n",
       "    <tr>\n",
       "      <th>2</th>\n",
       "      <td>17857930756845161</td>\n",
       "      <td>Subsidi kuota mana</td>\n",
       "      <td>1586669461</td>\n",
       "      <td>False</td>\n",
       "      <td>2707251224</td>\n",
       "      <td>rxvntx</td>\n",
       "      <td>False</td>\n",
       "      <td>False</td>\n",
       "      <td>0</td>\n",
       "    </tr>\n",
       "    <tr>\n",
       "      <th>3</th>\n",
       "      <td>17880801838577206</td>\n",
       "      <td>Kuota mana kuota min @telkomuniversity</td>\n",
       "      <td>1586669607</td>\n",
       "      <td>False</td>\n",
       "      <td>1724669055</td>\n",
       "      <td>dhiyulhaqq</td>\n",
       "      <td>False</td>\n",
       "      <td>False</td>\n",
       "      <td>0</td>\n",
       "    </tr>\n",
       "    <tr>\n",
       "      <th>4</th>\n",
       "      <td>17860736335828000</td>\n",
       "      <td>Kuota min😂</td>\n",
       "      <td>1586677079</td>\n",
       "      <td>False</td>\n",
       "      <td>1367829296</td>\n",
       "      <td>andi.joo</td>\n",
       "      <td>False</td>\n",
       "      <td>False</td>\n",
       "      <td>0</td>\n",
       "    </tr>\n",
       "    <tr>\n",
       "      <th>...</th>\n",
       "      <td>...</td>\n",
       "      <td>...</td>\n",
       "      <td>...</td>\n",
       "      <td>...</td>\n",
       "      <td>...</td>\n",
       "      <td>...</td>\n",
       "      <td>...</td>\n",
       "      <td>...</td>\n",
       "      <td>...</td>\n",
       "    </tr>\n",
       "    <tr>\n",
       "      <th>1712</th>\n",
       "      <td>17877210811562582</td>\n",
       "      <td>🔥🔥🔥</td>\n",
       "      <td>1584336186</td>\n",
       "      <td>False</td>\n",
       "      <td>180186848</td>\n",
       "      <td>nafisaagnia</td>\n",
       "      <td>False</td>\n",
       "      <td>False</td>\n",
       "      <td>0</td>\n",
       "    </tr>\n",
       "    <tr>\n",
       "      <th>1713</th>\n",
       "      <td>17857687792804193</td>\n",
       "      <td>backsoudnya lo-fi gini</td>\n",
       "      <td>1584336201</td>\n",
       "      <td>False</td>\n",
       "      <td>1162027684</td>\n",
       "      <td>rahmeeen</td>\n",
       "      <td>False</td>\n",
       "      <td>False</td>\n",
       "      <td>4</td>\n",
       "    </tr>\n",
       "    <tr>\n",
       "      <th>1714</th>\n",
       "      <td>17854177237939849</td>\n",
       "      <td>min saya mau tny sesuatu udh dm ig mention twi...</td>\n",
       "      <td>1586960336</td>\n",
       "      <td>False</td>\n",
       "      <td>52018555</td>\n",
       "      <td>syafiramhrn</td>\n",
       "      <td>False</td>\n",
       "      <td>False</td>\n",
       "      <td>0</td>\n",
       "    </tr>\n",
       "    <tr>\n",
       "      <th>1715</th>\n",
       "      <td>17903878132450528</td>\n",
       "      <td>Ayo ikut hel. We are an international students...</td>\n",
       "      <td>1586988920</td>\n",
       "      <td>False</td>\n",
       "      <td>2118962725</td>\n",
       "      <td>distywisdayani</td>\n",
       "      <td>False</td>\n",
       "      <td>False</td>\n",
       "      <td>0</td>\n",
       "    </tr>\n",
       "    <tr>\n",
       "      <th>1716</th>\n",
       "      <td>17899336030461041</td>\n",
       "      <td>Kuota gemana min? :(</td>\n",
       "      <td>1586998884</td>\n",
       "      <td>False</td>\n",
       "      <td>1410329930</td>\n",
       "      <td>bagasadhikara</td>\n",
       "      <td>False</td>\n",
       "      <td>False</td>\n",
       "      <td>0</td>\n",
       "    </tr>\n",
       "  </tbody>\n",
       "</table>\n",
       "<p>1717 rows × 9 columns</p>\n",
       "</div>"
      ],
      "text/plain": [
       "                     id                                               text  \\\n",
       "0     17879474824580432  https://bit.ly/RegistWorkshopTeknisUjianDaring...   \n",
       "1     17990924800291559                                   kuota mana kuota   \n",
       "2     17857930756845161                                 Subsidi kuota mana   \n",
       "3     17880801838577206             Kuota mana kuota min @telkomuniversity   \n",
       "4     17860736335828000                                         Kuota min😂   \n",
       "...                 ...                                                ...   \n",
       "1712  17877210811562582                                                🔥🔥🔥   \n",
       "1713  17857687792804193                             backsoudnya lo-fi gini   \n",
       "1714  17854177237939849  min saya mau tny sesuatu udh dm ig mention twi...   \n",
       "1715  17903878132450528  Ayo ikut hel. We are an international students...   \n",
       "1716  17899336030461041                               Kuota gemana min? :(   \n",
       "\n",
       "      created_at did_report_as_spam    owner_id  owner_username  \\\n",
       "0     1586664958              False  1485219132    fanji_farman   \n",
       "1     1586666340              False  3607466523        hasfiamr   \n",
       "2     1586669461              False  2707251224          rxvntx   \n",
       "3     1586669607              False  1724669055      dhiyulhaqq   \n",
       "4     1586677079              False  1367829296        andi.joo   \n",
       "...          ...                ...         ...             ...   \n",
       "1712  1584336186              False   180186848     nafisaagnia   \n",
       "1713  1584336201              False  1162027684        rahmeeen   \n",
       "1714  1586960336              False    52018555     syafiramhrn   \n",
       "1715  1586988920              False  2118962725  distywisdayani   \n",
       "1716  1586998884              False  1410329930   bagasadhikara   \n",
       "\n",
       "     owner_is_verified viewer_has_liked likes  \n",
       "0                False            False     0  \n",
       "1                False            False     0  \n",
       "2                False            False     0  \n",
       "3                False            False     0  \n",
       "4                False            False     0  \n",
       "...                ...              ...   ...  \n",
       "1712             False            False     0  \n",
       "1713             False            False     4  \n",
       "1714             False            False     0  \n",
       "1715             False            False     0  \n",
       "1716             False            False     0  \n",
       "\n",
       "[1717 rows x 9 columns]"
      ]
     },
     "metadata": {},
     "output_type": "display_data"
    }
   ],
   "source": [
    "scraped_data = pd.DataFrame()\n",
    "path = 'Scraper'\n",
    "BASE_DIR = \"D:\\\\kuliah\\\\tugas\\\\EDM\\\\TEXT MINING\"\n",
    "directory = os.path.join(BASE_DIR,path)\n",
    "os.chdir(directory)\n",
    "for root,dirs,files in os.walk(directory):\n",
    "    for file in files:\n",
    "        if file.endswith(\".csv\"):\n",
    "            f = pd.read_csv(file)\n",
    "            scraped_data = scraped_data.append(f,ignore_index=True)\n",
    "display(scraped_data)\n",
    "os.chdir(BASE_DIR)"
   ]
  },
  {
   "cell_type": "markdown",
   "metadata": {},
   "source": [
    "## Exploratory Data Analysis"
   ]
  },
  {
   "cell_type": "code",
   "execution_count": 22,
   "metadata": {},
   "outputs": [
    {
     "data": {
      "text/html": [
       "<div>\n",
       "<style scoped>\n",
       "    .dataframe tbody tr th:only-of-type {\n",
       "        vertical-align: middle;\n",
       "    }\n",
       "\n",
       "    .dataframe tbody tr th {\n",
       "        vertical-align: top;\n",
       "    }\n",
       "\n",
       "    .dataframe thead th {\n",
       "        text-align: right;\n",
       "    }\n",
       "</style>\n",
       "<table border=\"1\" class=\"dataframe\">\n",
       "  <thead>\n",
       "    <tr style=\"text-align: right;\">\n",
       "      <th></th>\n",
       "      <th>id</th>\n",
       "      <th>text</th>\n",
       "      <th>created_at</th>\n",
       "      <th>did_report_as_spam</th>\n",
       "      <th>owner_id</th>\n",
       "      <th>owner_username</th>\n",
       "      <th>owner_is_verified</th>\n",
       "      <th>viewer_has_liked</th>\n",
       "      <th>likes</th>\n",
       "    </tr>\n",
       "  </thead>\n",
       "  <tbody>\n",
       "    <tr>\n",
       "      <th>1501</th>\n",
       "      <td>17862573265728807</td>\n",
       "      <td>Ciee yg matiin kolom komenannya, 👏</td>\n",
       "      <td>1584053649</td>\n",
       "      <td>False</td>\n",
       "      <td>7459857862</td>\n",
       "      <td>baymaxnduttt</td>\n",
       "      <td>False</td>\n",
       "      <td>False</td>\n",
       "      <td>0</td>\n",
       "    </tr>\n",
       "    <tr>\n",
       "      <th>493</th>\n",
       "      <td>17842702643093782</td>\n",
       "      <td>@m_sabrimas  hore hore</td>\n",
       "      <td>1585830640</td>\n",
       "      <td>False</td>\n",
       "      <td>2055783526</td>\n",
       "      <td>fthrhman</td>\n",
       "      <td>False</td>\n",
       "      <td>False</td>\n",
       "      <td>0</td>\n",
       "    </tr>\n",
       "    <tr>\n",
       "      <th>1621</th>\n",
       "      <td>17882133808523119</td>\n",
       "      <td>Cikoneng kak butuh disemprot jugaa</td>\n",
       "      <td>1584389834</td>\n",
       "      <td>False</td>\n",
       "      <td>1696111188</td>\n",
       "      <td>javier_aditama</td>\n",
       "      <td>False</td>\n",
       "      <td>False</td>\n",
       "      <td>0</td>\n",
       "    </tr>\n",
       "    <tr>\n",
       "      <th>288</th>\n",
       "      <td>17886245134526165</td>\n",
       "      <td>❤</td>\n",
       "      <td>1585880184</td>\n",
       "      <td>False</td>\n",
       "      <td>3683040759</td>\n",
       "      <td>fid.ah_</td>\n",
       "      <td>False</td>\n",
       "      <td>False</td>\n",
       "      <td>0</td>\n",
       "    </tr>\n",
       "    <tr>\n",
       "      <th>449</th>\n",
       "      <td>17870512807658486</td>\n",
       "      <td>ASEKKKK</td>\n",
       "      <td>1585832100</td>\n",
       "      <td>False</td>\n",
       "      <td>1011984009</td>\n",
       "      <td>raraamrian</td>\n",
       "      <td>False</td>\n",
       "      <td>False</td>\n",
       "      <td>0</td>\n",
       "    </tr>\n",
       "    <tr>\n",
       "      <th>558</th>\n",
       "      <td>18136438714028424</td>\n",
       "      <td>kuliah cuman 2 bulan ga full satu semester, me...</td>\n",
       "      <td>1585829382</td>\n",
       "      <td>False</td>\n",
       "      <td>224319327</td>\n",
       "      <td>evasnaa</td>\n",
       "      <td>False</td>\n",
       "      <td>False</td>\n",
       "      <td>0</td>\n",
       "    </tr>\n",
       "    <tr>\n",
       "      <th>336</th>\n",
       "      <td>17861146981799822</td>\n",
       "      <td>@upiofficial</td>\n",
       "      <td>1585843122</td>\n",
       "      <td>False</td>\n",
       "      <td>548823434</td>\n",
       "      <td>dp.shrt_</td>\n",
       "      <td>False</td>\n",
       "      <td>False</td>\n",
       "      <td>0</td>\n",
       "    </tr>\n",
       "    <tr>\n",
       "      <th>1537</th>\n",
       "      <td>17857036513832492</td>\n",
       "      <td>Di zoom ngeblur</td>\n",
       "      <td>1584284487</td>\n",
       "      <td>False</td>\n",
       "      <td>1315063640</td>\n",
       "      <td>andrianaji_</td>\n",
       "      <td>False</td>\n",
       "      <td>False</td>\n",
       "      <td>0</td>\n",
       "    </tr>\n",
       "    <tr>\n",
       "      <th>119</th>\n",
       "      <td>17867843527676012</td>\n",
       "      <td>🥺🥺🥺🥺</td>\n",
       "      <td>1584993023</td>\n",
       "      <td>False</td>\n",
       "      <td>1498831648</td>\n",
       "      <td>dwiidaayuu</td>\n",
       "      <td>False</td>\n",
       "      <td>False</td>\n",
       "      <td>0</td>\n",
       "    </tr>\n",
       "    <tr>\n",
       "      <th>1458</th>\n",
       "      <td>18125470330068323</td>\n",
       "      <td>Yaa kirain lulusan telkom</td>\n",
       "      <td>1584536208</td>\n",
       "      <td>False</td>\n",
       "      <td>4829020597</td>\n",
       "      <td>_echomusic_</td>\n",
       "      <td>False</td>\n",
       "      <td>False</td>\n",
       "      <td>1</td>\n",
       "    </tr>\n",
       "    <tr>\n",
       "      <th>64</th>\n",
       "      <td>17863452454748914</td>\n",
       "      <td>Kuota kuotaa</td>\n",
       "      <td>1586766811</td>\n",
       "      <td>False</td>\n",
       "      <td>2313867266</td>\n",
       "      <td>singgih_019</td>\n",
       "      <td>False</td>\n",
       "      <td>False</td>\n",
       "      <td>0</td>\n",
       "    </tr>\n",
       "    <tr>\n",
       "      <th>685</th>\n",
       "      <td>17860504381825555</td>\n",
       "      <td>Tjintaaa telyu❤️</td>\n",
       "      <td>1585828028</td>\n",
       "      <td>False</td>\n",
       "      <td>1375368341</td>\n",
       "      <td>elstiavrnca</td>\n",
       "      <td>False</td>\n",
       "      <td>False</td>\n",
       "      <td>2</td>\n",
       "    </tr>\n",
       "    <tr>\n",
       "      <th>508</th>\n",
       "      <td>17846307545029679</td>\n",
       "      <td>Sing main main !</td>\n",
       "      <td>1585829964</td>\n",
       "      <td>False</td>\n",
       "      <td>302045017</td>\n",
       "      <td>dwijaya_</td>\n",
       "      <td>False</td>\n",
       "      <td>False</td>\n",
       "      <td>0</td>\n",
       "    </tr>\n",
       "    <tr>\n",
       "      <th>1524</th>\n",
       "      <td>17867757832658960</td>\n",
       "      <td>Lah kok gaada cad @irsyad.rd</td>\n",
       "      <td>1584105496</td>\n",
       "      <td>False</td>\n",
       "      <td>1519594353</td>\n",
       "      <td>beka.mrf</td>\n",
       "      <td>False</td>\n",
       "      <td>False</td>\n",
       "      <td>2</td>\n",
       "    </tr>\n",
       "    <tr>\n",
       "      <th>446</th>\n",
       "      <td>17877501592595789</td>\n",
       "      <td>@politeknikati_makassar @bem_poltekatim</td>\n",
       "      <td>1585831854</td>\n",
       "      <td>False</td>\n",
       "      <td>5375711034</td>\n",
       "      <td>almbagas</td>\n",
       "      <td>False</td>\n",
       "      <td>False</td>\n",
       "      <td>0</td>\n",
       "    </tr>\n",
       "  </tbody>\n",
       "</table>\n",
       "</div>"
      ],
      "text/plain": [
       "                     id                                               text  \\\n",
       "1501  17862573265728807                 Ciee yg matiin kolom komenannya, 👏   \n",
       "493   17842702643093782                             @m_sabrimas  hore hore   \n",
       "1621  17882133808523119                 Cikoneng kak butuh disemprot jugaa   \n",
       "288   17886245134526165                                                  ❤   \n",
       "449   17870512807658486                                            ASEKKKK   \n",
       "558   18136438714028424  kuliah cuman 2 bulan ga full satu semester, me...   \n",
       "336   17861146981799822                                       @upiofficial   \n",
       "1537  17857036513832492                                    Di zoom ngeblur   \n",
       "119   17867843527676012                                               🥺🥺🥺🥺   \n",
       "1458  18125470330068323                          Yaa kirain lulusan telkom   \n",
       "64    17863452454748914                                       Kuota kuotaa   \n",
       "685   17860504381825555                                   Tjintaaa telyu❤️   \n",
       "508   17846307545029679                                   Sing main main !   \n",
       "1524  17867757832658960                       Lah kok gaada cad @irsyad.rd   \n",
       "446   17877501592595789            @politeknikati_makassar @bem_poltekatim   \n",
       "\n",
       "      created_at did_report_as_spam    owner_id  owner_username  \\\n",
       "1501  1584053649              False  7459857862    baymaxnduttt   \n",
       "493   1585830640              False  2055783526        fthrhman   \n",
       "1621  1584389834              False  1696111188  javier_aditama   \n",
       "288   1585880184              False  3683040759         fid.ah_   \n",
       "449   1585832100              False  1011984009      raraamrian   \n",
       "558   1585829382              False   224319327         evasnaa   \n",
       "336   1585843122              False   548823434        dp.shrt_   \n",
       "1537  1584284487              False  1315063640     andrianaji_   \n",
       "119   1584993023              False  1498831648      dwiidaayuu   \n",
       "1458  1584536208              False  4829020597     _echomusic_   \n",
       "64    1586766811              False  2313867266     singgih_019   \n",
       "685   1585828028              False  1375368341     elstiavrnca   \n",
       "508   1585829964              False   302045017        dwijaya_   \n",
       "1524  1584105496              False  1519594353        beka.mrf   \n",
       "446   1585831854              False  5375711034        almbagas   \n",
       "\n",
       "     owner_is_verified viewer_has_liked likes  \n",
       "1501             False            False     0  \n",
       "493              False            False     0  \n",
       "1621             False            False     0  \n",
       "288              False            False     0  \n",
       "449              False            False     0  \n",
       "558              False            False     0  \n",
       "336              False            False     0  \n",
       "1537             False            False     0  \n",
       "119              False            False     0  \n",
       "1458             False            False     1  \n",
       "64               False            False     0  \n",
       "685              False            False     2  \n",
       "508              False            False     0  \n",
       "1524             False            False     2  \n",
       "446              False            False     0  "
      ]
     },
     "execution_count": 22,
     "metadata": {},
     "output_type": "execute_result"
    }
   ],
   "source": [
    "scraped_data.sample(15)"
   ]
  },
  {
   "cell_type": "code",
   "execution_count": 17,
   "metadata": {},
   "outputs": [
    {
     "name": "stdout",
     "output_type": "stream",
     "text": [
      "<class 'pandas.core.frame.DataFrame'>\n",
      "RangeIndex: 1717 entries, 0 to 1716\n",
      "Data columns (total 9 columns):\n",
      "id                    1717 non-null object\n",
      "text                  1717 non-null object\n",
      "created_at            1717 non-null object\n",
      "did_report_as_spam    1717 non-null object\n",
      "owner_id              1717 non-null object\n",
      "owner_username        1717 non-null object\n",
      "owner_is_verified     1717 non-null object\n",
      "viewer_has_liked      1717 non-null object\n",
      "likes                 1717 non-null object\n",
      "dtypes: object(9)\n",
      "memory usage: 120.9+ KB\n"
     ]
    }
   ],
   "source": [
    "scraped_data.info()"
   ]
  },
  {
   "cell_type": "code",
   "execution_count": 19,
   "metadata": {},
   "outputs": [
    {
     "data": {
      "text/html": [
       "<div>\n",
       "<style scoped>\n",
       "    .dataframe tbody tr th:only-of-type {\n",
       "        vertical-align: middle;\n",
       "    }\n",
       "\n",
       "    .dataframe tbody tr th {\n",
       "        vertical-align: top;\n",
       "    }\n",
       "\n",
       "    .dataframe thead th {\n",
       "        text-align: right;\n",
       "    }\n",
       "</style>\n",
       "<table border=\"1\" class=\"dataframe\">\n",
       "  <thead>\n",
       "    <tr style=\"text-align: right;\">\n",
       "      <th></th>\n",
       "      <th>id</th>\n",
       "      <th>text</th>\n",
       "      <th>created_at</th>\n",
       "      <th>did_report_as_spam</th>\n",
       "      <th>owner_id</th>\n",
       "      <th>owner_username</th>\n",
       "      <th>owner_is_verified</th>\n",
       "      <th>viewer_has_liked</th>\n",
       "      <th>likes</th>\n",
       "    </tr>\n",
       "  </thead>\n",
       "  <tbody>\n",
       "    <tr>\n",
       "      <th>count</th>\n",
       "      <td>1717</td>\n",
       "      <td>1717</td>\n",
       "      <td>1717</td>\n",
       "      <td>1717</td>\n",
       "      <td>1717</td>\n",
       "      <td>1717</td>\n",
       "      <td>1717</td>\n",
       "      <td>1717</td>\n",
       "      <td>1717</td>\n",
       "    </tr>\n",
       "    <tr>\n",
       "      <th>unique</th>\n",
       "      <td>1672</td>\n",
       "      <td>1585</td>\n",
       "      <td>1651</td>\n",
       "      <td>1</td>\n",
       "      <td>1386</td>\n",
       "      <td>1386</td>\n",
       "      <td>1</td>\n",
       "      <td>1</td>\n",
       "      <td>15</td>\n",
       "    </tr>\n",
       "    <tr>\n",
       "      <th>top</th>\n",
       "      <td>18058922635204086</td>\n",
       "      <td>Alhamdulillah</td>\n",
       "      <td>1585827863</td>\n",
       "      <td>False</td>\n",
       "      <td>9125683</td>\n",
       "      <td>adesatrio</td>\n",
       "      <td>False</td>\n",
       "      <td>False</td>\n",
       "      <td>0</td>\n",
       "    </tr>\n",
       "    <tr>\n",
       "      <th>freq</th>\n",
       "      <td>2</td>\n",
       "      <td>13</td>\n",
       "      <td>3</td>\n",
       "      <td>1717</td>\n",
       "      <td>11</td>\n",
       "      <td>11</td>\n",
       "      <td>1717</td>\n",
       "      <td>1717</td>\n",
       "      <td>1294</td>\n",
       "    </tr>\n",
       "  </tbody>\n",
       "</table>\n",
       "</div>"
      ],
      "text/plain": [
       "                       id           text  created_at did_report_as_spam  \\\n",
       "count                1717           1717        1717               1717   \n",
       "unique               1672           1585        1651                  1   \n",
       "top     18058922635204086  Alhamdulillah  1585827863              False   \n",
       "freq                    2             13           3               1717   \n",
       "\n",
       "        owner_id owner_username owner_is_verified viewer_has_liked  likes  \n",
       "count       1717           1717              1717             1717   1717  \n",
       "unique      1386           1386                 1                1     15  \n",
       "top      9125683      adesatrio             False            False      0  \n",
       "freq          11             11              1717             1717   1294  "
      ]
     },
     "execution_count": 19,
     "metadata": {},
     "output_type": "execute_result"
    }
   ],
   "source": [
    "scraped_data.describe(include=['O'])"
   ]
  },
  {
   "cell_type": "code",
   "execution_count": 21,
   "metadata": {},
   "outputs": [
    {
     "data": {
      "text/plain": [
       "id                    0\n",
       "text                  0\n",
       "created_at            0\n",
       "did_report_as_spam    0\n",
       "owner_id              0\n",
       "owner_username        0\n",
       "owner_is_verified     0\n",
       "viewer_has_liked      0\n",
       "likes                 0\n",
       "dtype: int64"
      ]
     },
     "execution_count": 21,
     "metadata": {},
     "output_type": "execute_result"
    }
   ],
   "source": [
    "scraped_data.isna().sum()"
   ]
  },
  {
   "cell_type": "markdown",
   "metadata": {},
   "source": [
    "Yang dapat disimpulkan :\n",
    "- Terdapat emoji pada column text (challenge dalam penentuan label)\n",
    "- User yang sering comment pada post Telkomuniversity adalah adesatrio dengan frekuensi 11 kali\n",
    "- Ada komentar yang sama dan dipost berulang oleh akun yang berbeda\n",
    "- Tidak ada missing values, tapi cukup banyak noise pada kolom text"
   ]
  },
  {
   "cell_type": "markdown",
   "metadata": {},
   "source": [
    "## Cleansing and Slicing"
   ]
  },
  {
   "cell_type": "code",
   "execution_count": 94,
   "metadata": {},
   "outputs": [
    {
     "data": {
      "text/plain": [
       "0       https://bit.ly/RegistWorkshopTeknisUjianDaring...\n",
       "1                                        kuota mana kuota\n",
       "2                                      Subsidi kuota mana\n",
       "3                  Kuota mana kuota min @telkomuniversity\n",
       "4                                              Kuota min😂\n",
       "                              ...                        \n",
       "1712                                                  🔥🔥🔥\n",
       "1713                               backsoudnya lo-fi gini\n",
       "1714    min saya mau tny sesuatu udh dm ig mention twi...\n",
       "1715    Ayo ikut hel. We are an international students...\n",
       "1716                                 Kuota gemana min? :(\n",
       "Name: text, Length: 1717, dtype: object"
      ]
     },
     "execution_count": 94,
     "metadata": {},
     "output_type": "execute_result"
    }
   ],
   "source": [
    "input_data = scraped_data.dropna().reset_index(drop=True).loc[:,'text']\n",
    "input_data"
   ]
  },
  {
   "cell_type": "code",
   "execution_count": 86,
   "metadata": {},
   "outputs": [],
   "source": [
    "emoji_enc = {}\n",
    "for idx, row in pd.read_csv('emojis.csv').iterrows():\n",
    "    emoji_enc[row.emoji] = row.meaning\n",
    "def replace_emoji(text, emoji_enc):\n",
    "    SMILEY = {\n",
    "        \":(\" : \"sedih\",\n",
    "        \":)\" : \"bahagia\",\n",
    "        \":/\" : \"skeptis\",\n",
    "        \":p\" : \"ejek\",\n",
    "        \":P\" : \"ejek\",\n",
    "        \":-(\" : \"sedih\",\n",
    "        \":-)\" : \"bahagia\",\n",
    "        \":-/\" : \"skeptis\",\n",
    "        \":-p\" : \"ejek\",\n",
    "        \":-P\" : \"ejek\",\n",
    "    }\n",
    "    SMILEY = {**SMILEY, **emoji_enc}\n",
    "    words = text.split()\n",
    "    reformed = [SMILEY[word] if word in SMILEY else word for word in words]\n",
    "    hasil = \" \".join(reformed)\n",
    "    \n",
    "    hasil = emoji.demojize(hasil)\n",
    "    hasil = hasil.replace(\":\",\" \")\n",
    "    hasil = \" \".join(hasil.split())\n",
    "    \n",
    "    return hasil\n",
    "def remove_punctuations(text):\n",
    "    return \" \".join(re.sub(\"[\\.\\,\\!\\?\\:\\;\\-\\=]\", \" \",text).split()).replace('_', ' ')\n",
    "def remove_hashtags(text):\n",
    "    return ' '.join(re.sub(\"(@[A-Za-z0-9]+)|(#[A-Za-z0-9]+)\", \" \", text).split())\n",
    "def remove_urls(text):\n",
    "    return ' '.join(re.sub(\"(\\w+:\\/\\/\\S+)\", \" \", text).split())\n",
    "def get_lower(text):\n",
    "    return text.lower()\n"
   ]
  },
  {
   "cell_type": "code",
   "execution_count": 76,
   "metadata": {},
   "outputs": [
    {
     "data": {
      "text/plain": [
       "'A_sunglasses'"
      ]
     },
     "execution_count": 76,
     "metadata": {},
     "output_type": "execute_result"
    }
   ],
   "source": [
    "replace_emoji(\"ðŸ˜Ž\")"
   ]
  },
  {
   "cell_type": "code",
   "execution_count": 88,
   "metadata": {},
   "outputs": [],
   "source": [
    "many_text = input_data.to_list()\n",
    "many_text = [text.lower() for text in many_text]\n",
    "many_text = [remove_urls(text) for text in many_text]\n",
    "many_text = [replace_emoji(text, emoji_enc=emoji_enc) for text in many_text]\n",
    "many_text = [remove_punctuations(text) for text in many_text]\n",
    "many_text = [remove_hashtags(text) for text in many_text]"
   ]
  },
  {
   "cell_type": "code",
   "execution_count": 158,
   "metadata": {},
   "outputs": [
    {
     "data": {
      "text/plain": [
       "0                                     g bsa d buka ya min\n",
       "1                                        kuota mana kuota\n",
       "2                                      subsidi kuota mana\n",
       "3                                    kuota mana kuota min\n",
       "4                        kuota min face with tears of joy\n",
       "                              ...                        \n",
       "1712                                       fire fire fire\n",
       "1713                               backsoudnya lo fi gini\n",
       "1714    min saya mau tny sesuatu udh dm ig mention twi...\n",
       "1715    ayo ikut hel we are an international students ...\n",
       "1716                               kuota gemana min sedih\n",
       "Length: 1717, dtype: object"
      ]
     },
     "metadata": {},
     "output_type": "display_data"
    }
   ],
   "source": [
    "input_data = pd.Series((v for v in many_text))\n",
    "display(input_data)"
   ]
  },
  {
   "cell_type": "markdown",
   "metadata": {},
   "source": [
    "## Preprocessing"
   ]
  },
  {
   "cell_type": "markdown",
   "metadata": {},
   "source": [
    "### Cluster-based Labeling"
   ]
  },
  {
   "cell_type": "code",
   "execution_count": 99,
   "metadata": {},
   "outputs": [],
   "source": [
    "def text_to_word_list(text, remove_polish_letters):\n",
    "    text = remove_polish_letters(text)\n",
    "    text = str(text)\n",
    "    text = text.split()\n",
    "    return text"
   ]
  },
  {
   "cell_type": "code",
   "execution_count": 111,
   "metadata": {},
   "outputs": [
    {
     "name": "stdout",
     "output_type": "stream",
     "text": [
      "<class 'pandas.core.series.Series'>\n"
     ]
    }
   ],
   "source": [
    "input_data = pd.Series((v for v in many_text))\n",
    "input_data = input_data.apply(lambda x: text_to_word_list(x, unidecode))\n",
    "print(type(input_data))"
   ]
  },
  {
   "cell_type": "code",
   "execution_count": 115,
   "metadata": {},
   "outputs": [
    {
     "data": {
      "text/plain": [
       "['terimakasih', 'bapakk', 'fire', 'red_heart']"
      ]
     },
     "execution_count": 115,
     "metadata": {},
     "output_type": "execute_result"
    }
   ],
   "source": [
    "sent = [row for row in input_data]\n",
    "phrases = Phrases(sent, min_count=1, progress_per=50000)\n",
    "bigram = Phraser(phrases)\n",
    "sentences = bigram[sent]\n",
    "sentences[509]"
   ]
  },
  {
   "cell_type": "code",
   "execution_count": 120,
   "metadata": {},
   "outputs": [
    {
     "name": "stdout",
     "output_type": "stream",
     "text": [
      "Time to build vocab: 0.0 mins\n"
     ]
    }
   ],
   "source": [
    "w2v_model = Word2Vec(min_count=3,\n",
    "                     window=4,\n",
    "                     size=300,\n",
    "                     sample=1e-5, \n",
    "                     alpha=0.03, \n",
    "                     min_alpha=0.0007, \n",
    "                     negative=20,\n",
    "                     workers=multiprocessing.cpu_count()-1)\n",
    "start = time()\n",
    "\n",
    "w2v_model.build_vocab(sentences, progress_per=50000)\n",
    "\n",
    "print('Time to build vocab: {} mins'.format(round((time() - start) / 60, 2)))"
   ]
  },
  {
   "cell_type": "code",
   "execution_count": 121,
   "metadata": {},
   "outputs": [
    {
     "name": "stdout",
     "output_type": "stream",
     "text": [
      "Time to train the model: 0.02 mins\n"
     ]
    }
   ],
   "source": [
    "start = time()\n",
    "\n",
    "w2v_model.train(sentences, total_examples=w2v_model.corpus_count, epochs=30, report_delay=1)\n",
    "\n",
    "print('Time to train the model: {} mins'.format(round((time() - start) / 60, 2)))\n",
    "\n",
    "w2v_model.init_sims(replace=True)"
   ]
  },
  {
   "cell_type": "code",
   "execution_count": 122,
   "metadata": {},
   "outputs": [],
   "source": [
    "w2v_model.save(\"word2vec.model\")"
   ]
  },
  {
   "cell_type": "markdown",
   "metadata": {},
   "source": [
    "#### K-Means Clustering"
   ]
  },
  {
   "cell_type": "code",
   "execution_count": 125,
   "metadata": {},
   "outputs": [],
   "source": [
    "word_vectors = Word2Vec.load(\"word2vec.model\").wv"
   ]
  },
  {
   "cell_type": "code",
   "execution_count": 126,
   "metadata": {},
   "outputs": [],
   "source": [
    "model = KMeans(n_clusters=2, max_iter=1000, random_state=True, n_init=50).fit(X=word_vectors.vectors)"
   ]
  },
  {
   "cell_type": "code",
   "execution_count": 127,
   "metadata": {},
   "outputs": [
    {
     "data": {
      "text/plain": [
       "[('dan', 0.9215435981750488),\n",
       " ('untuk', 0.9080561995506287),\n",
       " ('tugas', 0.8848137259483337),\n",
       " ('banyaknya', 0.8431203365325928),\n",
       " ('loudly_crying', 0.8261879682540894),\n",
       " ('karena', 0.8209102153778076),\n",
       " ('pulang', 0.8135249614715576),\n",
       " ('ini', 0.8003915548324585),\n",
       " ('bisa', 0.7983108758926392),\n",
       " ('saja', 0.7980477213859558)]"
      ]
     },
     "execution_count": 127,
     "metadata": {},
     "output_type": "execute_result"
    }
   ],
   "source": [
    "word_vectors.similar_by_vector(model.cluster_centers_[0], topn=10, restrict_vocab=None)"
   ]
  },
  {
   "cell_type": "code",
   "execution_count": 128,
   "metadata": {},
   "outputs": [],
   "source": [
    "positive_cluster_center = model.cluster_centers_[0]\n",
    "negative_cluster_center = model.cluster_centers_[1]"
   ]
  },
  {
   "cell_type": "code",
   "execution_count": 129,
   "metadata": {},
   "outputs": [],
   "source": [
    "words = pd.DataFrame(word_vectors.vocab.keys())\n",
    "words.columns = ['words']\n",
    "words['vectors'] = words.words.apply(lambda x: word_vectors.wv[f'{x}'])\n",
    "words['cluster'] = words.vectors.apply(lambda x: model.predict([np.array(x)]))\n",
    "words.cluster = words.cluster.apply(lambda x: x[0])"
   ]
  },
  {
   "cell_type": "code",
   "execution_count": 130,
   "metadata": {},
   "outputs": [],
   "source": [
    "words['cluster_value'] = [1 if i==0 else -1 for i in words.cluster]\n",
    "words['closeness_score'] = words.apply(lambda x: 1/(model.transform([x.vectors]).min()), axis=1)\n",
    "words['sentiment_coeff'] = words.closeness_score * words.cluster_value"
   ]
  },
  {
   "cell_type": "code",
   "execution_count": 131,
   "metadata": {},
   "outputs": [
    {
     "data": {
      "text/html": [
       "<div>\n",
       "<style scoped>\n",
       "    .dataframe tbody tr th:only-of-type {\n",
       "        vertical-align: middle;\n",
       "    }\n",
       "\n",
       "    .dataframe tbody tr th {\n",
       "        vertical-align: top;\n",
       "    }\n",
       "\n",
       "    .dataframe thead th {\n",
       "        text-align: right;\n",
       "    }\n",
       "</style>\n",
       "<table border=\"1\" class=\"dataframe\">\n",
       "  <thead>\n",
       "    <tr style=\"text-align: right;\">\n",
       "      <th></th>\n",
       "      <th>words</th>\n",
       "      <th>vectors</th>\n",
       "      <th>cluster</th>\n",
       "      <th>cluster_value</th>\n",
       "      <th>closeness_score</th>\n",
       "      <th>sentiment_coeff</th>\n",
       "    </tr>\n",
       "  </thead>\n",
       "  <tbody>\n",
       "    <tr>\n",
       "      <th>0</th>\n",
       "      <td>g</td>\n",
       "      <td>[-0.06031097, -0.03675199, -0.018923845, -0.02...</td>\n",
       "      <td>0</td>\n",
       "      <td>1</td>\n",
       "      <td>1.035019</td>\n",
       "      <td>1.035019</td>\n",
       "    </tr>\n",
       "    <tr>\n",
       "      <th>1</th>\n",
       "      <td>bsa</td>\n",
       "      <td>[0.027507596, -0.014379414, -0.12620877, 0.071...</td>\n",
       "      <td>1</td>\n",
       "      <td>-1</td>\n",
       "      <td>1.135381</td>\n",
       "      <td>-1.135381</td>\n",
       "    </tr>\n",
       "    <tr>\n",
       "      <th>2</th>\n",
       "      <td>d</td>\n",
       "      <td>[-0.073949814, 0.009203013, 0.0805453, -0.0780...</td>\n",
       "      <td>0</td>\n",
       "      <td>1</td>\n",
       "      <td>1.016141</td>\n",
       "      <td>1.016141</td>\n",
       "    </tr>\n",
       "    <tr>\n",
       "      <th>3</th>\n",
       "      <td>buka</td>\n",
       "      <td>[-0.05532703, -0.02957031, -0.06876149, -0.013...</td>\n",
       "      <td>0</td>\n",
       "      <td>1</td>\n",
       "      <td>1.039991</td>\n",
       "      <td>1.039991</td>\n",
       "    </tr>\n",
       "    <tr>\n",
       "      <th>4</th>\n",
       "      <td>ya_min</td>\n",
       "      <td>[-0.028316436, -0.09971798, 0.055358842, -0.03...</td>\n",
       "      <td>1</td>\n",
       "      <td>-1</td>\n",
       "      <td>1.112345</td>\n",
       "      <td>-1.112345</td>\n",
       "    </tr>\n",
       "    <tr>\n",
       "      <th>5</th>\n",
       "      <td>kuota_mana</td>\n",
       "      <td>[0.0589151, -0.112560496, -0.0071403156, -0.00...</td>\n",
       "      <td>0</td>\n",
       "      <td>1</td>\n",
       "      <td>1.035034</td>\n",
       "      <td>1.035034</td>\n",
       "    </tr>\n",
       "    <tr>\n",
       "      <th>6</th>\n",
       "      <td>kuota</td>\n",
       "      <td>[-0.010729889, -0.034996342, -0.07089649, -0.0...</td>\n",
       "      <td>1</td>\n",
       "      <td>-1</td>\n",
       "      <td>1.572891</td>\n",
       "      <td>-1.572891</td>\n",
       "    </tr>\n",
       "    <tr>\n",
       "      <th>7</th>\n",
       "      <td>subsidi_kuota</td>\n",
       "      <td>[0.02866541, 0.05730002, 0.048568062, -0.04245...</td>\n",
       "      <td>0</td>\n",
       "      <td>1</td>\n",
       "      <td>1.023571</td>\n",
       "      <td>1.023571</td>\n",
       "    </tr>\n",
       "    <tr>\n",
       "      <th>8</th>\n",
       "      <td>mana</td>\n",
       "      <td>[0.019140642, -0.100943975, -0.13423821, -0.02...</td>\n",
       "      <td>1</td>\n",
       "      <td>-1</td>\n",
       "      <td>1.346571</td>\n",
       "      <td>-1.346571</td>\n",
       "    </tr>\n",
       "    <tr>\n",
       "      <th>9</th>\n",
       "      <td>min</td>\n",
       "      <td>[0.061102968, 0.0067842053, -0.013135753, 0.04...</td>\n",
       "      <td>1</td>\n",
       "      <td>-1</td>\n",
       "      <td>1.319433</td>\n",
       "      <td>-1.319433</td>\n",
       "    </tr>\n",
       "  </tbody>\n",
       "</table>\n",
       "</div>"
      ],
      "text/plain": [
       "           words                                            vectors  cluster  \\\n",
       "0              g  [-0.06031097, -0.03675199, -0.018923845, -0.02...        0   \n",
       "1            bsa  [0.027507596, -0.014379414, -0.12620877, 0.071...        1   \n",
       "2              d  [-0.073949814, 0.009203013, 0.0805453, -0.0780...        0   \n",
       "3           buka  [-0.05532703, -0.02957031, -0.06876149, -0.013...        0   \n",
       "4         ya_min  [-0.028316436, -0.09971798, 0.055358842, -0.03...        1   \n",
       "5     kuota_mana  [0.0589151, -0.112560496, -0.0071403156, -0.00...        0   \n",
       "6          kuota  [-0.010729889, -0.034996342, -0.07089649, -0.0...        1   \n",
       "7  subsidi_kuota  [0.02866541, 0.05730002, 0.048568062, -0.04245...        0   \n",
       "8           mana  [0.019140642, -0.100943975, -0.13423821, -0.02...        1   \n",
       "9            min  [0.061102968, 0.0067842053, -0.013135753, 0.04...        1   \n",
       "\n",
       "   cluster_value  closeness_score  sentiment_coeff  \n",
       "0              1         1.035019         1.035019  \n",
       "1             -1         1.135381        -1.135381  \n",
       "2              1         1.016141         1.016141  \n",
       "3              1         1.039991         1.039991  \n",
       "4             -1         1.112345        -1.112345  \n",
       "5              1         1.035034         1.035034  \n",
       "6             -1         1.572891        -1.572891  \n",
       "7              1         1.023571         1.023571  \n",
       "8             -1         1.346571        -1.346571  \n",
       "9             -1         1.319433        -1.319433  "
      ]
     },
     "execution_count": 131,
     "metadata": {},
     "output_type": "execute_result"
    }
   ],
   "source": [
    "words.head(10)"
   ]
  },
  {
   "cell_type": "code",
   "execution_count": 132,
   "metadata": {},
   "outputs": [],
   "source": [
    "words[['words', 'sentiment_coeff']].to_csv('sentiment_dictionary.csv', index=False)"
   ]
  },
  {
   "cell_type": "code",
   "execution_count": 184,
   "metadata": {},
   "outputs": [
    {
     "data": {
      "text/html": [
       "<div>\n",
       "<style scoped>\n",
       "    .dataframe tbody tr th:only-of-type {\n",
       "        vertical-align: middle;\n",
       "    }\n",
       "\n",
       "    .dataframe tbody tr th {\n",
       "        vertical-align: top;\n",
       "    }\n",
       "\n",
       "    .dataframe thead th {\n",
       "        text-align: right;\n",
       "    }\n",
       "</style>\n",
       "<table border=\"1\" class=\"dataframe\">\n",
       "  <thead>\n",
       "    <tr style=\"text-align: right;\">\n",
       "      <th></th>\n",
       "      <th>text</th>\n",
       "    </tr>\n",
       "  </thead>\n",
       "  <tbody>\n",
       "    <tr>\n",
       "      <th>1608</th>\n",
       "      <td>telyu</td>\n",
       "    </tr>\n",
       "    <tr>\n",
       "      <th>159</th>\n",
       "      <td>punten coba biaya bpp nya dialokasikan buat ku...</td>\n",
       "    </tr>\n",
       "    <tr>\n",
       "      <th>1411</th>\n",
       "      <td>langsung ciptakan dlu lgi pintunkemana saja bg...</td>\n",
       "    </tr>\n",
       "    <tr>\n",
       "      <th>79</th>\n",
       "      <td>subsidi tak ceritanya</td>\n",
       "    </tr>\n",
       "    <tr>\n",
       "      <th>197</th>\n",
       "      <td>yg ta gmn ya klo online saya rasa sulit susah ...</td>\n",
       "    </tr>\n",
       "    <tr>\n",
       "      <th>13</th>\n",
       "      <td>kuota nya kapan ya face with rolling eyes</td>\n",
       "    </tr>\n",
       "    <tr>\n",
       "      <th>34</th>\n",
       "      <td></td>\n",
       "    </tr>\n",
       "    <tr>\n",
       "      <th>1660</th>\n",
       "      <td>kursi nya juga dong</td>\n",
       "    </tr>\n",
       "    <tr>\n",
       "      <th>1079</th>\n",
       "      <td>keren banget kampus gua</td>\n",
       "    </tr>\n",
       "    <tr>\n",
       "      <th>838</th>\n",
       "      <td>dipakai belajar ya bukan buat pubg yikyok sama...</td>\n",
       "    </tr>\n",
       "    <tr>\n",
       "      <th>940</th>\n",
       "      <td>by u bisa ngga ya itu kan dibawahnya telkomsel...</td>\n",
       "    </tr>\n",
       "    <tr>\n",
       "      <th>1359</th>\n",
       "      <td>punten mau bertanya apakah telkom university t...</td>\n",
       "    </tr>\n",
       "    <tr>\n",
       "      <th>770</th>\n",
       "      <td>yeyy wkkwkw</td>\n",
       "    </tr>\n",
       "    <tr>\n",
       "      <th>1544</th>\n",
       "      <td>19 balik engga</td>\n",
       "    </tr>\n",
       "    <tr>\n",
       "      <th>407</th>\n",
       "      <td>transfer aja pak</td>\n",
       "    </tr>\n",
       "  </tbody>\n",
       "</table>\n",
       "</div>"
      ],
      "text/plain": [
       "                                                   text\n",
       "1608                                              telyu\n",
       "159   punten coba biaya bpp nya dialokasikan buat ku...\n",
       "1411  langsung ciptakan dlu lgi pintunkemana saja bg...\n",
       "79                                subsidi tak ceritanya\n",
       "197   yg ta gmn ya klo online saya rasa sulit susah ...\n",
       "13            kuota nya kapan ya face with rolling eyes\n",
       "34                                                     \n",
       "1660                                kursi nya juga dong\n",
       "1079                            keren banget kampus gua\n",
       "838   dipakai belajar ya bukan buat pubg yikyok sama...\n",
       "940   by u bisa ngga ya itu kan dibawahnya telkomsel...\n",
       "1359  punten mau bertanya apakah telkom university t...\n",
       "770                                         yeyy wkkwkw\n",
       "1544                                     19 balik engga\n",
       "407                                    transfer aja pak"
      ]
     },
     "metadata": {},
     "output_type": "display_data"
    }
   ],
   "source": [
    "final_file = input_data.copy().to_frame(name='text')\n",
    "final_weighting = final_file.copy()\n",
    "display(final_file.sample(15))\n",
    "sentiment_map = pd.read_csv('sentiment_dictionary.csv')\n",
    "sentiment_dict = dict(zip(sentiment_map.words.values, sentiment_map.sentiment_coeff.values))"
   ]
  },
  {
   "cell_type": "code",
   "execution_count": 185,
   "metadata": {},
   "outputs": [],
   "source": [
    "tfidf = TfidfVectorizer(tokenizer=lambda y: y.split(), norm=None)\n",
    "tfidf.fit(final_file.text)\n",
    "features = pd.Series(tfidf.get_feature_names())\n",
    "transformed = tfidf.transform(final_file.text)"
   ]
  },
  {
   "cell_type": "code",
   "execution_count": 186,
   "metadata": {},
   "outputs": [
    {
     "data": {
      "text/plain": [
       "<1717x3131 sparse matrix of type '<class 'numpy.float64'>'\n",
       "\twith 11371 stored elements in Compressed Sparse Row format>"
      ]
     },
     "execution_count": 186,
     "metadata": {},
     "output_type": "execute_result"
    }
   ],
   "source": [
    "transformed"
   ]
  },
  {
   "cell_type": "code",
   "execution_count": null,
   "metadata": {},
   "outputs": [],
   "source": []
  },
  {
   "cell_type": "markdown",
   "metadata": {},
   "source": [
    "### Tokenization"
   ]
  },
  {
   "cell_type": "code",
   "execution_count": null,
   "metadata": {},
   "outputs": [],
   "source": []
  },
  {
   "cell_type": "markdown",
   "metadata": {},
   "source": [
    "### Stemming"
   ]
  },
  {
   "cell_type": "markdown",
   "metadata": {},
   "source": [
    "### Filtering"
   ]
  },
  {
   "cell_type": "markdown",
   "metadata": {},
   "source": [
    "## Feature Extraction"
   ]
  },
  {
   "cell_type": "markdown",
   "metadata": {},
   "source": [
    "## Modeling"
   ]
  },
  {
   "cell_type": "code",
   "execution_count": 134,
   "metadata": {},
   "outputs": [],
   "source": [
    "def create_model_rnn(weight_matrix, max_words, EMBEDDING_DIM):\n",
    "    # create the model\n",
    "    model = Sequential()\n",
    "    model.add(Embedding(len(weight_matrix), EMBEDDING_DIM, weights=[weight_matrix], input_length=max_words, trainable=False))\n",
    "    model.add(Bidirectional(LSTM(128, dropout=0.2, recurrent_dropout=0.2)))\n",
    "    model.add(Dense(512, activation='relu'))\n",
    "    model.add(Dropout(0.50))\n",
    "    model.add(Dense(10, activation='softmax'))\n",
    "    # Adam Optimiser\n",
    "    model.compile(loss='categorical_crossentropy',optimizer='adam', metrics=['accuracy'])\n",
    "    return model"
   ]
  },
  {
   "cell_type": "code",
   "execution_count": 135,
   "metadata": {},
   "outputs": [],
   "source": [
    "def train_model(model,train_x, train_y, test_x, test_y, val_x, val_y, batch_size):\n",
    "    # save the best model and early stopping\n",
    "    saveBestModel = keras.callbacks.ModelCheckpoint('../best_weight_glove_bi_100d.hdf5', monitor='val_acc', verbose=0, save_best_only=True, save_weights_only=False, mode='auto', period=1)\n",
    "    earlyStopping = keras.callbacks.EarlyStopping(monitor='val_loss', min_delta=0, patience=3, verbose=0, mode='auto')\n",
    "    # Fit the model\n",
    "    model.fit(train_x, train_y, batch_size=batch_size, epochs=25,validation_data=(val_x, val_y), callbacks=[saveBestModel, earlyStopping])\n",
    "    # Final evaluation of the model\n",
    "    score, acc = model.evaluate(test_x, test_y, batch_size=batch_size)\n",
    "    return model"
   ]
  },
  {
   "cell_type": "code",
   "execution_count": null,
   "metadata": {},
   "outputs": [],
   "source": []
  },
  {
   "cell_type": "markdown",
   "metadata": {},
   "source": [
    "## Prediction"
   ]
  }
 ],
 "metadata": {
  "kernelspec": {
   "display_name": "Python 3",
   "language": "python",
   "name": "python3"
  },
  "language_info": {
   "codemirror_mode": {
    "name": "ipython",
    "version": 3
   },
   "file_extension": ".py",
   "mimetype": "text/x-python",
   "name": "python",
   "nbconvert_exporter": "python",
   "pygments_lexer": "ipython3",
   "version": "3.7.2"
  }
 },
 "nbformat": 4,
 "nbformat_minor": 2
}
