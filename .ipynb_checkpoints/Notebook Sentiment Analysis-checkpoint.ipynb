{
 "cells": [
  {
   "cell_type": "markdown",
   "metadata": {},
   "source": [
    "# Sentiment Analysis for Instagram Comment on @telkomuniversity IG post using RNN"
   ]
  },
  {
   "cell_type": "markdown",
   "metadata": {},
   "source": [
    "## Import Dependencies"
   ]
  },
  {
   "cell_type": "code",
   "execution_count": 1,
   "metadata": {},
   "outputs": [],
   "source": [
    "import os\n",
    "import sys\n",
    "import warnings\n",
    "warnings.filterwarnings('ignore')\n",
    "import re\n",
    "from re import sub\n",
    "import multiprocessing\n",
    "\n",
    "import pandas as pd\n",
    "import numpy as np\n",
    "import plotly.express as px\n",
    "import matplotlib.pyplot as plt\n",
    "\n",
    "from time import time \n",
    "from collections import defaultdict\n",
    "import emoji\n",
    "from unidecode import unidecode\n",
    "from string import punctuation\n",
    "\n",
    "from gensim.models.phrases import Phrases, Phraser\n",
    "from gensim.models import Word2Vec\n",
    "from gensim.test.utils import get_tmpfile\n",
    "from gensim.models import KeyedVectors\n",
    "\n",
    "from sklearn.feature_extraction.text import TfidfVectorizer\n",
    "from sklearn.cluster import KMeans, SpectralClustering\n"
   ]
  },
  {
   "cell_type": "markdown",
   "metadata": {},
   "source": [
    "## Read Data"
   ]
  },
  {
   "cell_type": "code",
   "execution_count": 2,
   "metadata": {},
   "outputs": [
    {
     "data": {
      "text/html": [
       "<div>\n",
       "<style scoped>\n",
       "    .dataframe tbody tr th:only-of-type {\n",
       "        vertical-align: middle;\n",
       "    }\n",
       "\n",
       "    .dataframe tbody tr th {\n",
       "        vertical-align: top;\n",
       "    }\n",
       "\n",
       "    .dataframe thead th {\n",
       "        text-align: right;\n",
       "    }\n",
       "</style>\n",
       "<table border=\"1\" class=\"dataframe\">\n",
       "  <thead>\n",
       "    <tr style=\"text-align: right;\">\n",
       "      <th></th>\n",
       "      <th>id</th>\n",
       "      <th>text</th>\n",
       "      <th>created_at</th>\n",
       "      <th>did_report_as_spam</th>\n",
       "      <th>owner_id</th>\n",
       "      <th>owner_username</th>\n",
       "      <th>owner_is_verified</th>\n",
       "      <th>viewer_has_liked</th>\n",
       "      <th>likes</th>\n",
       "    </tr>\n",
       "  </thead>\n",
       "  <tbody>\n",
       "    <tr>\n",
       "      <th>0</th>\n",
       "      <td>17879474824580432</td>\n",
       "      <td>https://bit.ly/RegistWorkshopTeknisUjianDaring...</td>\n",
       "      <td>1586664958</td>\n",
       "      <td>False</td>\n",
       "      <td>1485219132</td>\n",
       "      <td>fanji_farman</td>\n",
       "      <td>False</td>\n",
       "      <td>False</td>\n",
       "      <td>0</td>\n",
       "    </tr>\n",
       "    <tr>\n",
       "      <th>1</th>\n",
       "      <td>17990924800291559</td>\n",
       "      <td>kuota mana kuota</td>\n",
       "      <td>1586666340</td>\n",
       "      <td>False</td>\n",
       "      <td>3607466523</td>\n",
       "      <td>hasfiamr</td>\n",
       "      <td>False</td>\n",
       "      <td>False</td>\n",
       "      <td>0</td>\n",
       "    </tr>\n",
       "    <tr>\n",
       "      <th>2</th>\n",
       "      <td>17857930756845161</td>\n",
       "      <td>Subsidi kuota mana</td>\n",
       "      <td>1586669461</td>\n",
       "      <td>False</td>\n",
       "      <td>2707251224</td>\n",
       "      <td>rxvntx</td>\n",
       "      <td>False</td>\n",
       "      <td>False</td>\n",
       "      <td>0</td>\n",
       "    </tr>\n",
       "    <tr>\n",
       "      <th>3</th>\n",
       "      <td>17880801838577206</td>\n",
       "      <td>Kuota mana kuota min @telkomuniversity</td>\n",
       "      <td>1586669607</td>\n",
       "      <td>False</td>\n",
       "      <td>1724669055</td>\n",
       "      <td>dhiyulhaqq</td>\n",
       "      <td>False</td>\n",
       "      <td>False</td>\n",
       "      <td>0</td>\n",
       "    </tr>\n",
       "    <tr>\n",
       "      <th>4</th>\n",
       "      <td>17860736335828000</td>\n",
       "      <td>Kuota min😂</td>\n",
       "      <td>1586677079</td>\n",
       "      <td>False</td>\n",
       "      <td>1367829296</td>\n",
       "      <td>andi.joo</td>\n",
       "      <td>False</td>\n",
       "      <td>False</td>\n",
       "      <td>0</td>\n",
       "    </tr>\n",
       "    <tr>\n",
       "      <th>...</th>\n",
       "      <td>...</td>\n",
       "      <td>...</td>\n",
       "      <td>...</td>\n",
       "      <td>...</td>\n",
       "      <td>...</td>\n",
       "      <td>...</td>\n",
       "      <td>...</td>\n",
       "      <td>...</td>\n",
       "      <td>...</td>\n",
       "    </tr>\n",
       "    <tr>\n",
       "      <th>1712</th>\n",
       "      <td>17877210811562582</td>\n",
       "      <td>🔥🔥🔥</td>\n",
       "      <td>1584336186</td>\n",
       "      <td>False</td>\n",
       "      <td>180186848</td>\n",
       "      <td>nafisaagnia</td>\n",
       "      <td>False</td>\n",
       "      <td>False</td>\n",
       "      <td>0</td>\n",
       "    </tr>\n",
       "    <tr>\n",
       "      <th>1713</th>\n",
       "      <td>17857687792804193</td>\n",
       "      <td>backsoudnya lo-fi gini</td>\n",
       "      <td>1584336201</td>\n",
       "      <td>False</td>\n",
       "      <td>1162027684</td>\n",
       "      <td>rahmeeen</td>\n",
       "      <td>False</td>\n",
       "      <td>False</td>\n",
       "      <td>4</td>\n",
       "    </tr>\n",
       "    <tr>\n",
       "      <th>1714</th>\n",
       "      <td>17854177237939849</td>\n",
       "      <td>min saya mau tny sesuatu udh dm ig mention twi...</td>\n",
       "      <td>1586960336</td>\n",
       "      <td>False</td>\n",
       "      <td>52018555</td>\n",
       "      <td>syafiramhrn</td>\n",
       "      <td>False</td>\n",
       "      <td>False</td>\n",
       "      <td>0</td>\n",
       "    </tr>\n",
       "    <tr>\n",
       "      <th>1715</th>\n",
       "      <td>17903878132450528</td>\n",
       "      <td>Ayo ikut hel. We are an international students...</td>\n",
       "      <td>1586988920</td>\n",
       "      <td>False</td>\n",
       "      <td>2118962725</td>\n",
       "      <td>distywisdayani</td>\n",
       "      <td>False</td>\n",
       "      <td>False</td>\n",
       "      <td>0</td>\n",
       "    </tr>\n",
       "    <tr>\n",
       "      <th>1716</th>\n",
       "      <td>17899336030461041</td>\n",
       "      <td>Kuota gemana min? :(</td>\n",
       "      <td>1586998884</td>\n",
       "      <td>False</td>\n",
       "      <td>1410329930</td>\n",
       "      <td>bagasadhikara</td>\n",
       "      <td>False</td>\n",
       "      <td>False</td>\n",
       "      <td>0</td>\n",
       "    </tr>\n",
       "  </tbody>\n",
       "</table>\n",
       "<p>1717 rows × 9 columns</p>\n",
       "</div>"
      ],
      "text/plain": [
       "                     id                                               text  \\\n",
       "0     17879474824580432  https://bit.ly/RegistWorkshopTeknisUjianDaring...   \n",
       "1     17990924800291559                                   kuota mana kuota   \n",
       "2     17857930756845161                                 Subsidi kuota mana   \n",
       "3     17880801838577206             Kuota mana kuota min @telkomuniversity   \n",
       "4     17860736335828000                                         Kuota min😂   \n",
       "...                 ...                                                ...   \n",
       "1712  17877210811562582                                                🔥🔥🔥   \n",
       "1713  17857687792804193                             backsoudnya lo-fi gini   \n",
       "1714  17854177237939849  min saya mau tny sesuatu udh dm ig mention twi...   \n",
       "1715  17903878132450528  Ayo ikut hel. We are an international students...   \n",
       "1716  17899336030461041                               Kuota gemana min? :(   \n",
       "\n",
       "      created_at did_report_as_spam    owner_id  owner_username  \\\n",
       "0     1586664958              False  1485219132    fanji_farman   \n",
       "1     1586666340              False  3607466523        hasfiamr   \n",
       "2     1586669461              False  2707251224          rxvntx   \n",
       "3     1586669607              False  1724669055      dhiyulhaqq   \n",
       "4     1586677079              False  1367829296        andi.joo   \n",
       "...          ...                ...         ...             ...   \n",
       "1712  1584336186              False   180186848     nafisaagnia   \n",
       "1713  1584336201              False  1162027684        rahmeeen   \n",
       "1714  1586960336              False    52018555     syafiramhrn   \n",
       "1715  1586988920              False  2118962725  distywisdayani   \n",
       "1716  1586998884              False  1410329930   bagasadhikara   \n",
       "\n",
       "     owner_is_verified viewer_has_liked likes  \n",
       "0                False            False     0  \n",
       "1                False            False     0  \n",
       "2                False            False     0  \n",
       "3                False            False     0  \n",
       "4                False            False     0  \n",
       "...                ...              ...   ...  \n",
       "1712             False            False     0  \n",
       "1713             False            False     4  \n",
       "1714             False            False     0  \n",
       "1715             False            False     0  \n",
       "1716             False            False     0  \n",
       "\n",
       "[1717 rows x 9 columns]"
      ]
     },
     "metadata": {},
     "output_type": "display_data"
    }
   ],
   "source": [
    "scraped_data = pd.DataFrame()\n",
    "path = 'Scraper'\n",
    "BASE_DIR = \"D:\\\\kuliah\\\\tugas\\\\EDM\\\\TEXT MINING\"\n",
    "directory = os.path.join(BASE_DIR,path)\n",
    "os.chdir(directory)\n",
    "for root,dirs,files in os.walk(directory):\n",
    "    for file in files:\n",
    "        if file.endswith(\".csv\"):\n",
    "            f = pd.read_csv(file)\n",
    "            scraped_data = scraped_data.append(f,ignore_index=True)\n",
    "display(scraped_data)\n",
    "os.chdir(BASE_DIR)"
   ]
  },
  {
   "cell_type": "markdown",
   "metadata": {},
   "source": [
    "## Exploratory Data Analysis"
   ]
  },
  {
   "cell_type": "code",
   "execution_count": 3,
   "metadata": {},
   "outputs": [],
   "source": [
    "scraped_data = scraped_data.replace('NaN', np.nan)"
   ]
  },
  {
   "cell_type": "code",
   "execution_count": 4,
   "metadata": {},
   "outputs": [
    {
     "data": {
      "text/html": [
       "<div>\n",
       "<style scoped>\n",
       "    .dataframe tbody tr th:only-of-type {\n",
       "        vertical-align: middle;\n",
       "    }\n",
       "\n",
       "    .dataframe tbody tr th {\n",
       "        vertical-align: top;\n",
       "    }\n",
       "\n",
       "    .dataframe thead th {\n",
       "        text-align: right;\n",
       "    }\n",
       "</style>\n",
       "<table border=\"1\" class=\"dataframe\">\n",
       "  <thead>\n",
       "    <tr style=\"text-align: right;\">\n",
       "      <th></th>\n",
       "      <th>id</th>\n",
       "      <th>text</th>\n",
       "      <th>created_at</th>\n",
       "      <th>did_report_as_spam</th>\n",
       "      <th>owner_id</th>\n",
       "      <th>owner_username</th>\n",
       "      <th>owner_is_verified</th>\n",
       "      <th>viewer_has_liked</th>\n",
       "      <th>likes</th>\n",
       "    </tr>\n",
       "  </thead>\n",
       "  <tbody>\n",
       "    <tr>\n",
       "      <th>645</th>\n",
       "      <td>18113745121102904</td>\n",
       "      <td>Makin sayang sama bapa ❤️❤️❤️❤️ @kangady</td>\n",
       "      <td>1585828351</td>\n",
       "      <td>False</td>\n",
       "      <td>1556989819</td>\n",
       "      <td>mahesarr</td>\n",
       "      <td>False</td>\n",
       "      <td>False</td>\n",
       "      <td>0</td>\n",
       "    </tr>\n",
       "    <tr>\n",
       "      <th>933</th>\n",
       "      <td>18004575091284999</td>\n",
       "      <td>No nya udah ga aktif, tf aja. saya DM no rek s...</td>\n",
       "      <td>1585925236</td>\n",
       "      <td>False</td>\n",
       "      <td>7915826969</td>\n",
       "      <td>mfikrirmdhan</td>\n",
       "      <td>False</td>\n",
       "      <td>False</td>\n",
       "      <td>0</td>\n",
       "    </tr>\n",
       "    <tr>\n",
       "      <th>1630</th>\n",
       "      <td>17869444855635301</td>\n",
       "      <td>Akhirnya selama kurang lebih 3 taun berada di ...</td>\n",
       "      <td>1584489180</td>\n",
       "      <td>False</td>\n",
       "      <td>1529041114</td>\n",
       "      <td>imsoskinnyyyyyyyyyyyyyyyyyyyyy</td>\n",
       "      <td>False</td>\n",
       "      <td>False</td>\n",
       "      <td>0</td>\n",
       "    </tr>\n",
       "    <tr>\n",
       "      <th>1014</th>\n",
       "      <td>18113878633101084</td>\n",
       "      <td>Kalau mahasiswa yg masih di bandung kebagian j...</td>\n",
       "      <td>1586178826</td>\n",
       "      <td>False</td>\n",
       "      <td>6117438095</td>\n",
       "      <td>febismee</td>\n",
       "      <td>False</td>\n",
       "      <td>False</td>\n",
       "      <td>0</td>\n",
       "    </tr>\n",
       "    <tr>\n",
       "      <th>150</th>\n",
       "      <td>17849157523952205</td>\n",
       "      <td>@haikalaf</td>\n",
       "      <td>1584976445</td>\n",
       "      <td>False</td>\n",
       "      <td>2152997542</td>\n",
       "      <td>monaufal26</td>\n",
       "      <td>False</td>\n",
       "      <td>False</td>\n",
       "      <td>1</td>\n",
       "    </tr>\n",
       "    <tr>\n",
       "      <th>1015</th>\n",
       "      <td>17852044048952856</td>\n",
       "      <td>Min, mahasiswa beserta jajarannya(keluarga) me...</td>\n",
       "      <td>1586187131</td>\n",
       "      <td>False</td>\n",
       "      <td>2075832073</td>\n",
       "      <td>jarhid_</td>\n",
       "      <td>False</td>\n",
       "      <td>False</td>\n",
       "      <td>0</td>\n",
       "    </tr>\n",
       "    <tr>\n",
       "      <th>389</th>\n",
       "      <td>18014324485275975</td>\n",
       "      <td>Semoga bisa TA dengan lancar guys @indahnfa_ @...</td>\n",
       "      <td>1585834378</td>\n",
       "      <td>False</td>\n",
       "      <td>884072715</td>\n",
       "      <td>avisagavrilla</td>\n",
       "      <td>False</td>\n",
       "      <td>False</td>\n",
       "      <td>2</td>\n",
       "    </tr>\n",
       "    <tr>\n",
       "      <th>965</th>\n",
       "      <td>17890534138484068</td>\n",
       "      <td>Makin lama makin keren kampus ini🔥🔥</td>\n",
       "      <td>1585988992</td>\n",
       "      <td>False</td>\n",
       "      <td>2229289653</td>\n",
       "      <td>shamariass</td>\n",
       "      <td>False</td>\n",
       "      <td>False</td>\n",
       "      <td>0</td>\n",
       "    </tr>\n",
       "    <tr>\n",
       "      <th>627</th>\n",
       "      <td>17843758793073798</td>\n",
       "      <td>Perbulan apa gimana nih pak :)</td>\n",
       "      <td>1585828615</td>\n",
       "      <td>False</td>\n",
       "      <td>583993275</td>\n",
       "      <td>wwa1810</td>\n",
       "      <td>False</td>\n",
       "      <td>False</td>\n",
       "      <td>0</td>\n",
       "    </tr>\n",
       "    <tr>\n",
       "      <th>55</th>\n",
       "      <td>18130588510065992</td>\n",
       "      <td>@nadilandrry sisteuuurrr!!!!</td>\n",
       "      <td>1586925982</td>\n",
       "      <td>False</td>\n",
       "      <td>1539490457</td>\n",
       "      <td>firdha_tami</td>\n",
       "      <td>False</td>\n",
       "      <td>False</td>\n",
       "      <td>0</td>\n",
       "    </tr>\n",
       "    <tr>\n",
       "      <th>531</th>\n",
       "      <td>17917777327394844</td>\n",
       "      <td>Maaauuuuu</td>\n",
       "      <td>1585829635</td>\n",
       "      <td>False</td>\n",
       "      <td>1365052477</td>\n",
       "      <td>rizalamran1</td>\n",
       "      <td>False</td>\n",
       "      <td>False</td>\n",
       "      <td>0</td>\n",
       "    </tr>\n",
       "    <tr>\n",
       "      <th>693</th>\n",
       "      <td>17873575615616512</td>\n",
       "      <td>Perbulan kan pak wkwkwkwkwkkwwkkwkwkw</td>\n",
       "      <td>1585827914</td>\n",
       "      <td>False</td>\n",
       "      <td>12241578584</td>\n",
       "      <td>littlebibooooo</td>\n",
       "      <td>False</td>\n",
       "      <td>False</td>\n",
       "      <td>0</td>\n",
       "    </tr>\n",
       "    <tr>\n",
       "      <th>907</th>\n",
       "      <td>17849392906993168</td>\n",
       "      <td>Tri bisa?</td>\n",
       "      <td>1585965433</td>\n",
       "      <td>False</td>\n",
       "      <td>1248574058</td>\n",
       "      <td>michellekurniawan__</td>\n",
       "      <td>False</td>\n",
       "      <td>False</td>\n",
       "      <td>0</td>\n",
       "    </tr>\n",
       "    <tr>\n",
       "      <th>505</th>\n",
       "      <td>17856190786888781</td>\n",
       "      <td>Gayeng Pak</td>\n",
       "      <td>1585830377</td>\n",
       "      <td>False</td>\n",
       "      <td>2010064908</td>\n",
       "      <td>amirulaik</td>\n",
       "      <td>False</td>\n",
       "      <td>False</td>\n",
       "      <td>0</td>\n",
       "    </tr>\n",
       "    <tr>\n",
       "      <th>1490</th>\n",
       "      <td>18097400431095474</td>\n",
       "      <td>Kelas pagi cant relate kalo udah normal 😅</td>\n",
       "      <td>1584685931</td>\n",
       "      <td>False</td>\n",
       "      <td>227237259</td>\n",
       "      <td>ramdhianty</td>\n",
       "      <td>False</td>\n",
       "      <td>False</td>\n",
       "      <td>0</td>\n",
       "    </tr>\n",
       "  </tbody>\n",
       "</table>\n",
       "</div>"
      ],
      "text/plain": [
       "                     id                                               text  \\\n",
       "645   18113745121102904           Makin sayang sama bapa ❤️❤️❤️❤️ @kangady   \n",
       "933   18004575091284999  No nya udah ga aktif, tf aja. saya DM no rek s...   \n",
       "1630  17869444855635301  Akhirnya selama kurang lebih 3 taun berada di ...   \n",
       "1014  18113878633101084  Kalau mahasiswa yg masih di bandung kebagian j...   \n",
       "150   17849157523952205                                          @haikalaf   \n",
       "1015  17852044048952856  Min, mahasiswa beserta jajarannya(keluarga) me...   \n",
       "389   18014324485275975  Semoga bisa TA dengan lancar guys @indahnfa_ @...   \n",
       "965   17890534138484068                Makin lama makin keren kampus ini🔥🔥   \n",
       "627   17843758793073798                     Perbulan apa gimana nih pak :)   \n",
       "55    18130588510065992                       @nadilandrry sisteuuurrr!!!!   \n",
       "531   17917777327394844                                          Maaauuuuu   \n",
       "693   17873575615616512              Perbulan kan pak wkwkwkwkwkkwwkkwkwkw   \n",
       "907   17849392906993168                                          Tri bisa?   \n",
       "505   17856190786888781                                         Gayeng Pak   \n",
       "1490  18097400431095474          Kelas pagi cant relate kalo udah normal 😅   \n",
       "\n",
       "      created_at  did_report_as_spam     owner_id  \\\n",
       "645   1585828351               False   1556989819   \n",
       "933   1585925236               False   7915826969   \n",
       "1630  1584489180               False   1529041114   \n",
       "1014  1586178826               False   6117438095   \n",
       "150   1584976445               False   2152997542   \n",
       "1015  1586187131               False   2075832073   \n",
       "389   1585834378               False    884072715   \n",
       "965   1585988992               False   2229289653   \n",
       "627   1585828615               False    583993275   \n",
       "55    1586925982               False   1539490457   \n",
       "531   1585829635               False   1365052477   \n",
       "693   1585827914               False  12241578584   \n",
       "907   1585965433               False   1248574058   \n",
       "505   1585830377               False   2010064908   \n",
       "1490  1584685931               False    227237259   \n",
       "\n",
       "                      owner_username  owner_is_verified  viewer_has_liked  \\\n",
       "645                         mahesarr              False             False   \n",
       "933                     mfikrirmdhan              False             False   \n",
       "1630  imsoskinnyyyyyyyyyyyyyyyyyyyyy              False             False   \n",
       "1014                        febismee              False             False   \n",
       "150                       monaufal26              False             False   \n",
       "1015                         jarhid_              False             False   \n",
       "389                    avisagavrilla              False             False   \n",
       "965                       shamariass              False             False   \n",
       "627                          wwa1810              False             False   \n",
       "55                       firdha_tami              False             False   \n",
       "531                      rizalamran1              False             False   \n",
       "693                   littlebibooooo              False             False   \n",
       "907              michellekurniawan__              False             False   \n",
       "505                        amirulaik              False             False   \n",
       "1490                      ramdhianty              False             False   \n",
       "\n",
       "      likes  \n",
       "645       0  \n",
       "933       0  \n",
       "1630      0  \n",
       "1014      0  \n",
       "150       1  \n",
       "1015      0  \n",
       "389       2  \n",
       "965       0  \n",
       "627       0  \n",
       "55        0  \n",
       "531       0  \n",
       "693       0  \n",
       "907       0  \n",
       "505       0  \n",
       "1490      0  "
      ]
     },
     "execution_count": 4,
     "metadata": {},
     "output_type": "execute_result"
    }
   ],
   "source": [
    "scraped_data.sample(15)"
   ]
  },
  {
   "cell_type": "code",
   "execution_count": 5,
   "metadata": {},
   "outputs": [
    {
     "name": "stdout",
     "output_type": "stream",
     "text": [
      "<class 'pandas.core.frame.DataFrame'>\n",
      "RangeIndex: 1717 entries, 0 to 1716\n",
      "Data columns (total 9 columns):\n",
      "id                    1717 non-null int64\n",
      "text                  1717 non-null object\n",
      "created_at            1717 non-null int64\n",
      "did_report_as_spam    1717 non-null bool\n",
      "owner_id              1717 non-null int64\n",
      "owner_username        1717 non-null object\n",
      "owner_is_verified     1717 non-null bool\n",
      "viewer_has_liked      1717 non-null bool\n",
      "likes                 1717 non-null int64\n",
      "dtypes: bool(3), int64(4), object(2)\n",
      "memory usage: 85.6+ KB\n"
     ]
    }
   ],
   "source": [
    "scraped_data.info()"
   ]
  },
  {
   "cell_type": "code",
   "execution_count": 6,
   "metadata": {},
   "outputs": [
    {
     "data": {
      "text/html": [
       "<div>\n",
       "<style scoped>\n",
       "    .dataframe tbody tr th:only-of-type {\n",
       "        vertical-align: middle;\n",
       "    }\n",
       "\n",
       "    .dataframe tbody tr th {\n",
       "        vertical-align: top;\n",
       "    }\n",
       "\n",
       "    .dataframe thead th {\n",
       "        text-align: right;\n",
       "    }\n",
       "</style>\n",
       "<table border=\"1\" class=\"dataframe\">\n",
       "  <thead>\n",
       "    <tr style=\"text-align: right;\">\n",
       "      <th></th>\n",
       "      <th>text</th>\n",
       "      <th>owner_username</th>\n",
       "    </tr>\n",
       "  </thead>\n",
       "  <tbody>\n",
       "    <tr>\n",
       "      <th>count</th>\n",
       "      <td>1717</td>\n",
       "      <td>1717</td>\n",
       "    </tr>\n",
       "    <tr>\n",
       "      <th>unique</th>\n",
       "      <td>1585</td>\n",
       "      <td>1386</td>\n",
       "    </tr>\n",
       "    <tr>\n",
       "      <th>top</th>\n",
       "      <td>Alhamdulillah</td>\n",
       "      <td>adesatrio</td>\n",
       "    </tr>\n",
       "    <tr>\n",
       "      <th>freq</th>\n",
       "      <td>13</td>\n",
       "      <td>11</td>\n",
       "    </tr>\n",
       "  </tbody>\n",
       "</table>\n",
       "</div>"
      ],
      "text/plain": [
       "                 text owner_username\n",
       "count            1717           1717\n",
       "unique           1585           1386\n",
       "top     Alhamdulillah      adesatrio\n",
       "freq               13             11"
      ]
     },
     "execution_count": 6,
     "metadata": {},
     "output_type": "execute_result"
    }
   ],
   "source": [
    "scraped_data.describe(include=['O'])"
   ]
  },
  {
   "cell_type": "code",
   "execution_count": 7,
   "metadata": {},
   "outputs": [
    {
     "data": {
      "text/plain": [
       "id                    0\n",
       "text                  0\n",
       "created_at            0\n",
       "did_report_as_spam    0\n",
       "owner_id              0\n",
       "owner_username        0\n",
       "owner_is_verified     0\n",
       "viewer_has_liked      0\n",
       "likes                 0\n",
       "dtype: int64"
      ]
     },
     "execution_count": 7,
     "metadata": {},
     "output_type": "execute_result"
    }
   ],
   "source": [
    "scraped_data.isna().sum()"
   ]
  },
  {
   "cell_type": "markdown",
   "metadata": {},
   "source": [
    "Yang dapat disimpulkan :\n",
    "- Terdapat emoji pada column text (challenge dalam penentuan label)\n",
    "- User yang sering comment pada post Telkomuniversity adalah adesatrio dengan frekuensi 11 kali\n",
    "- Ada komentar yang sama dan dipost berulang oleh akun yang berbeda\n",
    "- Tidak ada missing values, tapi cukup banyak noise pada kolom text"
   ]
  },
  {
   "cell_type": "markdown",
   "metadata": {},
   "source": [
    "## Cleansing and Slicing"
   ]
  },
  {
   "cell_type": "code",
   "execution_count": 8,
   "metadata": {},
   "outputs": [],
   "source": [
    "input_data = scraped_data.dropna().reset_index(drop=True).loc[:,'text']\n",
    "input_data.to_csv('scraped_all_data.csv')"
   ]
  },
  {
   "cell_type": "code",
   "execution_count": 9,
   "metadata": {},
   "outputs": [],
   "source": [
    "emoji_enc = {}\n",
    "for idx, row in pd.read_csv('emojis.csv').iterrows():\n",
    "    emoji_enc[row.emoji] = row.meaning\n",
    "def replace_emoji(text, emoji_enc):\n",
    "    SMILEY = {\n",
    "        \":(\" : \"sedih\",\n",
    "        \":)\" : \"bahagia\",\n",
    "        \":/\" : \"skeptis\",\n",
    "        \":p\" : \"ejek\",\n",
    "        \":P\" : \"ejek\",\n",
    "        \":-(\" : \"sedih\",\n",
    "        \":-)\" : \"bahagia\",\n",
    "        \":-/\" : \"skeptis\",\n",
    "        \":-p\" : \"ejek\",\n",
    "        \":-P\" : \"ejek\",\n",
    "    }\n",
    "    SMILEY = {**SMILEY, **emoji_enc}\n",
    "    words = text.split()\n",
    "    reformed = [SMILEY[word] if word in SMILEY else word for word in words]\n",
    "    hasil = \" \".join(reformed)\n",
    "    \n",
    "    hasil = emoji.demojize(hasil)\n",
    "    hasil = hasil.replace(\":\",\" \")\n",
    "    hasil = \" \".join(hasil.split())\n",
    "    \n",
    "    return hasil\n",
    "def remove_punctuations(text):\n",
    "    return \" \".join(re.sub(\"[\\.\\,\\!\\?\\:\\;\\-\\=]\", \" \",text).split())\n",
    "def remove_hashtags(text):\n",
    "    return ' '.join(re.sub(\"(@[A-Za-z0-9]+)|(#[A-Za-z0-9]+)\", \" \", text).split())\n",
    "def remove_urls(text):\n",
    "    return ' '.join(re.sub(\"(\\w+:\\/\\/\\S+)\", \" \", text).split())\n",
    "def get_lower(text):\n",
    "    return text.lower()\n"
   ]
  },
  {
   "cell_type": "code",
   "execution_count": 10,
   "metadata": {},
   "outputs": [],
   "source": [
    "many_text = input_data.to_list()\n",
    "many_text = [remove_urls(text) for text in many_text]\n",
    "many_text = [text.lower() for text in many_text]\n",
    "many_text = [replace_emoji(text, emoji_enc=emoji_enc) for text in many_text]\n",
    "many_text = [remove_punctuations(text) for text in many_text]\n",
    "many_text = [remove_hashtags(text) for text in many_text]\n",
    "many_text = [text.replace('_', \" \") for text in many_text]"
   ]
  },
  {
   "cell_type": "code",
   "execution_count": 11,
   "metadata": {},
   "outputs": [
    {
     "data": {
      "text/html": [
       "<div>\n",
       "<style scoped>\n",
       "    .dataframe tbody tr th:only-of-type {\n",
       "        vertical-align: middle;\n",
       "    }\n",
       "\n",
       "    .dataframe tbody tr th {\n",
       "        vertical-align: top;\n",
       "    }\n",
       "\n",
       "    .dataframe thead th {\n",
       "        text-align: right;\n",
       "    }\n",
       "</style>\n",
       "<table border=\"1\" class=\"dataframe\">\n",
       "  <thead>\n",
       "    <tr style=\"text-align: right;\">\n",
       "      <th></th>\n",
       "      <th>text</th>\n",
       "    </tr>\n",
       "  </thead>\n",
       "  <tbody>\n",
       "    <tr>\n",
       "      <th>0</th>\n",
       "      <td>g bsa d buka ya min</td>\n",
       "    </tr>\n",
       "    <tr>\n",
       "      <th>1</th>\n",
       "      <td>kuota mana kuota</td>\n",
       "    </tr>\n",
       "    <tr>\n",
       "      <th>2</th>\n",
       "      <td>subsidi kuota mana</td>\n",
       "    </tr>\n",
       "    <tr>\n",
       "      <th>3</th>\n",
       "      <td>kuota mana kuota min</td>\n",
       "    </tr>\n",
       "    <tr>\n",
       "      <th>4</th>\n",
       "      <td>kuota min face with tears of joy</td>\n",
       "    </tr>\n",
       "    <tr>\n",
       "      <th>...</th>\n",
       "      <td>...</td>\n",
       "    </tr>\n",
       "    <tr>\n",
       "      <th>1712</th>\n",
       "      <td>fire fire fire</td>\n",
       "    </tr>\n",
       "    <tr>\n",
       "      <th>1713</th>\n",
       "      <td>backsoudnya lo fi gini</td>\n",
       "    </tr>\n",
       "    <tr>\n",
       "      <th>1714</th>\n",
       "      <td>min saya mau tny sesuatu udh dm ig mention twi...</td>\n",
       "    </tr>\n",
       "    <tr>\n",
       "      <th>1715</th>\n",
       "      <td>ayo ikut hel we are an international students ...</td>\n",
       "    </tr>\n",
       "    <tr>\n",
       "      <th>1716</th>\n",
       "      <td>kuota gemana min sedih</td>\n",
       "    </tr>\n",
       "  </tbody>\n",
       "</table>\n",
       "<p>1717 rows × 1 columns</p>\n",
       "</div>"
      ],
      "text/plain": [
       "                                                   text\n",
       "0                                   g bsa d buka ya min\n",
       "1                                      kuota mana kuota\n",
       "2                                    subsidi kuota mana\n",
       "3                                  kuota mana kuota min\n",
       "4                      kuota min face with tears of joy\n",
       "...                                                 ...\n",
       "1712                                     fire fire fire\n",
       "1713                             backsoudnya lo fi gini\n",
       "1714  min saya mau tny sesuatu udh dm ig mention twi...\n",
       "1715  ayo ikut hel we are an international students ...\n",
       "1716                             kuota gemana min sedih\n",
       "\n",
       "[1717 rows x 1 columns]"
      ]
     },
     "execution_count": 11,
     "metadata": {},
     "output_type": "execute_result"
    }
   ],
   "source": [
    "input_data = pd.Series((v for v in many_text)).to_frame(name='text')\n",
    "input_data = input_data.dropna()\n",
    "input_data"
   ]
  },
  {
   "cell_type": "markdown",
   "metadata": {},
   "source": [
    "## Preprocessing"
   ]
  },
  {
   "cell_type": "markdown",
   "metadata": {},
   "source": [
    "### Cluster-based Labeling"
   ]
  },
  {
   "cell_type": "code",
   "execution_count": 12,
   "metadata": {},
   "outputs": [],
   "source": [
    "def text_to_word_list(text):\n",
    "    text = str(text)\n",
    "    text = text.split()\n",
    "    return text"
   ]
  },
  {
   "cell_type": "code",
   "execution_count": 13,
   "metadata": {},
   "outputs": [],
   "source": [
    "input_data.text = input_data.text.apply(lambda x: text_to_word_list(x))\n",
    "word_list = input_data.copy()"
   ]
  },
  {
   "cell_type": "code",
   "execution_count": 14,
   "metadata": {},
   "outputs": [
    {
     "data": {
      "text/plain": [
       "['g', 'bsa', 'd', 'buka', 'ya', 'min']"
      ]
     },
     "execution_count": 14,
     "metadata": {},
     "output_type": "execute_result"
    }
   ],
   "source": [
    "sent = [row for row in word_list.text]\n",
    "sentences = []\n",
    "for row in sent:\n",
    "    sentence = []\n",
    "    for word in row:\n",
    "        sentence.append(word)\n",
    "    sentences.append(sentence)\n",
    "sentences[0]"
   ]
  },
  {
   "cell_type": "code",
   "execution_count": 15,
   "metadata": {},
   "outputs": [
    {
     "name": "stdout",
     "output_type": "stream",
     "text": [
      "Time to build vocab: 0.0 mins\n"
     ]
    }
   ],
   "source": [
    "w2v_model = Word2Vec(min_count=3,\n",
    "                     window=4,\n",
    "                     size=300,\n",
    "                     sample=1e-5, \n",
    "                     alpha=0.03, \n",
    "                     min_alpha=0.0007, \n",
    "                     negative=20,\n",
    "                     workers=multiprocessing.cpu_count()-1)\n",
    "start = time()\n",
    "\n",
    "w2v_model.build_vocab(sentences, progress_per=50000)\n",
    "\n",
    "print('Time to build vocab: {} mins'.format(round((time() - start) / 60, 2)))"
   ]
  },
  {
   "cell_type": "code",
   "execution_count": 16,
   "metadata": {},
   "outputs": [
    {
     "name": "stdout",
     "output_type": "stream",
     "text": [
      "Time to train the model: 0.01 mins\n"
     ]
    }
   ],
   "source": [
    "start = time()\n",
    "\n",
    "w2v_model.train(sentences, total_examples=w2v_model.corpus_count, epochs=30, report_delay=1)\n",
    "\n",
    "print('Time to train the model: {} mins'.format(round((time() - start) / 60, 2)))\n",
    "\n",
    "w2v_model.init_sims(replace=True)"
   ]
  },
  {
   "cell_type": "code",
   "execution_count": 17,
   "metadata": {},
   "outputs": [],
   "source": [
    "w2v_model.save(\"word2vec.model\")"
   ]
  },
  {
   "cell_type": "code",
   "execution_count": 18,
   "metadata": {},
   "outputs": [],
   "source": [
    "file_export = word_list.copy()\n",
    "file_export['old_comment'] = file_export.text\n",
    "file_export.old_comment = file_export.old_comment.str.join(' ')\n",
    "file_export.text = file_export.text.str.join(' ')\n",
    "file_export['rate'] = np.zeros(len(file_export.text))"
   ]
  },
  {
   "cell_type": "code",
   "execution_count": 19,
   "metadata": {},
   "outputs": [],
   "source": [
    "file_export[['text', 'rate']].to_csv('cleaned_dataset.csv', index=False)"
   ]
  },
  {
   "cell_type": "markdown",
   "metadata": {},
   "source": [
    "####  Clustering"
   ]
  },
  {
   "cell_type": "code",
   "execution_count": 20,
   "metadata": {},
   "outputs": [],
   "source": [
    "word_vectors = Word2Vec.load(\"word2vec.model\").wv"
   ]
  },
  {
   "cell_type": "code",
   "execution_count": 21,
   "metadata": {},
   "outputs": [],
   "source": [
    "model = KMeans(n_clusters=2, max_iter=1000, random_state=True, n_init=50).fit(X=word_vectors.vectors)"
   ]
  },
  {
   "cell_type": "code",
   "execution_count": 22,
   "metadata": {},
   "outputs": [
    {
     "data": {
      "text/plain": [
       "[('dan', 0.9997967481613159),\n",
       " ('yg', 0.9997634887695312),\n",
       " ('yang', 0.9997410178184509),\n",
       " ('saya', 0.9997267723083496),\n",
       " ('untuk', 0.9997119903564453),\n",
       " ('ke', 0.999695897102356),\n",
       " ('baik', 0.9996850490570068),\n",
       " ('kami', 0.9996784925460815),\n",
       " ('ini', 0.9996772408485413),\n",
       " ('kita', 0.9996473789215088),\n",
       " ('tugas', 0.9996228218078613),\n",
       " ('di', 0.9996005296707153),\n",
       " ('temen', 0.9995882511138916),\n",
       " ('mau', 0.9995766878128052),\n",
       " ('luar', 0.9995729923248291),\n",
       " ('lebih', 0.9995472431182861),\n",
       " ('pak', 0.999531626701355),\n",
       " ('mereka', 0.9994966983795166),\n",
       " ('face', 0.9994845390319824),\n",
       " ('kondisi', 0.9994844198226929)]"
      ]
     },
     "execution_count": 22,
     "metadata": {},
     "output_type": "execute_result"
    }
   ],
   "source": [
    "word_vectors.similar_by_vector(model.cluster_centers_[0], topn=20, restrict_vocab=None)"
   ]
  },
  {
   "cell_type": "code",
   "execution_count": 23,
   "metadata": {},
   "outputs": [],
   "source": [
    "negative_cluster_center = model.cluster_centers_[0]\n",
    "positive_cluster_center = model.cluster_centers_[1]"
   ]
  },
  {
   "cell_type": "code",
   "execution_count": 24,
   "metadata": {},
   "outputs": [],
   "source": [
    "words = pd.DataFrame(word_vectors.vocab.keys())\n",
    "words.columns = ['words']\n",
    "words['vectors'] = words.words.apply(lambda x: word_vectors.wv[f'{x}'])\n",
    "words['cluster'] = words.vectors.apply(lambda x: model.predict([np.array(x)]))\n",
    "words.cluster = words.cluster.apply(lambda x: x[0])"
   ]
  },
  {
   "cell_type": "code",
   "execution_count": 25,
   "metadata": {},
   "outputs": [],
   "source": [
    "words['cluster_value'] = [1 if i==0 else -1 for i in words.cluster]\n",
    "words['closeness_score'] = words.apply(lambda x: 1/(model.transform([x.vectors]).min()), axis=1)\n",
    "words['sentiment_coeff'] = words.closeness_score * words.cluster_value"
   ]
  },
  {
   "cell_type": "code",
   "execution_count": 26,
   "metadata": {},
   "outputs": [
    {
     "data": {
      "text/html": [
       "<div>\n",
       "<style scoped>\n",
       "    .dataframe tbody tr th:only-of-type {\n",
       "        vertical-align: middle;\n",
       "    }\n",
       "\n",
       "    .dataframe tbody tr th {\n",
       "        vertical-align: top;\n",
       "    }\n",
       "\n",
       "    .dataframe thead th {\n",
       "        text-align: right;\n",
       "    }\n",
       "</style>\n",
       "<table border=\"1\" class=\"dataframe\">\n",
       "  <thead>\n",
       "    <tr style=\"text-align: right;\">\n",
       "      <th></th>\n",
       "      <th>words</th>\n",
       "      <th>vectors</th>\n",
       "      <th>cluster</th>\n",
       "      <th>cluster_value</th>\n",
       "      <th>closeness_score</th>\n",
       "      <th>sentiment_coeff</th>\n",
       "    </tr>\n",
       "  </thead>\n",
       "  <tbody>\n",
       "    <tr>\n",
       "      <th>482</th>\n",
       "      <td>skripsi</td>\n",
       "      <td>[0.040842466, -0.08048584, 0.08156676, 0.07119...</td>\n",
       "      <td>1</td>\n",
       "      <td>-1</td>\n",
       "      <td>1.046402</td>\n",
       "      <td>-1.046402</td>\n",
       "    </tr>\n",
       "    <tr>\n",
       "      <th>522</th>\n",
       "      <td>nihh</td>\n",
       "      <td>[-0.038431678, -0.07205526, 0.063154854, -0.07...</td>\n",
       "      <td>1</td>\n",
       "      <td>-1</td>\n",
       "      <td>1.047172</td>\n",
       "      <td>-1.047172</td>\n",
       "    </tr>\n",
       "    <tr>\n",
       "      <th>569</th>\n",
       "      <td>mabar</td>\n",
       "      <td>[-0.051131383, -0.04649969, -0.04437185, 0.107...</td>\n",
       "      <td>1</td>\n",
       "      <td>-1</td>\n",
       "      <td>1.047215</td>\n",
       "      <td>-1.047215</td>\n",
       "    </tr>\n",
       "    <tr>\n",
       "      <th>580</th>\n",
       "      <td>gw</td>\n",
       "      <td>[0.028070616, 0.046312366, 0.06287358, 0.01202...</td>\n",
       "      <td>1</td>\n",
       "      <td>-1</td>\n",
       "      <td>1.129936</td>\n",
       "      <td>-1.129936</td>\n",
       "    </tr>\n",
       "    <tr>\n",
       "      <th>584</th>\n",
       "      <td>ah</td>\n",
       "      <td>[-0.058870878, 0.004142443, -0.017719058, 0.06...</td>\n",
       "      <td>1</td>\n",
       "      <td>-1</td>\n",
       "      <td>1.001101</td>\n",
       "      <td>-1.001101</td>\n",
       "    </tr>\n",
       "    <tr>\n",
       "      <th>611</th>\n",
       "      <td>beating</td>\n",
       "      <td>[0.063533224, 0.0043178145, 0.08682576, 0.0215...</td>\n",
       "      <td>1</td>\n",
       "      <td>-1</td>\n",
       "      <td>1.117033</td>\n",
       "      <td>-1.117033</td>\n",
       "    </tr>\n",
       "    <tr>\n",
       "      <th>612</th>\n",
       "      <td>linkaja</td>\n",
       "      <td>[-0.0775758, 0.024287991, -0.014779454, 0.0290...</td>\n",
       "      <td>1</td>\n",
       "      <td>-1</td>\n",
       "      <td>1.100714</td>\n",
       "      <td>-1.100714</td>\n",
       "    </tr>\n",
       "    <tr>\n",
       "      <th>628</th>\n",
       "      <td>kerenn</td>\n",
       "      <td>[-0.077212155, -0.08251313, -0.046586927, 0.00...</td>\n",
       "      <td>1</td>\n",
       "      <td>-1</td>\n",
       "      <td>1.004586</td>\n",
       "      <td>-1.004586</td>\n",
       "    </tr>\n",
       "    <tr>\n",
       "      <th>644</th>\n",
       "      <td>alhamdulillahhh</td>\n",
       "      <td>[-0.04113323, 0.0138619635, 0.061763275, -0.00...</td>\n",
       "      <td>1</td>\n",
       "      <td>-1</td>\n",
       "      <td>1.109582</td>\n",
       "      <td>-1.109582</td>\n",
       "    </tr>\n",
       "    <tr>\n",
       "      <th>645</th>\n",
       "      <td>bang</td>\n",
       "      <td>[0.021993967, 0.09041176, -0.04497371, 0.04844...</td>\n",
       "      <td>1</td>\n",
       "      <td>-1</td>\n",
       "      <td>1.022358</td>\n",
       "      <td>-1.022358</td>\n",
       "    </tr>\n",
       "    <tr>\n",
       "      <th>648</th>\n",
       "      <td>wuih</td>\n",
       "      <td>[-0.042077653, -0.05613057, 0.09168335, 0.0370...</td>\n",
       "      <td>1</td>\n",
       "      <td>-1</td>\n",
       "      <td>1.055549</td>\n",
       "      <td>-1.055549</td>\n",
       "    </tr>\n",
       "    <tr>\n",
       "      <th>680</th>\n",
       "      <td>mask</td>\n",
       "      <td>[-0.018109374, 0.03669559, 0.020224929, 0.0743...</td>\n",
       "      <td>1</td>\n",
       "      <td>-1</td>\n",
       "      <td>1.064303</td>\n",
       "      <td>-1.064303</td>\n",
       "    </tr>\n",
       "    <tr>\n",
       "      <th>699</th>\n",
       "      <td>kerennn</td>\n",
       "      <td>[-0.028430218, 0.09786054, -0.09148283, 0.0952...</td>\n",
       "      <td>1</td>\n",
       "      <td>-1</td>\n",
       "      <td>1.033369</td>\n",
       "      <td>-1.033369</td>\n",
       "    </tr>\n",
       "    <tr>\n",
       "      <th>700</th>\n",
       "      <td>strm</td>\n",
       "      <td>[-0.06918184, -0.021259606, 0.06536111, 0.0532...</td>\n",
       "      <td>1</td>\n",
       "      <td>-1</td>\n",
       "      <td>1.113084</td>\n",
       "      <td>-1.113084</td>\n",
       "    </tr>\n",
       "    <tr>\n",
       "      <th>701</th>\n",
       "      <td>masyaallah</td>\n",
       "      <td>[-0.06555116, -0.032245673, 0.0861685, 0.08282...</td>\n",
       "      <td>1</td>\n",
       "      <td>-1</td>\n",
       "      <td>1.103266</td>\n",
       "      <td>-1.103266</td>\n",
       "    </tr>\n",
       "    <tr>\n",
       "      <th>745</th>\n",
       "      <td>kursi</td>\n",
       "      <td>[0.055272, -0.02252886, -0.036262464, -0.02321...</td>\n",
       "      <td>1</td>\n",
       "      <td>-1</td>\n",
       "      <td>1.049847</td>\n",
       "      <td>-1.049847</td>\n",
       "    </tr>\n",
       "  </tbody>\n",
       "</table>\n",
       "</div>"
      ],
      "text/plain": [
       "               words                                            vectors  \\\n",
       "482          skripsi  [0.040842466, -0.08048584, 0.08156676, 0.07119...   \n",
       "522             nihh  [-0.038431678, -0.07205526, 0.063154854, -0.07...   \n",
       "569            mabar  [-0.051131383, -0.04649969, -0.04437185, 0.107...   \n",
       "580               gw  [0.028070616, 0.046312366, 0.06287358, 0.01202...   \n",
       "584               ah  [-0.058870878, 0.004142443, -0.017719058, 0.06...   \n",
       "611          beating  [0.063533224, 0.0043178145, 0.08682576, 0.0215...   \n",
       "612          linkaja  [-0.0775758, 0.024287991, -0.014779454, 0.0290...   \n",
       "628           kerenn  [-0.077212155, -0.08251313, -0.046586927, 0.00...   \n",
       "644  alhamdulillahhh  [-0.04113323, 0.0138619635, 0.061763275, -0.00...   \n",
       "645             bang  [0.021993967, 0.09041176, -0.04497371, 0.04844...   \n",
       "648             wuih  [-0.042077653, -0.05613057, 0.09168335, 0.0370...   \n",
       "680             mask  [-0.018109374, 0.03669559, 0.020224929, 0.0743...   \n",
       "699          kerennn  [-0.028430218, 0.09786054, -0.09148283, 0.0952...   \n",
       "700             strm  [-0.06918184, -0.021259606, 0.06536111, 0.0532...   \n",
       "701       masyaallah  [-0.06555116, -0.032245673, 0.0861685, 0.08282...   \n",
       "745            kursi  [0.055272, -0.02252886, -0.036262464, -0.02321...   \n",
       "\n",
       "     cluster  cluster_value  closeness_score  sentiment_coeff  \n",
       "482        1             -1         1.046402        -1.046402  \n",
       "522        1             -1         1.047172        -1.047172  \n",
       "569        1             -1         1.047215        -1.047215  \n",
       "580        1             -1         1.129936        -1.129936  \n",
       "584        1             -1         1.001101        -1.001101  \n",
       "611        1             -1         1.117033        -1.117033  \n",
       "612        1             -1         1.100714        -1.100714  \n",
       "628        1             -1         1.004586        -1.004586  \n",
       "644        1             -1         1.109582        -1.109582  \n",
       "645        1             -1         1.022358        -1.022358  \n",
       "648        1             -1         1.055549        -1.055549  \n",
       "680        1             -1         1.064303        -1.064303  \n",
       "699        1             -1         1.033369        -1.033369  \n",
       "700        1             -1         1.113084        -1.113084  \n",
       "701        1             -1         1.103266        -1.103266  \n",
       "745        1             -1         1.049847        -1.049847  "
      ]
     },
     "execution_count": 26,
     "metadata": {},
     "output_type": "execute_result"
    }
   ],
   "source": [
    "words.loc[words['cluster']==1]"
   ]
  },
  {
   "cell_type": "code",
   "execution_count": 27,
   "metadata": {},
   "outputs": [],
   "source": [
    "words[['words', 'sentiment_coeff']].to_csv('sentiment_dictionary.csv', index=False)"
   ]
  },
  {
   "cell_type": "code",
   "execution_count": 28,
   "metadata": {},
   "outputs": [
    {
     "data": {
      "text/plain": [
       "'subsidi kuota mana'"
      ]
     },
     "metadata": {},
     "output_type": "display_data"
    }
   ],
   "source": [
    "final_file = pd.read_csv('cleaned_dataset.csv')\n",
    "final_file = final_file.dropna(subset=['text'])\n",
    "sentiment_map = pd.read_csv('sentiment_dictionary.csv')\n",
    "sentiment_dict = dict(zip(sentiment_map.words.values, sentiment_map.sentiment_coeff.values))\n",
    "\n",
    "file_weighting = final_file.copy()\n",
    "display(file_weighting.text.iloc[2])"
   ]
  },
  {
   "cell_type": "code",
   "execution_count": 29,
   "metadata": {},
   "outputs": [],
   "source": [
    "def replace_sentiment_words(word, sentiment_dict):\n",
    "    '''\n",
    "    replacing each word with its associated sentiment score from sentiment dict\n",
    "    '''\n",
    "    try:\n",
    "        out = sentiment_dict[word]\n",
    "    except KeyError:\n",
    "        out = 0\n",
    "    return out"
   ]
  },
  {
   "cell_type": "code",
   "execution_count": 30,
   "metadata": {},
   "outputs": [
    {
     "data": {
      "text/plain": [
       "0       [2.436371903676394, 3.999863239625364, 4.61563...\n",
       "1       [20.400002087964094, 7.75550262385769, 20.4000...\n",
       "2       [16.424541165590494, 20.400002087964094, 7.755...\n",
       "3       [20.400002087964094, 7.75550262385769, 20.4000...\n",
       "4       [20.400002087964094, 16.077804316996474, 23.94...\n",
       "                              ...                        \n",
       "1712    [7.496338617675973, 7.496338617675973, 7.49633...\n",
       "1713          [0, 2.59987800119642, 0, 7.179746413221072]\n",
       "1714    [16.077804316996474, 28.038398044701818, 25.28...\n",
       "1715    [1.8794406205241505, 10.751109273674242, 0, 6....\n",
       "1716    [20.400002087964094, 0, 16.077804316996474, 10...\n",
       "Name: text, Length: 1636, dtype: object"
      ]
     },
     "metadata": {},
     "output_type": "display_data"
    }
   ],
   "source": [
    "replaced_closeness_scores = file_weighting.text.apply(lambda x: list(map(lambda y: replace_sentiment_words(y, sentiment_dict), x.split())))\n",
    "display(replaced_closeness_scores)"
   ]
  },
  {
   "cell_type": "code",
   "execution_count": 31,
   "metadata": {},
   "outputs": [
    {
     "data": {
      "text/html": [
       "<div>\n",
       "<style scoped>\n",
       "    .dataframe tbody tr th:only-of-type {\n",
       "        vertical-align: middle;\n",
       "    }\n",
       "\n",
       "    .dataframe tbody tr th {\n",
       "        vertical-align: top;\n",
       "    }\n",
       "\n",
       "    .dataframe thead th {\n",
       "        text-align: right;\n",
       "    }\n",
       "</style>\n",
       "<table border=\"1\" class=\"dataframe\">\n",
       "  <thead>\n",
       "    <tr style=\"text-align: right;\">\n",
       "      <th></th>\n",
       "      <th>sentiment_coeff</th>\n",
       "      <th>sentence</th>\n",
       "      <th>sentiment</th>\n",
       "      <th>sentiment_rate</th>\n",
       "    </tr>\n",
       "  </thead>\n",
       "  <tbody>\n",
       "    <tr>\n",
       "      <th>0</th>\n",
       "      <td>[2.436371903676394, 3.999863239625364, 4.61563...</td>\n",
       "      <td>g bsa d buka ya min</td>\n",
       "      <td>0</td>\n",
       "      <td>8.947300</td>\n",
       "    </tr>\n",
       "    <tr>\n",
       "      <th>1</th>\n",
       "      <td>[20.400002087964094, 7.75550262385769, 20.4000...</td>\n",
       "      <td>kuota mana kuota</td>\n",
       "      <td>0</td>\n",
       "      <td>16.185169</td>\n",
       "    </tr>\n",
       "    <tr>\n",
       "      <th>2</th>\n",
       "      <td>[16.424541165590494, 20.400002087964094, 7.755...</td>\n",
       "      <td>subsidi kuota mana</td>\n",
       "      <td>0</td>\n",
       "      <td>14.860015</td>\n",
       "    </tr>\n",
       "    <tr>\n",
       "      <th>3</th>\n",
       "      <td>[20.400002087964094, 7.75550262385769, 20.4000...</td>\n",
       "      <td>kuota mana kuota min</td>\n",
       "      <td>0</td>\n",
       "      <td>16.158328</td>\n",
       "    </tr>\n",
       "    <tr>\n",
       "      <th>4</th>\n",
       "      <td>[20.400002087964094, 16.077804316996474, 23.94...</td>\n",
       "      <td>kuota min face with tears of joy</td>\n",
       "      <td>0</td>\n",
       "      <td>17.930971</td>\n",
       "    </tr>\n",
       "  </tbody>\n",
       "</table>\n",
       "</div>"
      ],
      "text/plain": [
       "                                     sentiment_coeff  \\\n",
       "0  [2.436371903676394, 3.999863239625364, 4.61563...   \n",
       "1  [20.400002087964094, 7.75550262385769, 20.4000...   \n",
       "2  [16.424541165590494, 20.400002087964094, 7.755...   \n",
       "3  [20.400002087964094, 7.75550262385769, 20.4000...   \n",
       "4  [20.400002087964094, 16.077804316996474, 23.94...   \n",
       "\n",
       "                           sentence sentiment  sentiment_rate  \n",
       "0               g bsa d buka ya min         0        8.947300  \n",
       "1                  kuota mana kuota         0       16.185169  \n",
       "2                subsidi kuota mana         0       14.860015  \n",
       "3              kuota mana kuota min         0       16.158328  \n",
       "4  kuota min face with tears of joy         0       17.930971  "
      ]
     },
     "metadata": {},
     "output_type": "display_data"
    }
   ],
   "source": [
    "replacement_df = pd.DataFrame(data=[replaced_closeness_scores, file_weighting.text, file_weighting.rate]).T\n",
    "replacement_df.columns = ['sentiment_coeff', 'sentence', 'sentiment']\n",
    "replacement_df['sentiment_rate'] = replacement_df.apply(lambda x: np.average(np.array(x.loc['sentiment_coeff'])), axis=1)\n",
    "display(replacement_df.head(5))"
   ]
  },
  {
   "cell_type": "code",
   "execution_count": 32,
   "metadata": {},
   "outputs": [
    {
     "data": {
      "text/html": [
       "<div>\n",
       "<style scoped>\n",
       "    .dataframe tbody tr th:only-of-type {\n",
       "        vertical-align: middle;\n",
       "    }\n",
       "\n",
       "    .dataframe tbody tr th {\n",
       "        vertical-align: top;\n",
       "    }\n",
       "\n",
       "    .dataframe thead th {\n",
       "        text-align: right;\n",
       "    }\n",
       "</style>\n",
       "<table border=\"1\" class=\"dataframe\">\n",
       "  <thead>\n",
       "    <tr style=\"text-align: right;\">\n",
       "      <th></th>\n",
       "      <th>sentence</th>\n",
       "      <th>sentiment</th>\n",
       "    </tr>\n",
       "  </thead>\n",
       "  <tbody>\n",
       "    <tr>\n",
       "      <th>0</th>\n",
       "      <td>g bsa d buka ya min</td>\n",
       "      <td>1</td>\n",
       "    </tr>\n",
       "    <tr>\n",
       "      <th>1</th>\n",
       "      <td>kuota mana kuota</td>\n",
       "      <td>1</td>\n",
       "    </tr>\n",
       "    <tr>\n",
       "      <th>2</th>\n",
       "      <td>subsidi kuota mana</td>\n",
       "      <td>1</td>\n",
       "    </tr>\n",
       "    <tr>\n",
       "      <th>3</th>\n",
       "      <td>kuota mana kuota min</td>\n",
       "      <td>1</td>\n",
       "    </tr>\n",
       "    <tr>\n",
       "      <th>4</th>\n",
       "      <td>kuota min face with tears of joy</td>\n",
       "      <td>1</td>\n",
       "    </tr>\n",
       "    <tr>\n",
       "      <th>...</th>\n",
       "      <td>...</td>\n",
       "      <td>...</td>\n",
       "    </tr>\n",
       "    <tr>\n",
       "      <th>1712</th>\n",
       "      <td>fire fire fire</td>\n",
       "      <td>1</td>\n",
       "    </tr>\n",
       "    <tr>\n",
       "      <th>1713</th>\n",
       "      <td>backsoudnya lo fi gini</td>\n",
       "      <td>1</td>\n",
       "    </tr>\n",
       "    <tr>\n",
       "      <th>1714</th>\n",
       "      <td>min saya mau tny sesuatu udh dm ig mention twi...</td>\n",
       "      <td>1</td>\n",
       "    </tr>\n",
       "    <tr>\n",
       "      <th>1715</th>\n",
       "      <td>ayo ikut hel we are an international students ...</td>\n",
       "      <td>1</td>\n",
       "    </tr>\n",
       "    <tr>\n",
       "      <th>1716</th>\n",
       "      <td>kuota gemana min sedih</td>\n",
       "      <td>1</td>\n",
       "    </tr>\n",
       "  </tbody>\n",
       "</table>\n",
       "<p>1636 rows × 2 columns</p>\n",
       "</div>"
      ],
      "text/plain": [
       "                                               sentence  sentiment\n",
       "0                                   g bsa d buka ya min          1\n",
       "1                                      kuota mana kuota          1\n",
       "2                                    subsidi kuota mana          1\n",
       "3                                  kuota mana kuota min          1\n",
       "4                      kuota min face with tears of joy          1\n",
       "...                                                 ...        ...\n",
       "1712                                     fire fire fire          1\n",
       "1713                             backsoudnya lo fi gini          1\n",
       "1714  min saya mau tny sesuatu udh dm ig mention twi...          1\n",
       "1715  ayo ikut hel we are an international students ...          1\n",
       "1716                             kuota gemana min sedih          1\n",
       "\n",
       "[1636 rows x 2 columns]"
      ]
     },
     "execution_count": 32,
     "metadata": {},
     "output_type": "execute_result"
    }
   ],
   "source": [
    "replacement_df['sentiment'] = replacement_df.apply(lambda x: 1 if x.loc['sentiment_rate']>0 else 0, axis=1)\n",
    "\n",
    "replacement_df[['sentence', 'sentiment']]"
   ]
  },
  {
   "cell_type": "code",
   "execution_count": 33,
   "metadata": {},
   "outputs": [],
   "source": [
    "replacement_df.to_csv('labeled_data.csv', index=False)"
   ]
  },
  {
   "cell_type": "markdown",
   "metadata": {},
   "source": [
    "### Modeling"
   ]
  },
  {
   "cell_type": "code",
   "execution_count": 34,
   "metadata": {},
   "outputs": [],
   "source": [
    "cleaned_data = pd.read_csv('labeled_data.csv')\n",
    "comments = cleaned_data['sentence']\n",
    "comments = comments.tolist()\n",
    "all_word = []\n",
    "for comment in comments:\n",
    "    for word in comment.split():\n",
    "        all_word.append(word)"
   ]
  },
  {
   "cell_type": "code",
   "execution_count": 35,
   "metadata": {},
   "outputs": [
    {
     "name": "stdout",
     "output_type": "stream",
     "text": [
      "{'face': 1, 'heart': 2, 'pak': 3, 'with': 4, 'hands': 5, 'kuota': 6, 'di': 7, 'fire': 8, 'red': 9, 'ya': 10, 'smiling': 11, 'min': 12, 'eyes': 13, 'folded': 14, 'ga': 15, 'yg': 16, 'ini': 17, 'ada': 18, 'crying': 19, 'bisa': 20, 'up': 21, 'nya': 22, 'loudly': 23, 'thumbs': 24, 'saya': 25, 'alhamdulillah': 26, 'dan': 27, 'aja': 28, 'juga': 29, 'yang': 30, 'dong': 31, 'telkom': 32, 'buat': 33, 'nih': 34, 'mau': 35, 'untuk': 36, 'subsidi': 37, 'gimana': 38, 'mana': 39, 'kalo': 40, 'semoga': 41, 'bpp': 42, 'mantap': 43, 'of': 44, 'ke': 45, 'online': 46, 'tears': 47, 'joy': 48, 'skin': 49, 'tone': 50, 'u': 51, 'light': 52, 'kita': 53, 'jadi': 54, 'gak': 55, 'kampus': 56, 'kuliah': 57, 'mahasiswa': 58, 'pake': 59, 'keren': 60, 'tugas': 61, 'kasih': 62, 'atau': 63, 'punten': 64, 'kan': 65, 'sedih': 66, 'apa': 67, 'itu': 68, 'udah': 69, 'terima': 70, 'dari': 71, 'the': 72, 'semua': 73, 'rektor': 74, 'kapan': 75, 'jangan': 76, 'clapping': 77, 'wifi': 78, 'sama': 79, 'lagi': 80, 'kak': 81, 'terimakasih': 82, 'tidak': 83, 'kami': 84, 'telkomsel': 85, 'apakah': 86, 'masih': 87, 'semangat': 88, 'rolling': 89, 'sampe': 90, 'bukan': 91, 'dengan': 92, 'wkwk': 93, 'grinning': 94, 'beaming': 95, 'lebih': 96, 'on': 97, 'floor': 98, 'laughing': 99, 'belum': 100, 'banyak': 101, 'pulang': 102, 'tolong': 103, 'kalau': 104, 'biar': 105, 'aku': 106, 'bapak': 107, 'kok': 108, 'hehe': 109, 'dapet': 110, 'semester': 111, 'dalam': 112, 'banget': 113, 'hand': 114, 'a': 115, '50%': 116, 'sudah': 117, 'tel': 118, 'dulu': 119, 'udh': 120, 'rumah': 121, 'bgt': 122, 'telyu': 123, 'bayar': 124, 'alumni': 125, 'boleh': 126, 'ni': 127, 'butuh': 128, 'akan': 129, 'bulan': 130, 'anak': 131, 'tapi': 132, 'bagaimana': 133, 'tuh': 134, 'makasih': 135, 'sih': 136, 'karena': 137, 'pa': 138, 'pada': 139, 'beli': 140, 'uang': 141, 'akhirnya': 142, 'sekalian': 143, 'kuotanya': 144, '(': 145, 'belajar': 146, 'malah': 147, 'cara': 148, '1': 149, 'yaa': 150, 'jalur': 151, '2': 152, 'april': 153, 'cashback': 154, 'libur': 155, 'sidang': 156, '300k': 157, 'kali': 158, 'abis': 159, 'masuk': 160, 'pas': 161, 'tak': 162, 'gratis': 163, 'nah': 164, 'duit': 165, 'daerah': 166, 'selalu': 167, 'mohon': 168, 'gmn': 169, 'baik': 170, 'info': 171, 'makin': 172, 'bentuk': 173, 'halo': 174, 'temen': 175, 'raising': 176, 'hearts': 177, 'black': 178, 'fte': 179, 'buka': 180, 'kartu': 181, 'lain': 182, 'harus': 183, 'dikasih': 184, 'tau': 185, 'gini': 186, 'soalnya': 187, 'lu': 188, 'subsidinya': 189, 'lewat': 190, 'by': 191, 'beasiswa': 192, 'bangga': 193, 'mah': 194, 'mop': 195, 'terus': 196, 'internet': 197, 'mending': 198, 'sehat': 199, 'baru': 200, 'orang': 201, 'hundred': 202, 'points': 203, 'lift': 204, 'p': 205, 'selama': 206, 'hari': 207, 'mouth': 208, 'masa': 209, 'katanya': 210, 'lumayan': 211, 'dosen': 212, 'diberikan': 213, 'tiap': 214, 'jd': 215, 'pleading': 216, 'university': 217, 'allah': 218, 'luar': 219, 'sangat': 220, 'saran': 221, 'nanti': 222, 'klo': 223, 'provider': 224, 'satu': 225, 'gitu': 226, 'blowing': 227, 'kiss': 228, 'mentahan': 229, 'relieved': 230, 'two': 231, 'cek': 232, 'innalillahi': 233, 'dpt': 234, 'lama': 235, 'dah': 236, 'tetep': 237, 'ikut': 238, 'seperti': 239, 'onlen': 240, 'nilai': 241, 'kayak': 242, 'data': 243, 'saja': 244, 'jgn': 245, 'sampai': 246, 'ditunggu': 247, 'perlu': 248, 'balik': 249, 'eh': 250, 'stay': 251, 'kenapa': 252, 'yah': 253, 'link': 254, '300rb': 255, 'nuhun': 256, 'gua': 257, 'squinting': 258, 'tangan': 259, 'org': 260, '((': 261, 'tanggal': 262, 'tgl': 263, 'woman': 264, 'ngga': 265, 'sekali': 266, 'depan': 267, 'tp': 268, 'indonesia': 269, 'hanya': 270, 'lah': 271, 'praktikum': 272, 'virus': 273, 'padahal': 274, 'trus': 275, 'diskon': 276, 'aamiin': 277, 'cukup': 278, 'bahagia': 279, 'bukannya': 280, 'bertanya': 281, '10': 282, 'atuh': 283, 'asrama': 284, ')': 285, 'kampusku': 286, 'dirumah': 287, 'lupa': 288, 'biaya': 289, 'euy': 290, 'langsung': 291, 'ig': 292, 'berupa': 293, 'deh': 294, 'kos': 295, 'segera': 296, 'bikin': 297, 'pengguna': 298, 'pakk': 299, 'kurang': 300, 'dm': 301, 'gaada': 302, 'dipake': 303, '3': 304, 'no': 305, 'semprot': 306, 'gedung': 307, 'keburu': 308, 'wkwkwk': 309, 'please': 310, '300': 311, 'minta': 312, 'over': 313, 'mereka': 314, 'blm': 315, 'gk': 316, 'k': 317, 'baca': 318, 'transfer': 319, 'dancing': 320, 'pulsa': 321, 'ngasih': 322, 'perkuliahan': 323, 'sy': 324, 'tdk': 325, 'kaya': 326, 'refund': 327, 'bener': 328, 'punya': 329, 'tsel': 330, 'jg': 331, 'daftar': 332, 'ayo': 333, 'kirim': 334, 'teh': 335, 'ta': 336, 'kawan': 337, 'minggu': 338, 'si': 339, 'sebelum': 340, 'medium': 341, 'kamu': 342, 'prof': 343, 'sweat': 344, 'cinta': 345, 'main': 346, 'alhamdulilah': 347, 'tf': 348, 'dapat': 349, 'beda': 350, 'mantab': 351, 'you': 352, 'asik': 353, 'kosan': 354, 'per': 355, 's2': 356, 'kelas': 357, 'masing': 358, 'proud': 359, 'chamber': 360, 'cuci': 361, 'rojiun': 362, 'high': 363, 'voltage': 364, 'uas': 365, 'full': 366, 'indihome': 367, 'y': 368, 'oh': 369, 'setelah': 370, '8': 371, 'keluar': 372, 'kouta': 373, 'spp': 374, 'iya': 375, 'kirain': 376, 'check': 377, 'fasilitas': 378, 'kudu': 379, 'dimana': 380, 'waktu': 381, 'jika': 382, 'apalagi': 383, 'tanpa': 384, 'maaf': 385, 'dikaji': 386, 'menunggu': 387, 'ketika': 388, 'disuruh': 389, 'kasian': 390, 'ganti': 391, 'biasa': 392, 'hati': 393, 'tetap': 394, 'wkwkw': 395, 'begini': 396, 'yak': 397, 'lulus': 398, 'kerja': 399, 'teu': 400, 'gue': 401, 'apakabar': 402, 'jual': 403, 'sayang': 404, 'magang': 405, 'safe': 406, 'this': 407, 'corona': 408, '”)': 409, 'kamar': 410, 'guys': 411, 'belom': 412, 'kah': 413, 'cair': 414, 'ko': 415, 'admin': 416, 'lg': 417, 'yuk': 418, 'cuman': 419, 'bagi': 420, 'mantep': 421, 'pakai': 422, 'berapa': 423, 'mantul': 424, \"')\": 425, 'enak': 426, 'suit': 427, 'zoom': 428, 'love': 429, 'emang': 430, 'makassar': 431, 'sparkles': 432, '@': 433, 'telu': 434, 'kereen': 435, 'sukses': 436, 'jurusan': 437, 'lead': 438, 'way': 439, 'mobil': 440, 'nanya': 441, 'eko': 442, 'khotimah': 443, 'khusus': 444, 'g': 445, 'bsa': 446, 'd': 447, 'utk': 448, 'mulu': 449, 'negeri': 450, 'kek': 451, 'loh': 452, 'dg': 453, 'n': 454, 'selamat': 455, 'assalamualaikum': 456, 'univ': 457, 'internetnya': 458, 'siapa': 459, 'kemarin': 460, 'cuma': 461, 'in': 462, 'doang': 463, 'we': 464, 'aing': 465, 'bahan': 466, 'ka': 467, 'mahal': 468, 'khawatir': 469, 'beberapa': 470, 'memberi': 471, 'materi': 472, 'informasi': 473, 'bandung': 474, 'rasa': 475, 'covid': 476, 'kampung': 477, 'kondisi': 478, 'sering': 479, 'gamau': 480, 'weary': 481, 'ui': 482, 'b': 483, 'eprt': 484, 'krna': 485, 'skrg': 486, 'semuanya': 487, 'karna': 488, 'terkait': 489, 'akhir': 490, 'bro': 491, 's': 492, 'dipakai': 493, 'w': 494, 'cepet': 495, 'seneng': 496, 'kembali': 497, 'i': 498, 'motor': 499, 'gku': 500, 'mei': 501, 'dlm': 502, 'gmna': 503, 'ijazah': 504, 'sia': 505, 'flexed': 506, 'biceps': 507, 'gan': 508, 'kegiatan': 509, 'proses': 510, 'lo': 511, 'mentahannya': 512, 'wisuda': 513, 'maap': 514, 'OK': 515, 'agar': 516, 'cocok': 517, 'mahasiswanya': 518, 'haha': 519, 'tuhan': 520, 'kabar': 521, 'mentahnya': 522, 'nomor': 523, 'haturnuhun': 524, 'luv': 525, 'membuat': 526, 'gausah': 527, 'home': 528, 'bulanan': 529, 'membantu': 530, 'kalian': 531, 'bapa': 532, 'bagus': 533, 'paket': 534, 'saldo': 535, 'class': 536, 'beating': 537, 'selain': 538, 'caranya': 539, 'mantapp': 540, 'hatur': 541, 'perbulan': 542, 'anjay': 543, 'diganti': 544, 'ku': 545, 'cat': 546, 'thank': 547, 'fakultas': 548, 'turut': 549, 'pernah': 550, 'marufi': 551, 'nuryan': 552, 'congrats': 553, 'mauu': 554, 'd3': 555, 'mobilnya': 556, 'disinfektan': 557, 'lulusan': 558, 'jpa': 559, 'strm': 560, 'masyaallah': 561, '19': 562, 'mas': 563, 'wa': 564, 'rip': 565, 'yra': 566, 'husnul': 567, 'pelajaran': 568, 'nambah': 569, 'sanitizer': 570, 'fif': 571, 'vinilon': 572, 'kontrakan': 573, 'donk': 574, 'nomer': 575, 'janji': 576, 'hey': 577, 'khas': 578, 'slur': 579, 'kena': 580, 'dia': 581, 'pun10': 582, 'tpi': 583, 'lucu': 584, 'da': 585, 'kompensasi': 586, 'wkwkwkwk': 587, 'v': 588, 'kakak': 589, 'input': 590, 'seluruh': 591, 'masing2': 592, 'nama': 593, 'setiap': 594, 'ingin': 595, 'saat': 596, '29': 597, 'krn': 598, 'alasan': 599, 'warga': 600, 'banyaknya': 601, 'gatau': 602, 'ngerjain': 603, 'liat': 604, 'tubuh': 605, 'potongan': 606, 'rugi': 607, 'universitas': 608, 'mudik': 609, 'berarti': 610, 'komentar': 611, 'tua': 612, 'cape': 613, 'bs': 614, 'file': 615, 'besar': 616, 'make': 617, 'dr': 618, 'pendaftaran': 619, 'izin': 620, 'perihal': 621, 'hal': 622, 'sedangkan': 623, 'pesawat': 624, 'malam': 625, 'euyy': 626, 'minimal': 627, 'sabi': 628, 'untung': 629, 'demi': 630, 'program': 631, 'coba': 632, 'selesai': 633, 'surat': 634, 'sekelas': 635, 'efektif': 636, 'lekas': 637, 'kesusahan': 638, 'cuy': 639, 'sakit': 640, 'infonya': 641, 'security': 642, 'pengambilan': 643, 'sleepy': 644, 'blom': 645, 'kemana': 646, 'sekarang': 647, 'bakal': 648, 'berbentuk': 649, 'skripsi': 650, 'gagal': 651, 'follow': 652, 'lantai': 653, 'dikarenakan': 654, 'mimin': 655, 'pasti': 656, 'upside': 657, 'down': 658, 'claim': 659, 'nihh': 660, 'smk': 661, 'dapetinnya': 662, 'can': 663, 'fix': 664, 'puji': 665, 'sistem': 666, 'balikin': 667, 'salah': 668, 'tiktok': 669, 'na': 670, 'pembagiannya': 671, 'gopay': 672, 'telah': 673, 'gabisa': 674, 'mabar': 675, 'jugaa': 676, 'gw': 677, 'rame': 678, 'mantapss': 679, 'uangnya': 680, 'ah': 681, 'igracias': 682, 'from': 683, 'gimna': 684, 'dijadiin': 685, 'btw': 686, 'linkaja': 687, 'hugging': 688, 'atm': 689, 'rd': 690, 'pakkk': 691, 'yellow': 692, 'wah': 693, 'suka': 694, 'kerenn': 695, 'sad': 696, 'but': 697, 'soy': 698, 'upi': 699, 'tahun': 700, 'pengumuman': 701, 'smoga': 702, 'amal': 703, 'alhamdulillahhh': 704, 'bang': 705, 'wuih': 706, 'world': 707, 'gokil': 708, 'purple': 709, 'menggunakan': 710, 'tri': 711, 'berada': 712, 'rek': 713, 'sesuai': 714, 'angga': 715, 'dimanfaatkan': 716, 'maskernya': 717, 'hahaha': 718, 'ayuning': 719, 'mask': 720, 'e': 721, 'disemprot': 722, 'kaga': 723, 'berita': 724, 'keterima': 725, 'kerennn': 726, 'look': 727, 'innalilahi': 728, 'meninggal': 729, 'ekstensi': 730, 's1': 731, 'po': 732, 'upload': 733, 'foto': 734, 'disitu': 735, 'fisika': 736, 'mendukung': 737, 'sekedar': 738, 'sabun': 739, 'muka': 740, 'kerannya': 741, 'social': 742, 'relate': 743, 'tangga': 744, 'ruang': 745, 'kursi': 746, 'open': 747, 'manaaa': 748, 'ngisi': 749, 'tiga': 750, 'jadinya': 751, '5': 752, 'resi': 753, 'kuotaku': 754, 'kalah': 755, 'kerjasama': 756, 'sendiri': 757, 'niii': 758, 'permisi': 759, 'error': 760, 'o': 761, 't': 762, 'kk': 763, 'kuotaa': 764, 'manaa': 765, '500rb': 766, 'turun': 767, 'malu': 768, 'diasrama': 769, 'pun': 770, 'kgk': 771, 'oiya': 772, 'mo': 773, 'h3h3': 774, 'pemberian': 775, 'ceritanya': 776, 'woi': 777, 'bojongsoang': 778, 'dh': 779, 'noh': 780, 'maunya': 781, 'login': 782, '100': 783, 'backhand': 784, 'index': 785, 'pointing': 786, 'keur': 787, 'nugas': 788, 'dibalikin': 789, 'gapake': 790, 'melalui': 791, 'bandara': 792, 'stasiun': 793, 'terminal': 794, 'singkat': 795, 'diberi': 796, 'jam': 797, 'grab': 798, 'all': 799, '2020': 800, 'go': 801, 'food': 802, 'namanya': 803, 'disini': 804, 'doangg': 805, 'kantin': 806, 'orgtua': 807, 'msh': 808, 'mengerjakan': 809, 'teman': 810, 'kost': 811, 'ngomel': 812, 'darah': 813, 'tinggi': 814, 'gara2': 815, 'virusnya': 816, 'terkena': 817, 'kejadian': 818, 'sebelumnya': 819, 'kota': 820, 'menyebarkan': 821, '))': 822, 'panjang': 823, 'masalah': 824, 'terlalu': 825, 'imun': 826, 'deadline': 827, 'jaga': 828, 'kerumah': 829, 'mungkin': 830, 'kp': 831, 'diundur': 832, 'maksimal': 833, 'test': 834, 'wajib': 835, 'mendapatkan': 836, 'koneksi': 837, 'mumpuni': 838, 'atas': 839, 'sedikit': 840, 'musibah': 841, 'termasuk': 842, 'pihak': 843, 'tgs': 844, 'sebagai': 845, 'terkhusus': 846, 'tingkat': 847, 'mendapat': 848, 'simpang': 849, 'siur': 850, 'netflix': 851, 'blokir': 852, 'sebagian': 853, 'dipertimbangkan': 854, 'harusnya': 855, 'menunjang': 856, 'akses': 857, 'waspada': 858, 'pusing': 859, 'harap': 860, 'pasang': 861, 'nice': 862, 'bilang': 863, 'ih': 864, 'rantau': 865, 'pulangnya': 866, 'was': 867, 'sulit': 868, 'praktek': 869, 'dilaksanakan': 870, 'juni': 871, 'urang': 872, 'iyeuteh': 873, 'kumaha': 874, 'susah': 875, 'aktif': 876, 'ongleng': 877, 'ampe': 878, 'bu': 879, 'deket': 880, 'edaran': 881, 'tunda': 882, 'sidangnya': 883, 'like': 884, 'seh': 885, 'sinyal': 886, 'matkul': 887, 'perasaan': 888, 'amat': 889, 'negri': 890, 'ambil': 891, 'parkiran': 892, 'yakali': 893, 'status': 894, 'berakhir': 895, 'spt': 896, 'mhs': 897, 'yaaa': 898, 'kostan': 899, 'ajaa': 900, 'auto': 901, 'nak': 902, 'sekian': 903, 'lindungannya': 904, 'minn': 905, 'lainnya': 906, 'terpapar': 907, 'nunggu': 908, 'aman': 909, 'inget': 910, 'bawa': 911, 'covid19': 912, 'uda': 913, 'nyampe': 914, 'gara': 915, 'ae': 916, 'seminggu': 917, '11': 918, 'jga': 919, 'bagiin': 920, 'kayanya': 921, 'hapus': 922, 'kemana2': 923, 'kereeeen': 924, 'bermanfaat': 925, 'civitas': 926, 'te': 927, 'lalu': 928, 'solusi': 929, 'subsidiin': 930, 'penghuni': 931, '8&9': 932, 'hmmm': 933, 'keringanan': 934, 'kepada': 935, 'adil': 936, 'tinggal': 937, 'pengurangan': 938, 'pokok': 939, 'sembako': 940, 'pke': 941, 'tuman': 942, 'jaringan': 943, 'semesteran': 944, 'moga': 945, 'enggak': 946, 'engga': 947, 'wow': 948, 'otw': 949, 'denger': 950, 'bapakk': 951, 'plis': 952, 'woii': 953, 'colek': 954, 'reaksi': 955, 'hehehe': 956, 'ml': 957, 'mantabb': 958, 'ribu': 959, 'sebulan': 960, 'telyuu': 961, 'awas': 962, 'download': 963, 'kehidupan': 964, 'berkeluarga': 965, 'mobile': 966, 'allhamdulillah': 967, 'tanya': 968, 'berikan': 969, 'frowning': 970, 'push': 971, 'rank': 972, 'tok': 973, 'sing': 974, 'dipotong': 975, 'uts': 976, 'kebijakan': 977, 'terbantu': 978, 'kieu': 979, 'sultan': 980, 'surya': 981, 'seangkatan': 982, 'mantapppp': 983, 'paaak': 984, 'langganan': 985, 'nonton': 986, 'streaming': 987, 'gaes': 988, 'cash': 989, 'bijak': 990, 'website': 991, 'grimacing': 992, 'terealisasikan': 993, 'presentasi': 994, 'mantull': 995, 'work': 996, 'mendengarkan': 997, 'adi': 998, 'ahh': 999, 'aj': 1000, '6': 1001, 'tu': 1002, 'hore': 1003, 'huhuy': 1004, 'it': 1005, 'bapaakk': 1006, 'doa': 1007, 'bagian': 1008, 'elearning': 1009, 'dll': 1010, 'diisi': 1011, 'dongg': 1012, 'handshake': 1013, 'ayusername': 1014, 'adhi': 1015, 'pengembalian': 1016, 'pensive': 1017, 'indosat': 1018, 'parah': 1019, 'luthfi': 1020, 'ukt': 1021, 'terimakasi': 1022, 'ter': 1023, 'drakor': 1024, 'alhamdulillahh': 1025, 'teman2': 1026, 'tah': 1027, 'bpk': 1028, 'periode': 1029, 'skalian': 1030, 'kasi': 1031, 'makasi': 1032, 'operator': 1033, 'supaya': 1034, 'wiii': 1035, 'salam': 1036, 'akhirnyaaaa': 1037, 'lihat': 1038, 'slightly': 1039, 'pubg': 1040, 'kira': 1041, 'bersamaan': 1042, 'barusan': 1043, 'nggak': 1044, 'gais': 1045, 'rajin': 1046, 'misuh': 1047, 'tuhh': 1048, 'fist': 1049, 'kang': 1050, 'star': 1051, 'struck': 1052, 'bee': 1053, 'dibagikan': 1054, 'good': 1055, 'saatnya': 1056, 'beserta': 1057, 'wahh': 1058, 'ngelag': 1059, 'menang': 1060, 'lanjutkan': 1061, 'wis': 1062, 'a6': 1063, 'orange': 1064, 'realisasi': 1065, 'ny': 1066, 'masuk2': 1067, 'muncul': 1068, 'hp': 1069, 'mumpung': 1070, 'onlinenya': 1071, 'alangkah': 1072, 'calon': 1073, 'rekening': 1074, 'harga': 1075, 'wilayahnya': 1076, 'gg': 1077, 'pengen': 1078, 'pindah': 1079, 'ptn': 1080, 'gercep': 1081, 'Indonesia': 1082, 'line': 1083, 'mandiri': 1084, 'va': 1085, 'ttp': 1086, 'bantuannya': 1087, 'works': 1088, 'blum': 1089, 'masyarakat': 1090, 'hasil': 1091, 'masker': 1092, 'kebagian': 1093, 'perusahaan': 1094, 'produksi': 1095, 'iyah': 1096, 'secara': 1097, 'sekitar': 1098, 'modern': 1099, 'dicuci': 1100, 'yo': 1101, 'tiba': 1102, 'sepertinya': 1103, 'cairan': 1104, 'alat': 1105, 'ntar': 1106, 'nutup': 1107, 'macetnya': 1108, 'dampaknya': 1109, 'amin': 1110, \"i'm\": 1111, 'clinking': 1112, 'beer': 1113, 'mugs': 1114, 'akun': 1115, '2018': 1116, 'lolos': 1117, 'diri': 1118, 'bahasa': 1119, 'utg': 1120, '4': 1121, 'misalnya': 1122, 'gada': 1123, 'time': 1124, 'for': 1125, 'anda': 1126, 'nang': 1127, 'soni': 1128, 'wisma': 1129, 'kerennnn': 1130, 'together': 1131, 'keluarga': 1132, 'berduka': 1133, 'cita': 1134, 'robbal': 1135, 'alaamiin': 1136, 'wainnailahii': 1137, 'knp': 1138, 'alm': 1139, 'pendaftar': 1140, 'membuka': 1141, 'berminat': 1142, 'makasar': 1143, 'mesti': 1144, '050195': 1145, 'r': 1146, 'winda': 1147, 'minat': 1148, 'berpusat': 1149, 'mksr': 1150, 'mantaap': 1151, 'disemarang': 1152, 'manajemen': 1153, 'ciee': 1154, 'huda': 1155, 'donasi': 1156, 'pin': 1157, 'laa': 1158, 'hati2': 1159, 'asmaul': 1160, 'husna': 1161, 'agama': 1162, 'peluk': 1163, 'bertoleransi': 1164, 'ajarkan': 1165, 'sunflower': 1166, 'gasi': 1167, 'rapot': 1168, 'tolonglah': 1169, 'insentif': 1170, 'kepentingan': 1171, 'obrolin': 1172, 'numpuk': 1173, 'borosbukannya': 1174, 'pinter': 1175, 'us': 1176, 'an': 1177, 'tas': 1178, 'kecil': 1179, 'kesembuhan': 1180, 'kualitas': 1181, 'washing': 1182, 'machine': 1183, 'bg': 1184, 'man': 1185, 'maksudnya': 1186, 'do': 1187, 'elektro': 1188, 'keran': 1189, 'pegang': 1190, 'bagi2': 1191, 'handsynitizer': 1192, 'area': 1193, 'carinya': 1194, 'dibiarin': 1195, 'kebuka': 1196, 'gosok2': 1197, 'ngeringin': 1198, 'tisu': 1199, 'secukupnya': 1200, 'lembar': 1201, 'koo': 1202, 'winking': 1203, 'tempat': 1204, 'umum': 1205, 'hihi': 1206, \"it's\": 1207, 'siku': 1208, 'pintu': 1209, '\"airplane\"': 1210, 'belakang': 1211, 'teknik': 1212, 'pagi': 1213, 'distancing': 1214, 'fri': 1215, \"can't\": 1216, 'keliatan': 1217, 'bau': 1218, 'at': 1219, 'rencana': 1220, 'naro': 1221, 'parno': 1222, 'bangett': 1223, 'membakar': 1224, 'matiin': 1225, 'kolom': 1226, 'internal': 1227, 'eksternal': 1228, 'sana': 1229, 'mengembangkan': 1230, 'karyawannya': 1231, 'kompeten': 1232, 'ayuk': 1233, 'mampir': 1234, 'ketinggalan': 1235, 'menariknya': 1236, 'semangatt': 1237, 'errrr': 1238, 'cad': 1239, 'kebaca': 1240, 'perpustakaan': 1241, '&': 1242, 'mencegah': 1243, 'bahkan': 1244, 'kemungkinan': 1245, 'kira2': 1246, 'plg': 1247, 'jauh': 1248, 'munjul': 1249, 'bay': 1250, 'house': 1251, 'tanda': 1252, 'medical': 1253, 'right': 1254, 'backsound': 1255, 'tersebut': 1256, 'dibersihkan': 1257, 'msu': 1258, 'musiknya': 1259, 'wc': 1260, 'macdun': 1261, 'pak/bu': 1262, 'wkwjwk': 1263, 'kebury': 1264, 'basi': 1265, 'batch': 1266, 'pakett': 1267, 'uy': 1268, 'harian': 1269, 'trouble': 1270, 'sebatas': 1271, 'ub': 1272, 'funny': 1273, 'samlekum': 1274, 'manssss': 1275, 'lurrrrr': 1276, 'nich': 1277, 'kecantol': 1278, 'server': 1279, 'indihom': 1280, 'kuotaaa': 1281, 'universitynya': 1282, 'pembelian': 1283, 'stonks✓': 1284, 'tertypuu': 1285, 'setelelah': 1286, '2022': 1287, 'hahhaha': 1288, 'tipu': 1289, 'dimanaaa': 1290, 'dingdingpadingding': 1291, 'hoaxxxx': 1292, 'denda': 1293, 'sisteuuurrr': 1294, 'yakk': 1295, 'lama2': 1296, 'numpang': 1297, 'tetangga': 1298, 'kamj': 1299, 'kuotaaaaaaaa': 1300, 'terkendala': 1301, 'buku2': 1302, 'bingung': 1303, 'bljr': 1304, 'dibuat': 1305, 'notabene': 1306, 'murah': 1307, 'bekerjasama': 1308, 'ye': 1309, 'adalah': 1310, 'real': 1311, 'ota': 1312, 'mampos': 1313, 'kelen': 1314, 'smirking': 1315, 'pakkkk': 1316, 'bayarnya': 1317, 'kuota/pulsa': 1318, 'anjirr': 1319, 'jama': 1320, 'trigi': 1321, '*mmorpg': 1322, 'intensifies*': 1323, 'sini': 1324, 'aja/pemotongan': 1325, 'farming': 1326, 'skuy': 1327, 'edward': 1328, 'yw': 1329, 'krbo': 1330, 'cobain': 1331, 'silaban': 1332, 'tahh': 1333, 'kejar2': 1334, 'gerak': 1335, 'pemotongan': 1336, 'sementara': 1337, 'student': 1338, 'peratiin': 1339, 'daily': 1340, 'kamiii': 1341, 'meuli': 1342, 'sarua': 1343, 'wae': 1344, 'kehed': 1345, 'jang': 1346, 'naon': 1347, 'fasilitasnya': 1348, 'woy': 1349, 'gaadil': 1350, 'ngurus': 1351, 'penjuru': 1352, 'menjadi': 1353, 'carrier': 1354, 'serta': 1355, 'rentang': 1356, 'menanyakan': 1357, 'slow': 1358, 'respon': 1359, 'berlebihan': 1360, 'fishstreat': 1361, '*promo': 1362, '50%*': 1363, 'menu': 1364, '16': 1365, 'maret': 1366, 'your': 1367, 'thanks': 1368, 'dosen”': 1369, 'dijelaskan': 1370, 'merdeka': 1371, 'sengsara': 1372, 'mulyarasa': 1373, 'mbak': 1374, 'mulya': 1375, 'selaku': 1376, 'mmg': 1377, 'diliburkan': 1378, 'memdpt': 1379, 'kelompok': 1380, 'sbg': 1381, 'bareng': 1382, 'dtg': 1383, 'mskpn': 1384, 'melarang': 1385, 'diwajibkan': 1386, 'berasal': 1387, 'berbagai': 1388, 'diseluruh': 1389, 'maka': 1390, 'berpotensi': 1391, 'menyebar': 1392, 'italia': 1393, 'nababan': 1394, 'kau': 1395, 'majalaya': 1396, 'breww': 1397, 'kembalikan': 1398, 'penat': 1399, 'rasanya': 1400, 'saking': 1401, 'disaat': 1402, 'seharusnya': 1403, 'menjaga': 1404, 'kesehatan': 1405, 'mengharuskan': 1406, 'menyelesaikan': 1407, 'secepatnya': 1408, 'agaar': 1409, 'mengumpulkan': 1410, 'terlambat': 1411, 'begadang': 1412, 'menerus': 1413, 'veteran': 1414, 'makanan': 1415, 'cemilan': 1416, 'tutup': 1417, 'kagum': 1418, 'terdepan': 1419, 'menyikapi': 1420, 'permasalahan': 1421, 'dilindungi': 1422, 'swt': 1423, 'keputusan': 1424, '\")': 1425, 'komen2': 1426, 'diatas': 1427, 'terbaca': 1428, 'pertimbangan~': 1429, 'uin': 1430, 'komen': 1431, 'dahlah': 1432, 'hallo': 1433, 'brrti': 1434, 'sdh': 1435, 'menimbang': 1436, 'daerahnya': 1437, 'mahasiswa/mahasiswi': 1438, 'menengah': 1439, 'ukuran': 1440, 'dikirimkan': 1441, 'maupun': 1442, 'ulang': 1443, 'ttg': 1444, 'prakol': 1445, 'mengeluh': 1446, 'diposisi': 1447, 'tlg': 1448, 'resume': 1449, 'berukuran': 1450, 'memakan': 1451, 'dihadirkan': 1452, 'itung2': 1453, 'or': 1454, 'dipersilahkan': 1455, 'keluhannya': 1456, 'ukhti': 1457, 'mengenai': 1458, 'prosedur': 1459, 'sistemnya': 1460, 'dipersiapkan': 1461, 'dilengkapi': 1462, 'gitulah': 1463, 'keluh': 1464, 'kesahnya': 1465, 'essa': 1466, 'de': 1467, 'mempunyai': 1468, 'contohnya': 1469, 'seribet': 1470, 'tugasnya': 1471, 'perjalanannya': 1472, '(di': 1473, 'bis': 1474, 'kereta)': 1475, 'paling': 1476, 'riskan': 1477, 'lawak': 1478, 'ngakak': 1479, 'lur': 1480, 'pusingg': 1481, 'lebih2': 1482, 'offline': 1483, 'geloo': 1484, 'helloo': 1485, 'omg': 1486, 'tralalaa': 1487, 'ratain': 1488, 'kiri': 1489, 'akutuh': 1490, 'capee': 1491, 'sayur': 1492, 'lodeh': 1493, 'makasihh': 1494, 'bpp(': 1495, 'mn': 1496, 'modal': 1497, 'suruh': 1498, 'jelas3': 1499, 'pemerintah': 1500, 'edukasi': 1501, 'guarantee': 1502, 'keamanan': 1503, 'vest': 1504, 'lvl': 1505, 'tandain': 1506, 'didapatkan': 1507, 'situasi': 1508, 'kebijakannyaa': 1509, 'terpaksaa': 1510, 'menambah': 1511, 'jangka': 1512, 'pak/ibu': 1513, '1gb': 1514, 'perhari': 1515, 'kulyah': 1516, 'dikasi': 1517, 'juli': 1518, 'yaaaaaaaa': 1519, 'dialokasikan': 1520, 'manawi': 1521, 'dibalikeun': 1522, 'menikmati': 1523, 'euyyyyy': 1524, 'barumah': 1525, 'miara': 1526, 'kucing': 1527, 'kucingna': 1528, 'dibawa': 1529, 'lamun': 1530, 'paeh': 1531, 'dihubungi': 1532, 'bimbingan': 1533, 'biasanya': 1534, 'datengin': 1535, 'jarang': 1536, 'wanya': 1537, 'sidangkuuuu': 1538, 'ato': 1539, 'mumet': 1540, 'batt': 1541, 'pala': 1542, 'melek': 1543, 'wksk': 1544, 'hadu': 1545, 'papan': 1546, 'tulis': 1547, 'abang2': 1548, 'cilok': 1549, 'rektorat': 1550, 'mie': 1551, 'tektek': 1552, 'disana': 1553, 'jj': 1554, 'tes': 1555, 'isiin': 1556, 'asli': 1557, 'kaji': 1558, 'efektifannya': 1559, 'mengingat': 1560, 'persentasikan': 1561, 'tergolong': 1562, 'persentasinya': 1563, 'karya': 1564, 'berwujud': 1565, 'dont': 1566, 'is': 1567, 'bad': 1568, 'idea': 1569, 'gaaak': 1570, 'dengerin': 1571, 'podcast': 1572, '((((((': 1573, 'yaopo': 1574, 'kotanya': 1575, 'cari': 1576, 'pengertian': 1577, 'unila': 1578, 'stress': 1579, 'selaluuuu': 1580, 'oflen': 1581, 'sinegri': 1582, 'bangoen': 1583, 'sembuh': 1584, 'ibu': 1585, 'pertiwi': 1586, 'terbengkalai': 1587, 'mengeluhkan': 1588, 'trims': 1589, '+': 1590, 'balikk': 1591, 'gapapa': 1592, 'ekstra': 1593, 'skripsian': 1594, 'sampein': 1595, 'dosen2': 1596, 'banyak2': 1597, 'kecapean': 1598, 'sejarah': 1599, 'cerita': 1600, 'anakku': 1601, '‘mama': 1602, 'seru': 1603, 'bangedd’': 1604, 'doong': 1605, 'novendra': 1606, 'ahmad': 1607, 'mengaturnya': 1608, 'bolong2': 1609, 'cs': 1610, 'syedih': 1611, 'tumbuh': 1612, 'pohon': 1613, 'tanaman': 1614, 'ego': 1615, 'diutamakan': 1616, 'ngerasa': 1617, 'inkubasi': 1618, 'barulah': 1619, 'ortu': 1620, 'hahhhh': 1621, 'sidangggg': 1622, 'pelaksanaan': 1623, 'pemberitahuan': 1624, 'detail': 1625, 'pastikan': 1626, 'keadaan': 1627, 'ikuti': 1628, 'rapid': 1629, 'pertimbangan': 1630, 'potensi': 1631, 'nyebarnya': 1632, 'see': 1633, 'semalem': 1634, 'ngomong': 1635, 'ariyanto': 1636, 'rialdi': 1637, 'dikirim2': 1638, '9': 1639, 'hadeh': 1640, 'chabibi': 1641, 'hemmm': 1642, 'disegerakan': 1643, 'mulai': 1644, 'habis': 1645, 'mengganggu': 1646, 'confused': 1647, 'expressionless': 1648, 'undur': 1649, '12': 1650, 'nungguin': 1651, 'kepastian': 1652, 'wacana': 1653, 'bous': 1654, 'hampir': 1655, 'jow': 1656, 'assestment': 1657, 'tubes': 1658, 'politisi': 1659, 'palsu': 1660, \"assalamu'alaikum\": 1661, 'videonya': 1662, 'post': 1663, 'bantu': 1664, 'wifinya': 1665, 'bulandepan': 1666, 'ngerasain': 1667, 'bakala': 1668, 'kepake': 1669, 'nasibnya': 1670, 'percuma': 1671, 'dihutan': 1672, 'buriq': 1673, '~': 1674, 'campus': 1675, 'its': 1676, 'mengikuti': 1677, 'whatsapp': 1678, 'akademika': 1679, 'beraktivitas': 1680, 'ataupun': 1681, 'warmadewa': 1682, 'realisasinyaa': 1683, 'denger2': 1684, 'sk': 1685, 'lahir': 1686, 'berubah': 1687, 'nomornyaa': 1688, 'ngedrakor': 1689, 'samaratakan': 1690, 'quota': 1691, 'banding': 1692, 'para': 1693, 'dpat': 1694, 'yhaaaaa': 1695, '((((': 1696, 'mengizinkan': 1697, 'diwakilkan': 1698, 'terhormat': 1699, 'fliss': 1700, 'dibagi': 1701, '(link': 1702, 'aja)': 1703, 'telyutizen': 1704, '000': 1705, 'berlaku': 1706, 'ruangguru': 1707, 'tokopedia': 1708, 'ai': 1709, 'aplikasi': 1710, 'begituan': 1711, 'mollow': 1712, 'akunnya': 1713, 'rebuw': 1714, 'kwkwkw': 1715, 'manalu': 1716, 'chdr': 1717, 'sembilan': 1718, 'didlm': 1719, 'bercinta': 1720, 'smp': 1721, 'mesranya': 1722, 'tiada': 1723, 'resah': 1724, 'bertambah': 1725, 'mesra': 1726, 'diperlukan': 1727, 'hanyalah': 1728, 'hai': 1729, 'unmuh': 1730, 'arraniry': 1731, 'official': 1732, 'potong': 1733, 'pling': 1734, 'dipke': 1735, 'drpd': 1736, 'suudzon': 1737, 'beiyyyyaa': 1738, 'bgi': 1739, 'tk': 1740, 'subsidiya': 1741, 'apaa': 1742, 'ujungnyaa': 1743, 'jelek': 1744, 'rann': 1745, 'mntp': 1746, 'kayaknya': 1747, 'via': 1748, 'unggul': 1749, 'uir': 1750, 'chn': 1751, 'anyone': 1752, 'teach': 1753, 'me': 1754, 'tambahin': 1755, 'synirgi': 1756, 'bingin': 1757, 'nigri': 1758, 'uc': 1759, 'pembagian': 1760, 'infokan': 1761, 'gaminta': 1762, 'acie': 1763, 'alii': 1764, 'wkskk': 1765, 'tatacara': 1766, 'rabb': 1767, '0995': 1768, '1609': 1769, 'seenggak': 1770, '30%': 1771, '20%': 1772, 'scroll': 1773, 'puas': 1774, 'atah': 1775, 'dieu': 1776, 'om': 1777, 'hayang': 1778, 'meser': 1779, 'baju': 1780, 'band': 1781, 'deui': 1782, 'huhuu': 1783, 'haturr': 1784, 'isi': 1785, 'boros': 1786, 'tengkyu': 1787, 'jugaaa': 1788, 'kaaann': 1789, 'et': 1790, 'n01r': 1791, 'uhuyy': 1792, 'mantav': 1793, 'butuuh': 1794, 'andai': 1795, 'voucher': 1796, 'grabfood': 1797, 'pertama': 1798, 'sadar': 1799, 'mnding': 1800, 'linkaja/ovo/gopay': 1801, 'gaperlu': 1802, 'penting': 1803, 'ngeleg': 1804, 'nyak': 1805, 'finally': 1806, 'teknis': 1807, 'mudah': 1808, 'mudahan': 1809, 'memudahkan': 1810, 'dua': 1811, 'muach': 1812, 'pertamina': 1813, 'digunakan': 1814, 'oleh': 1815, 'berbeda': 1816, 'kirimnya': 1817, 'ngirimnya': 1818, 'masing²': 1819, 'apk': 1820, 'gojek': 1821, 'tunaikan': 1822, 'kuotakan': 1823, 'darurat': 1824, 'perlukan': 1825, 'daya': 1826, 'mempertahankan': 1827, 'sisanya': 1828, 'cukupkan': 1829, 'pekerjaan': 1830, 'terbatas': 1831, 'membayar': 1832, 'diamond': 1833, 'legend': 1834, 'padamu': 1835, 'tanyakan': 1836, 'kampusmu': 1837, 'diperpanjangg': 1838, 'beres': 1839, 'arief': 1840, 'adiwijaya': 1841, 'dek': 1842, 'tik': 1843, 'mantap2': 1844, 'nhunn': 1845, 'pamugi': 1846, 'barokah': 1847, 'kangge': 1848, 'sadayana': 1849, 'direktorat': 1850, 'kemahasiswaan': 1851, '(isi': 1852, 'sendiri)': 1853, 'sharella': 1854, 'alfatriana': 1855, 'puspitaa': 1856, 'bates': 1857, 'situ': 1858, 'timpa': 1859, 'bedoa': 1860, 'finansial': 1861, 'merasa': 1862, 'tepat': 1863, 'wuihh': 1864, 'ngambil': 1865, 'gapernah': 1866, 'adik2': 1867, 'eung': 1868, 'uhuuuyyyy': 1869, 'yeey': 1870, 'jii': 1871, 'mantan': 1872, 'banyaak': 1873, 'emaaaang': 1874, 'maaciw': 1875, 'baruuu': 1876, 'comvit': 1877, 'akuntansi’18': 1878, '100%': 1879, '5jt': 1880, 'setengahnya': 1881, 'banyakkkk': 1882, 'prosesnya': 1883, 'lancar': 1884, 'mangat': 1885, 'beranda': 1886, 'teruskan': 1887, 'donkkk': 1888, 'betulll': 1889, 'uish': 1890, 'mubazir': 1891, 'ite': 1892, 'sesuka': 1893, 'mentah': 1894, 'wwkakwkak': 1895, 'film': 1896, 'haruslah': 1897, 'ingat': 1898, 'dapetnya': 1899, 'gmmn': 1900, 'firmansyah': 1901, 'menambahkan': 1902, 'fitur': 1903, '/fungsi': 1904, 'terintegrasi': 1905, 'adanya': 1906, 'distrupsi': 1907, 'kelemahan': 1908, 'applikasi': 1909, '‘third': 1910, 'party’': 1911, 'ara': 1912, 'manfate': 1913, 'len': 1914, 'rupene': 1915, 'ari': 1916, 'gep': 1917, 'vc': 1918, 'aannnnn': 1919, 'teruss': 1920, 'video': 1921, 'call': 1922, 'nyari': 1923, 'terhadap': 1924, 'penggunaan': 1925, 'studying': 1926, 'bentuknya': 1927, 'ehehehehe': 1928, 'dikabulkan': 1929, 'kebijakannya': 1930, 'cairnya': 1931, 'terbaiqueee': 1932, 'man2l': 1933, 'sign': 1934, 'horns': 1935, 'yeaaayyyy': 1936, 'poltekatim': 1937, 'sekarat': 1938, 'guenakanlah': 1939, 'asekkkk': 1940, 'wohooooow': 1941, 'mantaappp': 1942, 'kampuskuhh': 1943, 'jazakallah': 1944, 'mantip': 1945, 'bingitttt': 1946, 'benengg': 1947, 'wooppp': 1948, 'maen': 1949, 'cod': 1950, 'almamaterku': 1951, 'dana': 1952, 'dihh': 1953, 'enakk': 1954, 'tunggu2': 1955, 'terharuuu': 1956, 'ikhlas': 1957, 'spotify': 1958, 'premium': 1959, 'disubsidikan': 1960, 'subsisi': 1961, '150': 1962, 'gb': 1963, 'pokonya': 1964, 'engk': 1965, 'bersinergi': 1966, 'membangun': 1967, 'minnnnnn': 1968, 'giveaway': 1969, 'sebanyak': 1970, 'banyaknyaa': 1971, 'paakk': 1972, 'sebayar': 1973, 'kuliahnya': 1974, 'opsi': 1975, 'dibayarin': 1976, 'xl': 1977, 'melancarkan': 1978, 'alumninyaaa': 1979, 'saik': 1980, 'sabrimas': 1981, 'terimakasihh': 1982, 'unlimited': 1983, 'juta': 1984, 'zeeeeeh': 1985, 'cu': 1986, 'senang': 1987, 'gayeng': 1988, 'lahh': 1989, 'pb': 1990, 'makasiii': 1991, 'revolving': 1992, 'sholehah': 1993, 'heheee': 1994, 'uhuy': 1995, 'ngeklaimnya': 1996, 'nga': 1997, 'maaauuuuu': 1998, 'providernya': 1999, 'hiyahiyahiya': 2000, '082127380801': 2001, 'silahkan': 2002, 'suportif': 2003, 'solutif': 2004, 'amar': 2005, 'tuker': 2006, 'ditransfer': 2007, 'takutnya': 2008, 'nnti': 2009, 'adibwcksn': 2010, 'adib': 2011, 'wicaksono': 2012, 'yawloh': 2013, 'irhamni': 2014, 'fitra': 2015, 'family': 2016, 'sore': 2017, 'yeyeyeye': 2018, 'loginn': 2019, 'loginnnn': 2020, 'rankedddd': 2021, 'kembaliin': 2022, 'ckckckckkckckcj': 2023, 'uwuw': 2024, 'manttuuul': 2025, 'punteenn': 2026, 'pulih': 2027, '%': 2028, 'boo': 2029, 'grup²': 2030, 'pasangin': 2031, 'mereun': 2032, 'realisasikan': 2033, 'gembira': 2034, 'rajinnn': 2035, 'neyy': 2036, 'pula': 2037, 'kabarny': 2038, 'diduitin': 2039, 'waah': 2040, 'panutan': 2041, 'beri': 2042, 'bung': 2043, 'enjoy': 2044, 'boi': 2045, 'stiap': 2046, 'pren': 2047, 'cairin': 2048, 'rmh': 2049, 'heheheeheh': 2050, '300k/': 2051, 'setuju': 2052, 'ngeliat': 2053, 'ujiannya': 2054, 'dipersulit': 2055, 'maksih': 2056, 'bebas': 2057, 'milih': 2058, 'sukak': 2059, 'deeeh': 2060, '14': 2061, 'agustus': 2062, 'terimakasiiiii': 2063, 'bat': 2064, 'uangkan': 2065, '69gb': 2066, 'byu': 2067, 'akhirnyaaa': 2068, 'sinergi': 2069, 'bangun': 2070, 'prabowo': 2071, 'ayok': 2072, 'kitaaa': 2073, 'norek': 2074, 'lgsg': 2075, 'gaguna': 2076, 'prestasi': 2077, 'berprestasi': 2078, '(kisaran': 2079, 'februari': 2080, 'maret)': 2081, 'angkatan': 2082, '2016': 2083, 'mon': 2084, 'mahal2': 2085, 'sfh': 2086, 'asikkk': 2087, 'jajan': 2088, 'jajann': 2089, 'tunggu': 2090, 'pembuktian': 2091, 'omongan': 2092, 'fr': 2093, 'yeayyyy': 2094, 'yoshua': 2095, 'pramadhan': 2096, 'takbiirrrr': 2097, 'akhinya': 2098, 'lgsung': 2099, 'ehe': 2100, 'berkurang': 2101, 'sinamot': 2102, 'hahah': 2103, 'sitoruss': 2104, 'din': 2105, 'duitnya': 2106, 'ihiyyyy': 2107, 'tjintaaa': 2108, 'horeeee': 2109, 'gokilllll': 2110, 'oncoming': 2111, 'siap': 2112, 'roger': 2113, 'wkwkwkwkwkkwwkkwkwkw': 2114, '/': 2115, 'kata': 2116, '04nh': 2117, 'ady': 2118, 'zany': 2119, 'drama': 2120, 'prasetyo': 2121, 'berharap': 2122, 'regulasi': 2123, 'perdana': 2124, 'wkwkwowk': 2125, 'itulahhhh': 2126, 'dicairin': 2127, 'plz': 2128, 'riezki': 2129, 'im': 2130, 'feeling': 2131, 'pisan': 2132, 'alhamdulillahhhh': 2133, 'sks': 2134, 'trimakasih': 2135, 'lope': 2136, 'wee': 2137, 'terbaiiiqqq': 2138, 'terimakasihhh': 2139, 'yuhuwww': 2140, 'timakasiyyy': 2141, 'jele': 2142, 'sinyalnya': 2143, 'jiwaaaa': 2144, 'terdengar': 2145, 'aw': 2146, 'hahahaha': 2147, 'alhamdulillaaah': 2148, 'vn': 2149, 'nahh': 2150, 'etaa': 2151, 'mengucap': 2152, 'ksh': 2153, 'yeyyy': 2154, 'wkwkkwkw': 2155, 'yeyy': 2156, 'wkkwkw': 2157, 'waw': 2158, 'makasihhh': 2159, 'rektorr': 2160, 'brupa': 2161, 'duid': 2162, 'bkn': 2163, 'lupta': 2164, 'putri': 2165, 'jajarannya': 2166, 'insya': 2167, 'bangggaaaa': 2168, 'kissing': 2169, 'closed': 2170, 'kedepannya': 2171, 'genap': 2172, 'mantaabb': 2173, 'dimulai': 2174, 'gasiii': 2175, 'yek': 2176, 'ehhhmmmmmmm': 2177, 'iraha': 2178, 'ieu': 2179, 'euyyy': 2180, 'mayan': 2181, 'downcast': 2182, 'nyen': 2183, 'bani': 2184, 'mapas': 2185, 'maha': 2186, 'mendengar': 2187, 'kuoata': 2188, 'hahahahha': 2189, 'keh': 2190, 'kr': 2191, 'dewandari': 2192, 'dkasihnya': 2193, 'uhuyyyy': 2194, 'muantul': 2195, 'aa': 2196, 'teknisnya': 2197, 'dark': 2198, 'best': 2199, 'trimksh': 2200, 'yikyok': 2201, 'youuu': 2202, 'telkomm': 2203, 'kedepan': 2204, '34gb': 2205, 'mantaaap': 2206, 'huaaaaaaaaaaaaa': 2207, 'belajarnih': 2208, 'skrgg': 2209, 'siapp': 2210, 'semuanyaa': 2211, 'jaya': 2212, 'kam': 2213, 'siregar': 2214, 'barakallaahhh': 2215, 'janjinya': 2216, 'ngilang': 2217, 'taunya': 2218, 'ambyar': 2219, 'selanjutnya': 2220, 'kpd': 2221, 'postingan': 2222, 'kejelasan': 2223, 'realisasinya': 2224, 'asessment': 2225, 'menerima': 2226, 'ganyampe': 2227, 'provder': 2228, 'ketidak': 2229, 'sesuaian': 2230, 'aduh': 2231, 'dapat2': 2232, 'donggggggg': 2233, 'ngeclaimnya': 2234, 'san': 2235, 'update': 2236, 'msuk': 2237, 'malang': 2238, 'terakhir': 2239, 'kemaren': 2240, 'kartunya': 2241, 'mengiklaskan': 2242, 'q': 2243, 'huhu': 2244, 'ksong': 2245, 'nh': 2246, 'delfi': 2247, 'shope': 2248, 'flash': 2249, 'sale': 2250, 'anget': 2251, 'nomernya': 2252, 'gaaa': 2253, 'penghamburan': 2254, 'yhaa~': 2255, 'fresh': 2256, 'money': 2257, 'okdeh': 2258, 'simpati': 2259, 'napa': 2260, 'melanjutkan': 2261, 'pembayarannya': 2262, 'atu': 2263, 'uwuuu': 2264, 'plan': 2265, 'sebesar': 2266, 'membelikan': 2267, 'yha': 2268, 'gimane': 2269, 'menurut': 2270, 'group': 2271, 'menguntungkan': 2272, 'rupiah': 2273, 'aelah': 2274, 'rezeky': 2275, 'bole': 2276, 'anjayy': 2277, 'pascabayar': 2278, 'racias': 2279, 'dibawahnya': 2280, 'gapke': 2281, 'bikinin': 2282, 'thread': 2283, 'pliz': 2284, 'only': 2285, 'non': 2286, 'hayu': 2287, 'mundur': 2288, 'bismillah': 2289, 'id': 2290, 'waa': 2291, 'aktiiifff': 2292, 'haruskah': 2293, 'pan': 2294, 'pisaan': 2295, 'sekali♡': 2296, 'bangsa': 2297, 'laboratory': 2298, 'kerennnnnnnn': 2299, 'rakit': 2300, 'dicantumin': 2301, 'nan': 2302, 'bersyukur': 2303, 'kepikiran': 2304, 'aspirasi': 2305, 'berkarya': 2306, 'kemas': 2307, 'jago2': 2308, 'penelitinya': 2309, 'blue': 2310, 'kereeen': 2311, 'gelow': 2312, 'dosen2nya': 2313, 'imba': 2314, 'sebelah': 2315, 'profesor': 2316, 'yam': 2317, 'siip': 2318, 'konfirmasi': 2319, 'tenaga': 2320, 'medis': 2321, 'dijadikan': 2322, 'prioritas': 2323, 'spesifikkan': 2324, 'target': 2325, 'penerima': 2326, 'infineeds': 2327, 'mantappp': 2328, 'idola': 2329, 'dospem': 2330, 'kece': 2331, 'mba': 2332, 'pie': 2333, 'wk': 2334, 'ajenggg': 2335, 'mhasiswa': 2336, 'tt': 2337, 'msih': 2338, 'plng': 2339, \"'(\": 2340, 'nntinya': 2341, 'apotik': 2342, 'sdah': 2343, 'diproduksi': 2344, 'massal': 2345, 'dibagiin': 2346, 'membutuhkan': 2347, 'bah': 2348, 'buset': 2349, 'mi': 2350, 'melupakan': 2351, 'security2': 2352, 'ob': 2353, 'jajaran': 2354, 'tertinggi': 2355, 'memperhatikan': 2356, 'staff': 2357, 'bungggg': 2358, 'uweyyy': 2359, 'muhtar': 2360, 'rizky': 2361, 'slide': 2362, 'mbanya': 2363, 'jajarannya(keluarga)': 2364, 'membutuhkannya': 2365, 'jeeng': 2366, 'wiih': 2367, 'model': 2368, 'keceeeh': 2369, 'didapat': 2370, 'maskernyaa': 2371, 'dijualkaah': 2372, 'yee': 2373, 'proudd': 2374, 'dijual': 2375, 'dosbing': 2376, 'aink': 2377, 'sekitaran': 2378, 'standby': 2379, 'itu\"': 2380, 'kirimin': 2381, 'despro': 2382, 'mksd': 2383, 'porn': 2384, 'kriya': 2385, 'dilibatkan': 2386, 'pattern': 2387, 'karyawan': 2388, 'kekantor': 2389, 'yaaak': 2390, 'tmart': 2391, 'melayani': 2392, 'kampusss': 2393, 'sebelumnyaaa': 2394, 'bagikan': 2395, 'heheheh': 2396, 'fir': 2397, 'almamater': 2398, 'dibeli': 2399, 'saluut': 2400, 'dibagikannya': 2401, 'rumah2kah': 2402, 'ihh': 2403, 'ketjee': 2404, 'masal': 2405, 'bolelah': 2406, '300rbnya': 2407, 'dikit': 2408, 'dikirim': 2409, 'pack': 2410, 'alamat': 2411, 'masing\"': 2412, 'produk': 2413, 'reusable': 2414, 'bermerk': 2415, 'maskit': 2416, 'store': 2417, 'sinergy': 2418, 'bangoon': 2419, 'negry': 2420, 'kreatif': 2421, 'sdp': 2422, 'dpet': 2423, 'drimana': 2424, 'problem': 2425, 'solution': 2426, 'required': 2427, 'terinspirasi': 2428, 'gas': 2429, 'onsite': 2430, 'waaah': 2431, 'bete': 2432, 'prei': 2433, 'sui': 2434, 'dalane': 2435, 'aspalen': 2436, 'benakno': 2437, 'pedagang2': 2438, 'dikelola': 2439, 'ben': 2440, 'tertib': 2441, 'ra': 2442, 'morat': 2443, 'marit': 2444, 'ng': 2445, 'ngarepan': 2446, 'jare': 2447, 'mosok': 2448, 'slogan': 2449, 'infrastruktur': 2450, 'kudune': 2451, 'melu': 2452, 'besok2': 2453, 'pass': 2454, 'tap': 2455, 'ktm': 2456, 'pelan2': 2457, 'nu': 2458, 'asup': 2459, 'ban': 2460, 'ydhstr': 2461, 'berasa': 2462, 'mutakhir': 2463, 'kendaran': 2464, 'taxi/bus/kereta': 2465, 'arus': 2466, 'pergantian': 2467, 'penumpang': 2468, 'terjadi': 2469, 'berulang': 2470, 'kendaraan': 2471, 'opsional': 2472, 'mesin': 2473, 'otomatis': 2474, 'pengharum': 2475, 'ruangan': 2476, 'stella': 2477, 'crot': 2478, 'better': 2479, 'gengsi': 2480, 'meniru': 2481, 'oke': 2482, 'gamacet': 2483, 'car': 2484, 'adiknya': 2485, 'ittelkom': 2486, 'surabaya': 2487, 'karat': 2488, 'ngaco': 2489, 'lagian': 2490, 'gaakan': 2491, 'bertahan': 2492, 'hidup': 2493, 'droplet': 2494, 'sensornya': 2495, 'ditaruh': 2496, 'hiyakkk': 2497, 'mainin': 2498, 'bayangkan': 2499, 'jendela': 2500, 'kawasan': 2501, 'kunci': 2502, 'bentar': 2503, 'carwash': 2504, 'mbayar': 2505, 'piro': 2506, 'lurr': 2507, 'sampaii': 2508, 'rusak': 2509, 'mbak2': 2510, 'mas2': 2511, 'ngerekam': 2512, 'ngapain': 2513, 'salfok': 2514, 'videoin': 2515, 'melewati': 2516, 'hayo': 2517, 'ditinggal': 2518, 'bntr': 2519, 'sunglasses': 2520, '*car': 2521, 'waaa': 2522, 'aishh': 2523, 'canggihnyaaa': 2524, 'mobil/kendaraan': 2525, 'manusia': 2526, 'tar': 2527, 'gapura': 2528, 'legittt': 2529, 'skli': 2530, 'fachrudin': 2531, 'senpai': 2532, 'suzzn': 2533, 'username': 2534, 'pasword': 2535, 'kmren': 2536, 'smpet': 2537, 'keagamaan': 2538, 'kakkk': 2539, 'inii': 2540, 'sbmptn': 2541, 'mengundurkan': 2542, 'onok': 2543, 'aminarti': 2544, 'cakupan': 2545, 'besiswanya': 2546, 'sj': 2547, 'riaananda': 2548, '06': 2549, 'dbrpsrrrr123': 2550, 'ditutup': 2551, 'brp': 2552, 'persen': 2553, 'aturan': 2554, 'ketentuan': 2555, 'pencabutan': 2556, 'semisalnya': 2557, 'seleksi': 2558, 'ternyata': 2559, 'camaba': 2560, 'mendaftar': 2561, 'kelulusan': 2562, 'diambil': 2563, 'rapornya': 2564, 'smeester': 2565, 'lenny': 2566, 'raporr': 2567, 'selengkapnya': 2568, 'timeline': 2569, 'kuta': 2570, 'woww': 2571, 'passport': 2572, 'isnt': 2573, 'doing': 2574, 'thesis': 2575, 'ffa': 2576, 'kukira': 2577, 'kaos': 2578, 'nike': 2579, 'mantaab': 2580, 'ngeriih': 2581, 'lanjutkaan': 2582, 'aumr': 2583, 'robot': 2584, 'memerangi': 2585, 'suara': 2586, 'leee': 2587, 'nanang': 2588, 'mantapsih': 2589, 'wihhhh': 2590, 'atlet': 2591, 'segala': 2592, 'mantaps': 2593, 'alus': 2594, 'kenal': 2595, 'maifa': 2596, 'ch': 2597, 'yallah': 2598, 'senantiasa': 2599, 'manfaat': 2600, 'abidzar': 2601, 'sokin': 2602, 'telutizen': 2603, 'dhe': 2604, 'mantaapp': 2605, 'bettt': 2606, 'emangggg': 2607, 'artis': 2608, 'fatyah': 2609, 'bgttt': 2610, 'gesture': 2611, 'innaillaihi': 2612, 'palms': 2613, 'ditrima': 2614, 'disisinya': 2615, 'ditinggalkan': 2616, 'kekuatan': 2617, 'amiin\"': 2618, 'inna': 2619, 'ilaihi': 2620, \"roji'un\": 2621, 'amiiiiin': 2622, 'wainnaillahi': 2623, '26': 2624, '03': 2625, 'ketua': 2626, \"rabb'\": 2627, 'wainnailaihii': 2628, 'wainnailaihi': 2629, 'rajiun': 2630, 'allahummagfirlahu': 2631, 'warhamhu': 2632, 'waafihi': 2633, \"wa'fuanhu\": 2634, 'smg': 2635, 'husnyl': 2636, 'benar': 2637, 'tertulis': 2638, 'beliau': 2639, 'memastikan': 2640, 'wainnalilahi': 2641, 'ibadahnya': 2642, 'sisinya': 2643, 'innailaihi': 2644, \"raji'un\": 2645, 'berdukacita': 2646, 'hmm': 2647, 'nihhh': 2648, 'tersedia': 2649, 'tal': 2650, 'km': 2651, 'drooling': 2652, 'pika': 2653, 'resmi': 2654, 'perjuangan': 2655, 'insyaallah': 2656, 'bantuan': 2657, 'support': 2658, 'salurkan': 2659, 'sigap': 2660, '(punten': 2661, 'hehe)': 2662, 'avenger': 2663, 'jabar': 2664, 'itenas': 2665, 'telco2009': 2666, 'power': 2667, 'rangerrrr': 2668, 'versi': 2669, 'berbayar': 2670, 'kalii': 2671, 'web': 2672, 'melakukan': 2673, 'pembayaran': 2674, 'hawla': 2675, 'quwwata': 2676, 'illaa': 2677, 'billaah': 2678, 'kereeennn': 2679, 'sekalii': 2680, 'merinding': 2681, 'adab': 2682, 'nyanyiin': 2683, 'salut': 2684, 'mendunia': 2685, 'spectacular': 2686, 'collision': 2687, 'menurutku': 2688, 'stylenya': 2689, 'yutub': 2690, 'subhanallah': 2691, 'ldk': 2692, 'bm': 2693, 'blg': 2694, 'thinking': 2695, 'box': 2696, 'inovasinya': 2697, 'alibaba': 2698, 'promo': 2699, 'dapet2': 2700, 'kol': 2701, 'ikuutt': 2702, 'asslamualaikum': 2703, 'tertera': 2704, 'dirapot': 2705, 'seterusnya': 2706, 'mengisinya': 2707, 'kosongkan': 2708, 'fisikanya': 2709, 'tulisan': 2710, 'yukk': 2711, 'ikuttt': 2712, 'x': 2713, 'mark': 2714, 'karir': 2715, 'konseling': 2716, 'leak': 2717, 'helo': 2718, 'bocor': 2719, 'bcs': 2720, 'jesus': 2721, 'died': 2722, 'memberkati': 2723, 'god': 2724, 'bless': 2725, 'berkas': 2726, 'peserta': 2727, 'fotonya': 2728, 'pengupload': 2729, 'rapotnya': 2730, 'awalnya': 2731, 'diprogram': 2732, 'ipa': 2733, 'kaka': 2734, 'qwota': 2735, 'ngeprank': 2736, 'mengingatkan': 2737, 'ngirim': 2738, 'aduhh': 2739, 'melindungi': 2740, 'wal': 2741, 'afiat': 2742, 'memberikan': 2743, 'sempurna': 2744, '*wassalamualaikum*': 2745, 'grammatical': 2746, 'mengurangi': 2747, 'fungsi': 2748, 'tsb': 2749, 'baarakallahu': 2750, 'fiikum': 2751, 'rsud': 2752, 'al': 2753, 'ihsan': 2754, 'hhe': 2755, 'automatic': 2756, 'show': 2757, 'how': 2758, 'urusin': 2759, 'wey': 2760, \"let's\": 2761, 'boys': 2762, 'ha': 2763, 'hussyaini': 2764, 'ciptakan': 2765, 'dlu': 2766, 'lgi': 2767, 'pintunkemana': 2768, 'cepat': 2769, 'tiger': 2770, 'mantaaaaapppp': 2771, 'talk': 2772, 'less': 2773, 'more': 2774, 'kalung': 2775, 'raised': 2776, 'goks': 2777, 'kereennn': 2778, 'ilmuwan': 2779, 'rupanya': 2780, 'wehh': 2781, 'babang': 2782, 'mantappppp': 2783, 'kereeeeeen': 2784, 'sedeeepp': 2785, 'nurturing': 2786, 'future': 2787, 'klinik': 2788, 'positive/negative': 2789, '(kawasan)': 2790, 'darmawan2505': 2791, 'trakir': 2792, 'kotor': 2793, 'kran': 2794, 'sensor': 2795, 'injek': 2796, 'rambut': 2797, 'l': 2798, 'duduk': 2799, 'bangkunya': 2800, 'kulit': 2801, 'kering': 2802, 'timbulnya': 2803, 'bakteri': 2804, 'alihin': 2805, 'sarung': 2806, 'to': 2807, 'be': 2808, 'akhie': 2809, 'and': 2810, 'ukhtie': 2811, 'dimatikan': 2812, 'spy': 2813, 'menghemat': 2814, 'air': 2815, 'bagai': 2816, '\"': 2817, 'sikunya': 2818, 'ujian': 2819, 'distance': 2820, 'nasib': 2821, 'fteku': 2822, 'kebayang': 2823, 'antrian': 2824, 'bakalan': 2825, 'skarang': 2826, 'pump': 2827, 'dalem': 2828, 'naik': 2829, 'setara': 2830, 'fikir': 2831, 'panggila': 2832, 'telekonference': 2833, 'wkkw': 2834, 'antri': 2835, 'bnyk': 2836, 'pakenya': 2837, 'eskalator': 2838, 'beton': 2839, 'mencium': 2840, 'mbl': 2841, 'parkir': 2842, 'nl': 2843, 'pict': 2844, 'physical': 2845, 'santuy': 2846, 'lohh': 2847, 'dipasangin': 2848, '07': 2849, 'cant': 2850, 'normal': 2851, 'gituan': 2852, 'nihg': 2853, 'ngadepnya': 2854, 'panah': 2855, 'terbaik': 2856, 'memang': 2857, 'tbtb': 2858, 'batalin': 2859, 'tiket': 2860, 'pp': 2861, 'hotel': 2862, 'komenannya': 2863, 'pembatalan': 2864, 'pulangkan': 2865, 'unchhhhh': 2866, 'yuhuuu': 2867, 'selamatttt': 2868, 'anjir': 2869, 'tiur': 2870, 'keraddd': 2871, 'dft': 2872, 'yeeaayy': 2873, 'first': 2874, 'ma': 2875, 'bahagian': 2876, 'ngpain': 2877, 'sihh': 2878, 'nggaa': 2879, 'liburin': 2880, 'weh': 2881, 'wes': 2882, 'omah': 2883, 'le': 2884, 'laboran': 2885, 'gabolehin': 2886, 'pdhal': 2887, 'jelas': 2888, '21': 2889, 'lalalallaal': 2890, 'lai': 2891, '216': 2892, 'paham': 2893, 'jelaskan': 2894, 'poin': 2895, 'kaa': 2896, 'sh': 2897, 'pengumumannya': 2898, 'yess': 2899, 'bel': 2900, 'kutub': 2901, 'utara': 2902, 'mencari': 2903, 'kitab': 2904, 'suci': 2905, 'harusny': 2906, 'bahaya': 2907, 'benerbener': 2908, 'ngeblur': 2909, '18': 2910, 'my': 2911, 'alloh': 2912, 'super': 2913, 'hm': 2914, 'yaudah': 2915, 'gpp': 2916, 'save': 2917, 'people': 2918, 'sebenernya': 2919, 'time~': 2920, 'pasir': 2921, 'podomoro': 2922, 'kusam': 2923, 'orng': 2924, 'bosen': 2925, 'lingkungan': 2926, 'berpergian': 2927, 'misal': 2928, 'perjalanan': 2929, 'justru': 2930, 'nular': 2931, 'perpanjang': 2932, 'ey': 2933, 'besok': 2934, 'wargot': 2935, 'gaskeun': 2936, 'lombok': 2937, 'memperbesar': 2938, 'kontak': 2939, 'transportasi': 2940, 'bus': 2941, 'kereta': 2942, 'sip': 2943, 'ngejar': 2944, 'absen': 2945, 'telat': 2946, 'buku': 2947, 'tipping': 2948, 'lindungan': 2949, 'ilangg': 2950, 'yahh': 2951, 'berkontak': 2952, 'diperhatikan': 2953, 'pencerahan': 2954, 'verifikasi': 2955, 'pembuatan': 2956, 'skpi': 2957, 'dialihkan': 2958, 'semarang': 2959, 'coming': 2960, 'travel': 2961, 'diyakini': 2962, 'yakin2an': 2963, 'hrs': 2964, 'gosh': 2965, 'urvillnya': 2966, 'astaga': 2967, 'keknya': 2968, 'gajadi': 2969, 'tiati': 2970, 'ajang': 2971, 'liburan': 2972, 'rumah/kos': 2973, 'trs': 2974, 'penyakitnya': 2975, 'kesini': 2976, 'galau': 2977, 'ariantoo': 2978, 'pulangg': 2979, 'nongki2': 2980, 'kost/kontrakan': 2981, 'garden': 2982, 'aamin': 2983, 'burem': 2984, 'susulan': 2985, 'kaprodi': 2986, 'cakep': 2987, 'kesehatannn': 2988, 'yaallah': 2989, 'bner': 2990, 'tulisannya': 2991, 'sedang': 2992, 'ta/pa': 2993, 'buk': 2994, 'mangga': 2995, 'liburr': 2996, 'auliah': 2997, 'alhamdulilahhhh': 2998, 'grecep': 2999, 'sebaiknya': 3000, 'dilakukan': 3001, 'penyemprotan': 3002, 'desinfektan': 3003, 'konsultasi': 3004, 'statistik': 3005, 'olah': 3006, 'survey': 3007, 'ahlinya': 3008, 'mathedu18a': 3009, 'cikoneng': 3010, 'pikiran': 3011, 'bersih': 3012, 'lebaran': 3013, 'ngeditnya': 3014, 'inshot': 3015, 'gedeg': 3016, 'bersarang': 3017, 'dika': 3018, 'karrtiko': 3019, 'candra': 3020, 'arvin': 3021, 'waswas': 3022, 'memutuskan': 3023, 'purwokerto': 3024, 'ittp': 3025, 'taun': 3026, 'deep': 3027, 'cleaning': 3028, 'andri': 3029, 'sapta': 3030, 'taruna': 3031, 'block': 3032, 'b141': 3033, 'gobah': 3034, \"''')\": 3035, 'temboknya': 3036, 'bujang': 3037, 'ilham88': 3038, 'rest': 3039, 'kursinya': 3040, 'kepegang': 3041, 'bertindak': 3042, 'daripada': 3043, 'diam': 3044, 'penyakitan': 3045, 'alf': 3046, 'gils': 3047, 'manteppp': 3048, 'yoooo': 3049, 'cheeeeeck': 3050, 'lobby': 3051, 'merata': 3052, 'ngak': 3053, 'inter': 3054, 'gituin': 3055, 'alih\"': 3056, 'promosi': 3057, '\"uwaw\"': 3058, 'unsri': 3059, 'kpn': 3060, 'musik': 3061, 'harvestmoon': 3062, 'asramanyaa': 3063, 'paak': 3064, 'merondap': 3065, 'palem': 3066, 'savoring': 3067, 'cijeungjing': 3068, 'mantepppp': 3069, 'jawaban': 3070, 'bioskop': 3071, 'guuudddddddddd': 3072, 'annisa': 3073, 'pga': 3074, 'tempat2': 3075, 'berinteraksi': 3076, 'anggota': 3077, 'senengg': 3078, 'semprpt': 3079, 'lantainya': 3080, 'meja': 3081, 'peralatan': 3082, 'sekalaian': 3083, 'mantepp': 3084, 'dilakukannya': 3085, 'dikirain': 3086, 'nyemprot': 3087, 'kispray': 3088, 'take': 3089, 'keberapa': 3090, 'lying': 3091, 'asramanya': 3092, 'lab': 3093, 'warkop': 3094, 'masboi': 3095, 'maneh': 3096, 'lang': 3097, '406': 3098, '2in': 3099, 'kekontrakan': 3100, 'mandi': 3101, 'heran': 3102, 'bersihin': 3103, 'mantaapppp': 3104, 'perempuan': 3105, 'gba': 3106, 'fighting': 3107, 'sah': 3108, 'ubun2nya': 3109, 'andalan': 3110, 'gerlong': 3111, 'mengobati': 3112, 'chernobyl': 3113, 'kantor': 3114, 'jugalah': 3115, 'pi': 3116, 'au': 3117, 'pestisida': 3118, 'backsoudnya': 3119, 'fi': 3120, 'tny': 3121, 'sesuatu': 3122, 'mention': 3123, 'twitter': 3124, 'email': 3125, 'telfon': 3126, 'balesan': 3127, 'hel': 3128, 'are': 3129, 'international': 3130, 'students': 3131, 'gemana': 3132}\n"
     ]
    }
   ],
   "source": [
    "from collections import Counter\n",
    "counts = Counter(all_word)\n",
    "vocab = sorted(counts, key=counts.get, reverse=True)\n",
    "vocab_to_int = {word: ii for ii, word in enumerate(vocab,1)}\n",
    "print(vocab_to_int)"
   ]
  },
  {
   "cell_type": "code",
   "execution_count": 36,
   "metadata": {},
   "outputs": [
    {
     "name": "stdout",
     "output_type": "stream",
     "text": [
      "[[445, 446, 447, 180, 10, 12], [6, 39, 6], [37, 6, 39], [6, 39, 6, 12], [6, 12, 1, 4, 47, 44, 48], [39, 6, 12, 1263, 1264, 1265, 127], [64, 6], [64, 6], [6, 39, 6, 17, 194, 308, 365, 119, 309, 89, 97, 72, 98, 99], [310, 180, 1266, 152, 574, 69, 366, 448, 311, 260], [64, 1267], [37, 6], [6, 748], [6, 22, 75, 10, 1, 4, 89, 13], [64, 6], [6, 39, 10, 6, 109], [17, 110, 6, 15, 66], [6, 39, 308, 365, 119], [6, 39, 1268, 120, 749, 750, 158, 23, 19, 1], [6, 205, 205, 205, 205, 205, 205, 205, 205], [25, 751, 749, 6, 1269, 206, 752, 207, 17, 261], [64, 6], [312, 575, 753, 6, 31], [6], [6, 22, 576, 22, 38, 12], [64, 6], [3, 144, 69, 90, 39], [754, 159, 78, 367, 1270, 449, 145], [39, 6, 39, 577, 577, 76, 90, 17, 1271, 153, 195, 368, 1, 4, 114, 313, 208, 89, 97, 72, 98, 99, 209, 755, 79, 450, 136, 451, 1272, 314, 120, 234, 452, 27, 314, 756, 453, 32, 209, 32, 22, 757, 315, 65, 316, 1273, 368, 89, 97, 72, 98, 99], [64, 6], [64, 6], [1274, 6, 39, 6, 369, 6, 311, 317, 210, 1275, 758, 1276], [759, 3, 6, 84, 100, 160, 34], [64, 6, 22, 39, 1277], [3, 144, 1278, 1279, 39, 66, 754, 69, 159, 1280, 760, 449, 23, 19, 1], [84, 128, 1281], [317, 51, 761, 762, 115], [6, 25, 39], [6, 22, 39, 3, 454], [6, 578, 32, 1282, 763], [153, 195], [1283, 181, 85, 1284], [64, 6], [64, 579], [89, 97, 72, 98, 99, 89, 97, 72, 98, 99, 89, 97, 72, 98, 99, 89, 97, 72, 98, 99, 89, 97, 72, 98, 99], [1285, 309], [318, 31, 129, 7, 319, 370, 262, 371, 370, 91, 161, 263, 371, 54, 40, 1286, 1287, 29, 370, 1288, 580, 1289, 581, 455], [6, 748, 764, 765, 1290, 264, 320, 264, 320], [1291], [1292], [40, 6, 22, 235, 7, 1293, 265, 54, 766], [308, 365], [1294], [153, 195], [456, 582, 37, 767, 75, 1295, 768, 34, 1296, 25, 1297, 78, 1298, 196, 23, 19, 1, 23, 19, 1, 23, 19, 1], [321, 75, 3, 308, 25, 372, 121, 34, 236], [1299, 128, 1300], [6], [39, 3, 144, 210, 33, 146, 750, 130, 583, 17, 308, 365, 3, 25, 1301, 373, 137, 33, 146, 1302, 25, 73, 769, 54, 1303, 35, 1304, 67, 582, 266, 138, 76, 1305, 768, 79, 457, 450, 16, 1306, 374, 22, 1307, 27, 68, 770, 314, 1308, 453, 32, 209, 53, 260, 32, 771, 315, 234, 65, 771, 584, 1309, 1, 4, 47, 44, 48, 14, 5], [37, 6, 1310, 585, 1311, 153, 195], [64, 6, 39], [6, 764], [317, 51, 761, 762, 115], [317, 51, 1312], [153, 195, 1313, 1314, 1315, 1], [37, 6, 39, 3], [6, 1316], [41, 42, 111, 267, 1317, 55, 366, 268, 237, 234, 162], [772, 773, 37, 1318, 451, 56, 182, 574, 774], [83, 18, 775, 6, 163], [586, 6, 75, 12], [1319, 162, 1320, 119, 122, 587], [39, 34, 37, 458], [84, 128, 37, 373], [37, 162, 776], [1321, 375, 777, 588], [128, 373, 91, 162], [164], [1322, 1323], [376, 110, 165, 23, 19, 1], [37, 6, 578, 778, 22, 589], [162, 779, 101, 1324, 586, 6, 1325, 374], [6, 6], [1326, 1327, 1328, 1329], [1330], [11, 1, 4, 2, 13, 11, 1, 4, 2, 13, 11, 1, 4, 2, 13], [1331, 780, 30, 1332], [781, 6, 38, 31], [1333, 459, 16, 87, 27, 1334, 162, 119, 95, 1, 4, 11, 13], [56, 182, 69, 139, 1335, 322, 586, 6, 63, 1336, 374, 1337, 123, 71, 460, 461, 1338, 377, 462, 463, 16, 7, 1339], [1340, 782, 783, 207, 234, 154, 588], [312, 378, 6, 163, 71, 42, 1341], [116, 42, 211, 33, 6], [784, 785, 786, 21], [379, 464, 465, 1342, 466, 787, 788, 467, 32, 1343, 1344, 1345, 1346, 1347, 57, 46], [42, 183, 789, 116, 53, 790, 1348, 27, 6, 29, 59, 165, 468, 1349, 1350, 40, 15, 154], [35, 1351, 590, 162, 38, 12], [58, 102, 45, 591, 1352, 269, 791, 792, 793, 794, 7, 469, 65, 1353, 1354, 45, 166, 592], [17, 136, 593, 22, 91, 57, 46, 380, 470, 212, 270, 471, 472, 1355, 61, 16, 213, 92, 1356, 381, 16, 795, 594, 57, 46, 167, 796, 61, 27, 382, 595, 1357, 472, 18, 212, 16, 1358, 1359, 18, 29, 16, 471, 473, 472, 27, 61, 139, 596, 797, 323, 103, 271, 36, 61, 76, 1360, 383, 92, 381, 16, 795], [1361, 474, 1362, 798, 1363, 799, 1364, 1365, 597, 1366, 800, 801, 798, 1367, 802, 1368], [17, 803, 61, 46, 91, 57, 46, 1369, 471, 61, 384, 1370, 96, 119, 30, 1371, 804, 212, 805, 58, 1372], [1373, 1374, 806, 806, 1375, 475, 38, 34, 67, 87, 180], [168, 385, 324, 1376, 807, 238, 469, 1377, 131, 1378, 268, 1379, 61, 16, 210, 18, 61, 1380, 272, 1381, 807, 469, 598, 131, 808, 809, 1382, 453, 810, 27, 1383, 45, 811, 1384, 325, 214, 207, 147, 324, 215, 812, 38, 104, 215, 813, 814, 815, 812, 598, 1385, 131, 448, 325, 372, 121, 599, 809, 61], [103, 58, 1386, 102, 386, 80, 137, 58, 32, 1387, 71, 1388, 166, 1389, 269, 1390, 129, 1391, 816, 1392, 45, 166, 30, 100, 817, 476, 137, 818, 7, 1393, 819, 239, 68, 600, 820, 139, 102, 45, 477, 314, 27, 147, 821, 273, 7, 477, 314, 274, 100, 580], [42, 7, 154, 20, 158, 10, 57, 46, 128, 6, 822], [1394], [155, 823, 1395, 1396, 271, 1397], [1398, 42], [64, 36, 824, 61, 46, 30, 213, 212, 103, 386, 80, 90, 601, 602, 35, 603, 30, 39, 119, 117, 825, 1399, 1400, 604, 61, 1401, 601, 1402, 478, 239, 17, 1403, 53, 183, 96, 1404, 826, 27, 1405, 605, 53, 132, 92, 101, 22, 61, 27, 827, 30, 387, 1406, 84, 183, 1407, 61, 1408, 1409, 83, 1410, 1411, 132, 92, 601, 61, 239, 17, 35, 15, 35, 53, 183, 479, 1412, 169, 35, 828, 826, 605, 388, 53, 275, 1413, 603, 61], [606, 42, 31, 12, 116, 607, 122], [32, 480, 326, 608, 1414, 30, 55, 20, 609, 829, 184, 1415, 1416, 137, 69, 139, 1417], [38, 776, 156, 240, 481, 1], [216, 1, 216, 1, 216, 1, 216, 1], [42, 830, 20, 7, 276, 116], [610, 36, 831, 29, 832, 63, 133, 12], [25, 1418, 32, 217, 167, 1419, 1420, 1421, 17, 41, 53, 73, 1422, 218, 1423, 277], [20, 15, 33, 1424, 326, 482, 241, 833, 483, 63, 55, 327, 42, 211, 140, 6, 36, 57, 46, 1425, 328, 326, 1426, 1427, 55, 73, 58, 329, 378, 16, 79, 41, 73, 611, 1428, 27, 54, 1429], [12, 312, 105, 242, 482, 31, 105, 110, 483], [278, 124, 42, 116, 10, 279], [20, 156, 46], [106, 131, 1430, 238, 1431, 10, 81, 109], [1432], [1433, 42, 480, 7, 154, 28], [36, 590, 162, 27, 834, 484, 38, 10], [104, 389, 835, 102, 1434, 118, 51, 1435, 1436, 31, 86, 73, 58, 7, 1437, 836, 837, 197, 16, 838, 485, 325, 73, 1438, 118, 51, 68, 1439, 45, 839, 27, 325, 73, 166, 278, 170, 837, 197, 7, 219, 330, 485, 325, 840, 1440, 243, 16, 1441, 170, 61, 1442, 272, 46, 168, 386, 1443, 133, 1444, 1445, 27, 61, 61, 16, 213, 280, 1446, 3, 583, 6, 331, 59, 141, 3, 140, 22, 390, 260, 612, 120, 613, 613, 124, 42, 468, 27, 486, 389, 140, 6, 80, 375, 185, 17, 73, 841, 27, 15, 487, 35, 1447, 17, 842, 843, 56, 583, 1448, 386, 80, 3, 448, 844, 844, 16, 213, 104, 614, 1449, 244, 245, 246, 615, 615, 16, 1450, 616, 16, 614, 1451, 6, 101, 1452, 594, 61, 27, 272, 46, 82, 3], [42, 327, 116, 310, 53, 15, 617, 378, 1453, 845, 391, 1454, 37, 6], [1455, 1456, 1457], [247, 171, 1458, 332, 156, 10, 12, 618, 1459, 27, 1460, 29, 488, 619, 156, 29, 101, 16, 248, 1461, 27, 1462, 171, 489, 17, 220, 247, 846, 84, 58, 847, 490, 16, 848, 101, 171, 849, 850, 489, 156, 70, 62], [491, 851, 76, 7, 852, 852, 1463], [333, 1464, 1465, 93, 1466, 492], [12, 620, 281, 621, 1467, 133, 10, 12, 86, 334, 615, 791, 46, 63, 18, 148, 182, 82, 14, 5], [42, 7, 327, 853, 20, 854, 855, 137, 20, 493, 36, 856, 323, 46, 83, 73, 58, 1468, 378, 16, 170, 112, 856, 323, 46, 1469, 244, 112, 622, 857, 197, 79, 103, 386, 80, 323, 46, 22, 209, 214, 207, 184, 61, 623, 57, 392, 15, 1470, 17, 1471, 66], [393, 393, 68, 16, 102, 477, 206, 1472, 1473, 792, 794, 793, 624, 1474, 1475, 1476, 1477, 394, 858], [139, 1478, 73, 611, 22, 89, 97, 72, 98, 99, 89, 97, 72, 98, 99, 89, 97, 72, 98, 99, 23, 19, 1, 23, 19, 1, 23, 19, 1, 494, 1479, 797, 282, 625], [64, 1480, 53, 335, 1481, 626, 61, 101, 1482, 71, 1483, 1484, 1485, 1486, 1487, 627, 194, 283, 241, 1488, 1489, 63, 42, 249, 116, 613, 1490, 1491, 185, 54, 58, 859, 186, 198, 54, 1492, 1493, 1494, 9, 2], [154, 284, 27, 1495, 285, 395, 1496], [106, 860, 286, 29, 396, 389, 102, 45, 121, 592, 277], [42, 276, 116, 628, 158, 33, 1497, 861, 78, 287], [862, 7, 1498, 609, 574, 1499, 1500, 863, 76, 609, 24, 21, 24, 21, 8, 8, 8, 24, 21, 24, 21, 1501], [864, 3, 103, 31, 1502, 1503, 53, 16, 865, 866, 105, 15, 867, 867], [40, 18, 1504, 1505, 152, 1506, 397], [276, 42, 76, 288], [336, 25, 169, 12, 40, 156, 46, 145], [629, 69, 398, 66], [36, 30, 336, 133, 243, 868, 1507, 388, 1508, 239, 17, 168, 1509, 1510, 129, 1511, 1512, 381], [1513, 6, 25, 159, 1514, 34, 1515, 630, 1516, 240, 37, 6, 197, 628, 158, 145], [104, 46, 20, 1517, 6, 197, 71, 843, 56, 15, 10, 145], [36, 631, 399, 869, 38, 10, 12, 394, 870, 7, 871, 1518], [64, 30, 336, 38, 1519], [64, 632, 289, 42, 22, 1520, 33, 6, 85, 163, 261], [64, 579, 1521, 165, 42, 1522, 283, 290, 116, 872, 400, 20, 1523, 378, 873, 290, 874, 873, 1524, 626, 1525, 465, 1526, 1527, 290, 1528, 400, 1529, 249, 290, 1530, 1531, 874, 290], [133, 92, 212, 16, 875, 1532, 388, 1533, 187, 1534, 324, 183, 1535, 291, 1536, 113, 876, 1537, 66], [1538, 145], [64, 17, 57, 877, 1539, 61, 877, 397, 1540, 1541, 1542, 1543, 449, 878, 593, 292, 401, 391, 1544], [1545, 859, 23, 19, 1], [3, 879, 212, 27, 337, 337, 18, 154, 42, 63, 78, 63, 6], [772, 495, 113, 633, 57, 604, 1546, 1547], [42, 15, 327, 34], [1548, 1549, 880, 1550, 402, 10], [250, 107, 16, 403, 1551, 1552, 87, 1553, 90, 111, 267, 65], [1554], [455, 625, 620, 281, 67, 83, 18, 276, 42, 36, 111, 17], [602, 35, 496, 63, 445, 279], [86, 36, 484, 18, 1555, 46, 22, 12], [12, 64, 1556, 6, 33, 57, 240], [42, 327, 116, 158, 66, 404, 113, 1557, 66], [36, 30, 405, 86, 87, 79, 92, 634, 881, 460], [156, 46, 103, 7, 1558, 80, 31, 45, 1559, 1560, 243, 30, 7, 1561, 83, 840, 27, 1562, 128, 381, 30, 235, 36, 1563, 27, 29, 857, 197, 7, 470, 166, 30, 100, 838, 36, 635, 156, 46, 27, 100, 80, 36, 30, 61, 490, 293, 1564, 1565, 133, 86, 636, 221, 25, 96, 170, 7, 882, 36, 883, 83, 92, 478, 30, 239, 17, 41, 818, 17, 637, 497, 239, 73, 251, 406, 337, 337, 58, 73], [498, 1566, 884, 407, 407, 1567, 1568, 1569], [1570, 35, 1571, 1572, 212, 1573], [452, 1574, 885], [43], [133, 30, 7, 1575, 638, 1576, 886, 86, 18, 1577], [1578], [103, 122, 17, 106, 1579, 122, 57, 240, 214, 207, 27, 214, 887, 18, 61, 1580, 888, 57, 1581, 15, 396, 889, 639, 23, 19, 1, 23, 19, 1, 23, 19, 1, 23, 19, 1, 23, 19, 1, 23, 19, 1, 23, 19, 1, 23, 19, 1, 23, 19, 1], [36, 30, 399, 869, 38], [86, 18, 484, 46, 12], [1582, 1583, 890, 41, 637, 1584, 1585, 1586, 27, 286], [40, 338, 17, 63, 338, 267, 20, 891, 499, 7, 892, 499, 500, 20, 15, 339, 893, 35, 1587, 90, 871, 23, 19, 1, 23, 19, 1], [104, 222, 894, 858, 117, 895, 340, 597, 501, 86, 323, 497, 870, 896, 392, 101, 897, 16, 1588, 1589], [20, 15, 898, 141, 42, 1590, 141, 899, 1591, 116, 900, 294, 1592, 33, 140, 1593, 6, 36, 206, 287, 383, 58, 847, 490, 461, 1594, 805, 145], [12, 103, 1595, 45, 1596, 322, 61, 46, 76, 1597, 280, 640, 408, 147, 640, 1598, 788, 222], [901, 156, 240, 409, 215, 1599, 33, 1600, 45, 131, 1601, 222, 1602, 119, 883, 240, 452, 902, 1603, 1604], [154, 116, 1605, 42, 855, 149, 149, 149], [1606], [1607], [16, 336, 169, 10, 223, 46, 25, 475, 868, 875, 1608, 618, 903, 101, 27, 129, 101, 243, 16, 1609, 29, 84, 15, 20, 833, 252, 15, 832, 28], [82, 641, 10, 41, 73, 502, 904], [1610, 79, 642, 503, 905, 109, 95, 1, 4, 11, 13], [1611], [36, 643, 504, 38, 253, 12], [222, 410, 295, 25, 111, 267, 1612, 1613, 27, 1614, 16, 906, 38], [70, 62, 641], [30, 35, 102, 76, 1615, 16, 1616, 104, 1617, 907, 63, 199, 908, 209, 1618, 633, 246, 152, 338, 382, 909, 1619, 102, 910, 1620, 287, 15, 584, 104, 907, 273, 16, 53, 911, 251, 406, 411], [1621, 156, 38, 1622], [455, 625, 620, 281, 67, 36, 1623, 156, 18, 1624, 96, 1625], [251, 406], [340, 102, 1626, 112, 1627, 199, 27, 1628, 1629, 834, 912], [505, 505, 31, 124, 42], [12, 1630, 389, 102, 67, 10, 12, 280, 54, 814, 1631, 1632, 45, 166, 166], [1633, 51, 115, 644, 1, 644, 1, 644, 1], [200, 1634, 1635, 88, 375, 506, 507, 52, 49, 50], [1636, 1637], [39, 144, 412, 1638], [913, 263, 1639, 6, 645, 29, 110, 1640], [120, 263, 282, 3, 6, 315, 18, 160, 3], [646, 413, 37, 6, 22, 647], [414, 412, 508, 1641], [1642, 108, 100, 914, 29], [333, 3, 1643, 6, 25, 120, 1644, 1645, 27, 68, 1646, 509, 146, 46, 14, 5, 14, 5, 14, 5], [100, 246, 770, 1647, 1], [6, 69, 159, 34, 1, 4, 47, 44, 48], [415, 645, 18, 1648, 1], [210, 510, 263, 371, 7, 1649, 54, 263, 282, 647, 262, 1650, 39, 34, 6, 69, 35, 159, 915, 915, 1651, 1652, 41, 916, 15, 1653, 368, 1654], [39, 6, 23, 19, 1], [108, 246, 486, 100, 18, 171, 67, 67, 80, 10, 3], [144, 108, 100, 160, 10, 3, 117, 1655, 917, 3, 66], [39, 34, 6, 163, 335, 39, 1656], [250, 576, 511, 39, 69, 918, 207, 34, 147, 69, 172, 101, 61, 1657, 27, 1658, 919, 27, 188, 87, 645, 920, 37, 16, 921, 648, 188, 920, 69, 242, 1659, 28, 188, 576, 1660], [39, 17, 37, 197, 22, 12], [235, 3], [1661, 416, 247, 296, 70, 62, 88, 118, 51], [221, 25, 922, 244, 1662, 3], [221, 198, 922, 1663, 17], [198, 649, 141, 215, 16, 15, 59, 78, 20, 36, 7, 140, 16, 120, 59, 78, 20, 33, 1664, 124, 1665, 33, 1666, 3, 40, 6, 463, 194, 607, 31, 16, 120, 617, 78, 15, 446, 1667, 157, 112, 173, 6, 383, 417, 6, 15, 1668, 1669, 223, 15, 923], [164, 186, 31, 14, 5, 341, 52, 49, 50], [30, 80, 650, 1670, 133, 3], [512, 28, 20, 15, 1671, 1672, 85, 1673, 1674], [55, 18, 37, 36, 30, 651, 513, 413, 3, 109], [1675, 1676], [924], [418, 652, 380, 342, 20, 297, 342, 96, 925, 92, 1677, 631, 57, 1678, 163], [26, 70, 62, 101, 3, 41, 926, 1679, 118, 51, 30, 1680, 170, 7, 56, 1681, 7, 121, 199, 167, 24, 21], [927, 1682, 75, 10], [75, 1683], [41, 36, 73, 224, 10, 3, 76, 30, 85, 28], [174, 1684, 1685, 22, 120, 767, 27, 189, 293, 6, 36, 298, 85, 10, 928, 929, 22, 33, 30, 83, 59, 224, 85, 169, 10, 168, 929, 22], [299, 25, 120, 617, 330, 71, 1686, 412, 1687, 71, 1688, 930, 25, 766, 3, 33, 1689], [157, 7, 1690, 10, 3, 168, 514, 34, 402, 931, 500, 653, 932, 157, 1691, 1692, 141, 111, 1693, 58, 931, 500, 653, 932, 66, 136, 25, 587, 89, 97, 72, 98, 99, 89, 97, 72, 98, 99], [933, 209, 419, 30, 59, 224, 32, 3, 65, 15, 487, 59, 379, 113, 34, 140, 181, 80, 419, 33, 1694, 37, 66], [1695, 514, 3, 106, 91, 298, 85, 1696], [456, 3, 343, 25, 595, 281, 489, 643, 504, 343, 86, 18, 934, 36, 643, 504, 36, 125, 30, 117, 7, 219, 820, 343, 654, 201, 612, 100, 1697, 36, 45, 474, 137, 478, 30, 239, 17, 343, 86, 20, 1698, 343, 70, 62, 343], [935, 74, 27, 655, 30, 1699], [935, 74, 27, 655, 12, 1700, 17, 194, 340, 7, 420, 420, 190, 6, 34, 198, 1701, 190, 1702, 1703, 137, 117, 656, 175, 175, 1704, 329, 254, 28, 54, 96, 936, 657, 658, 1, 515, 114, 903, 123], [125, 38, 3], [3, 311, 1705, 22, 270, 1706, 33, 1707, 27, 1708, 28, 1709, 84, 39, 59, 1710, 1711, 80, 3, 261], [17, 38, 148, 659, 22], [1712, 1713, 630, 311, 1714], [56, 260, 112, 85, 34, 1715], [16, 59, 181, 174, 38, 321, 255, 22, 66], [26, 937, 938, 289, 111, 34, 774], [1716, 1717], [3, 125, 234, 37, 94, 1, 4, 344, 40, 316, 234, 37, 6, 614, 331, 502, 173, 1718, 466, 939, 1719, 1720, 245, 1721, 300, 225, 20, 300, 1722, 516, 1723, 1724, 27, 1725, 1726, 16, 1727, 1728, 1729, 940, 345], [38, 127, 1730, 108, 55, 18, 37], [1731, 1732, 517, 660], [198, 1733, 289, 374, 36, 111, 267, 66], [518, 120, 139, 326, 32, 194, 109, 223, 189, 293, 165, 1734, 1735, 16, 182, 1736, 941, 6, 385, 223, 1737, 942, 519], [247], [1738], [1739, 600, 1740, 18, 1741, 3], [33, 1742, 6, 40, 1743, 943, 22, 237, 1744], [1745, 1746, 639], [37, 141, 944, 33, 30, 80, 336, 126, 1747, 3, 1, 4, 47, 44, 48], [945, 1748, 254, 28], [1749, 800, 1750, 946, 12], [421, 34], [3, 125, 29, 35, 31, 3, 23, 19, 1], [661, 947, 3, 282, 1751], [148, 662, 38, 1752, 663, 1753, 1754], [1755, 80, 3, 105, 172, 1756, 1757, 1758, 3], [9, 2], [664, 140, 301, 79, 1759], [665, 520, 14, 5, 41, 666, 1760, 22, 296, 7, 1761, 10, 3, 11, 1], [245, 245, 322, 6, 163, 17, 105, 58, 139, 1762, 667, 42, 67, 10, 93], [55, 18, 938, 61, 226, 3], [1763, 1764], [661, 32, 29, 128, 3], [176, 5], [948, 632, 79, 131, 65, 79, 146, 46, 29, 10, 95, 1, 4, 11, 13, 24, 21], [949, 332], [125, 125, 1765], [112, 173, 141], [1766, 322, 22, 38, 134], [40, 15, 668, 53, 87, 58, 65, 94, 1, 4, 344, 1767, 1768, 1769], [8, 8, 8], [418, 42, 418, 667, 1770, 1771, 28, 1772, 33, 57, 240, 285], [26, 8, 8], [26, 106, 20, 1773, 669, 90, 1774, 11, 1, 4, 2, 13, 11, 1, 4, 2, 13], [1775, 670, 464, 1776, 25, 194, 1777, 787, 1778, 1779, 1780, 1781, 1782], [1783, 1784, 256, 496, 122, 950, 521, 17, 109, 315, 1785, 6, 127, 287, 302, 78, 1786, 6, 223, 603, 61, 23, 19, 1, 11, 1, 4, 174, 11, 1, 4, 174, 1, 4, 47, 44, 48, 1, 4, 47, 44, 48], [1787, 951], [82], [3, 16, 422, 191, 51, 20, 1788, 1789, 952, 3, 66], [1790, 1791, 1792, 953, 1793], [25, 15, 128, 6, 3, 25, 1794, 22, 241, 115], [75, 34, 671], [1795, 1796, 1797, 29], [954], [954], [955, 257, 1798, 158, 604, 17, 94, 258, 1, 94, 258, 1, 94, 258, 1, 94, 258, 1, 94, 258, 1, 94, 258, 1, 955, 257, 388, 1799, 17, 262, 423, 23, 19, 1, 23, 19, 1, 23, 19, 1, 23, 19, 1, 23, 19, 1, 23, 19, 1], [26, 54, 55, 469, 80, 79, 6], [3, 104, 126, 221, 1800, 522, 28, 3, 65, 756, 453, 1801, 134, 3, 956, 1, 4, 114, 313, 208], [38, 148, 662, 953], [1802, 163, 16, 1803, 943, 22, 15, 1804, 28, 40, 346, 957], [14, 5, 52, 49, 50], [276, 42, 31], [154, 116, 42], [958, 107, 8], [256, 1805], [3, 40, 141, 22, 28, 628, 15], [1806, 937, 908, 1807, 22, 34, 38, 1808, 1809, 1810], [347], [264, 320, 264, 320, 264, 320], [311, 959, 206, 960, 278, 3, 132, 104, 1811, 130, 83, 278], [82, 961, 1812, 1, 227, 115, 228], [11, 1, 4, 2, 13, 11, 1, 4, 2, 13, 11, 1, 4, 2, 13, 11, 1, 4, 2, 13, 11, 1, 4, 2, 13], [962, 7, 59, 33, 669, 188, 481, 1], [1813, 75], [221, 137, 181, 30, 1814, 1815, 58, 1816, 1817, 45, 672, 28, 3, 54, 222, 1818, 45, 523, 672, 1819, 54, 222, 20, 140, 6, 757, 36, 30, 412, 329, 1820, 1821, 20, 7, 963, 119], [8, 8, 8, 8, 8], [334, 229, 28, 3], [221, 25, 7, 1822, 244, 138, 76, 7, 1823, 137, 647, 478, 1824, 30, 7, 1825, 112, 964, 965, 68, 141, 36, 1826, 1827, 964, 965, 7, 121, 27, 1828, 140, 6, 84, 1829, 137, 1830, 84, 29, 1831, 36, 1832, 42, 111, 222, 29, 11, 1, 14, 5], [6, 27, 1833, 966, 1834, 29, 126, 3, 14, 5, 14, 5, 14, 5, 524, 43, 286], [41, 112, 173, 348, 141, 230, 1], [9, 2, 9, 2, 9, 2, 9, 2], [231, 177, 231, 177, 231, 177], [35, 29, 3, 879, 121, 25, 15, 18, 78, 66], [967], [76, 968, 67, 56, 969, 1835, 1836, 67, 30, 673, 342, 969, 139, 1837], [3, 512, 28, 674], [424], [299, 103, 1838, 671, 898, 90, 25, 160, 57, 23, 19, 1, 105, 816, 28, 16, 495, 1839, 970, 1], [650, 169, 3, 109, 1840], [70, 62, 3, 1841, 493, 33, 146, 10, 1842, 76, 33, 971, 972, 1843, 973, 27, 1844], [1845, 3, 74, 1846, 974, 1847, 1848, 872, 1849, 14, 5], [525, 51, 118, 51, 9, 2, 11, 1, 4, 11, 13], [1850, 1851, 16, 39], [33, 146, 150, 91, 675], [42, 29, 975, 31], [56, 53, 450, 132, 1852, 1853, 1854, 1855, 1856], [514, 3, 64, 189, 40, 20, 79, 276, 42, 111, 267, 111, 17, 270, 1857, 976, 271, 55, 235, 71, 1858, 269, 7, 1859, 841, 25, 1860, 41, 18, 977, 1861, 16, 20, 526, 58, 1862, 978, 129, 622, 68, 3, 41, 977, 32, 217, 1863, 425, 14, 5], [3, 38, 824, 138, 63, 650, 3], [1864], [524, 3, 14, 5], [38, 148, 1865, 144, 3, 14, 5], [260, 17, 527, 184, 138, 1866, 57, 46, 187], [333, 1867, 57, 7, 123, 29], [426, 979, 1868, 402, 94, 1, 4, 11, 13], [1869, 11, 1, 4, 2, 13, 11, 1, 4, 2, 13, 11, 1, 4, 2, 13, 11, 1, 4, 2, 13], [1870, 349, 1871], [298, 174, 67, 521, 657, 658, 1], [56, 980, 194, 350, 10, 425, 17, 34, 1872, 131, 980, 981], [8, 8, 8, 8], [26, 107, 135, 1873, 176, 5, 176, 5], [1874, 43, 1875, 3, 74, 2, 427], [26], [36, 16, 200, 54, 125, 1876, 113, 38, 3], [967, 7, 528, 162, 585, 78, 23, 19, 1], [138, 327, 1877, 33, 131, 1878, 29, 54, 1879, 31, 138, 893, 71, 1880, 419, 249, 1881, 3, 23, 19, 1, 23, 19, 1, 390, 34, 982, 607, 1882], [82], [275, 68, 38, 1883], [3, 53, 15, 110, 676, 3, 23, 19, 1, 23, 19, 1], [41, 20, 336, 92, 1884, 411], [1885, 118, 51], [56, 677, 9, 2, 9, 2, 9, 2], [1886, 669, 366, 79, 131, 123, 8], [421, 34], [26, 20, 675], [43, 508, 1887, 508, 678, 889, 508], [164, 226, 1888], [679, 1889, 11, 1, 4, 2, 13], [3, 135, 132, 680, 28, 31, 3, 126, 15], [1890, 983, 984, 9, 2], [681, 17, 16, 247], [26], [161, 113, 128, 529], [220, 530, 3, 14, 5], [351, 125, 110, 29, 15, 3, 1, 4, 47, 44, 48], [43, 135, 3, 14, 5], [319, 28, 3], [26], [104, 7, 121, 69, 985, 78, 144, 1891, 31, 261], [1892], [20, 146, 190, 428, 1893, 531, 109], [126, 312, 1894, 22, 55, 10], [26, 110, 157, 71, 42, 116, 1895, 211, 33, 986, 987, 1896, 285], [1897, 184, 37, 53, 124, 468, 988, 1898, 134], [148, 1899, 1900, 145], [20, 303, 33, 156, 46], [1901, 989, 28, 3, 210], [247, 666, 112, 671, 239, 67, 10, 3, 230, 1], [96, 990, 104, 666, 57, 46, 92, 1902, 1903, 1904, 7, 991, 682, 54, 73, 171, 349, 1905, 384, 1906, 1907, 71, 1908, 1909, 1910, 1911, 168, 854, 70, 62, 14, 5], [164, 1912, 1913, 1914, 1915, 56, 127, 1916, 1917], [303, 33, 57, 10, 76, 33, 1918, 1919, 992, 1, 992, 1], [26, 10, 218, 41, 993, 296, 3, 6, 197, 159, 815, 994, 1920, 1921, 1922, 1923, 466, 57, 933], [237, 141, 42, 136, 789, 116], [945, 58, 990, 1924, 1925, 37, 16, 129, 213, 14, 5], [995], [153, 195], [178, 2], [498, 429, 352, 3], [17, 136, 91, 1926, 683, 528, 40, 32, 132, 430, 996, 683, 528, 518, 29], [983], [1927, 229, 28, 10, 3, 1928, 94, 258, 1], [135, 532, 74, 14, 5, 52, 49, 50], [26, 1929, 70, 62, 1930, 10, 3, 74, 9, 2], [781, 141], [75, 1931, 12], [1932, 23, 19, 1, 9, 2], [1933, 1934, 44, 72, 1935], [24, 21, 24, 21, 24, 21, 24, 21, 24, 21], [65, 186, 426, 54, 88], [26, 24, 21], [661, 22, 946], [1936, 8], [431, 1937], [82, 3, 673, 997, 373, 1938, 84, 519], [1939, 33, 30, 533, 533, 902], [1940], [229, 28, 150, 109], [1941, 8, 8], [1942], [402, 33, 125, 651, 513, 3, 93], [498, 429, 1943], [8, 8, 8, 8, 8], [9, 2, 9, 2, 9, 2, 9, 2], [534, 940, 28, 274], [1944, 3, 998], [1945, 1946, 32], [999, 16, 1947], [43, 107, 9, 2, 432], [1948, 8, 8], [26, 94, 258, 1], [126, 33, 1949, 1950, 15, 138], [106, 345, 1951, 279], [348, 45, 1952, 28, 223, 20], [10, 218, 82, 23, 19, 1], [43], [1953, 1954], [164, 17, 34, 16, 257, 1955], [1956, 142, 18, 30, 163, 7, 32, 217, 19, 1, 19, 1], [3, 255, 535, 254, 1000], [527, 6, 3, 33, 25, 194, 37, 162, 28, 1957, 25, 23, 19, 1], [299, 168, 1958, 27, 851, 1959, 29, 1960, 206, 209, 57, 46, 14, 5], [104, 1961, 22, 291, 6, 1962, 1963, 112, 1001, 130, 353, 1002], [404, 532, 74, 1964, 1, 227, 115, 228], [125, 1965, 10, 1, 4, 114, 313, 208, 1, 4, 114, 313, 208], [1966, 36, 1967, 450, 8, 8, 8], [33, 125, 31, 1968], [3, 17, 91, 1969, 65], [345, 294, 9, 2], [26], [37, 1970, 1971, 1972, 1973, 1974, 676, 984], [26, 24, 21, 43, 3], [18, 1975, 78, 1976, 29, 15, 138, 25, 59, 224, 1977, 66], [82, 138, 25, 220, 978, 92, 37, 71, 32, 27, 349, 1978, 971, 972, 27, 46, 536, 25, 109], [9, 2, 9, 2, 9, 2], [1979, 29, 55, 3], [43, 3, 74], [1980], [60, 3, 132, 25, 117, 398, 109], [1981, 1003, 1003], [43], [1982, 3, 74, 14, 5, 52, 49, 50], [373, 1983, 3], [304, 1984, 3, 681], [958, 14, 5], [1985, 157, 1986], [1987, 415], [1004], [9, 2, 9, 2, 9, 2], [211], [26, 14, 5, 14, 5], [1988, 3], [148, 322, 189, 684, 10], [974, 346, 346], [82, 951, 8, 9, 2], [211, 1989, 587], [26, 82, 107, 9, 2], [3, 20, 685, 989, 1990, 15], [74, 1005, 32], [3, 76, 863, 153, 195, 285], [76, 90, 18, 30, 403, 80, 10, 93], [1991, 101, 1006, 1992, 177], [26, 14, 5, 1007, 131, 1993], [26], [64, 3, 42, 1994], [962, 28, 40, 255, 173, 6, 30, 1008, 1009, 463, 3, 64, 36, 428, 1010, 68, 674, 59, 6, 1009, 3], [112, 173, 67, 127, 319, 6, 63, 213, 472, 95, 1, 4, 11, 13], [229, 22, 28, 418, 3, 14, 5, 52, 49, 50], [1995], [2, 427], [135, 107, 74, 686, 148, 1996, 38, 3], [537, 2, 537, 2], [687, 136], [125, 110, 1997, 10], [157, 90, 501], [1998], [54, 88, 146, 688, 1, 9, 2], [132, 1999, 85, 2000], [2001, 2002, 1011, 3, 14, 5], [82, 101, 220, 2003, 27, 2004, 8, 8, 8], [165, 900, 1012], [26], [665, 520, 1013], [77, 5, 77, 5, 77, 5], [496, 23, 19, 1, 23, 19, 1], [59, 254, 28, 310, 105, 20, 7, 348, 45, 689, 1, 4, 89, 13, 230, 1], [2005, 690, 312, 2006, 28], [433, 1014], [189, 90, 130, 67, 150], [3, 1015, 223, 20, 189, 2007, 28, 3, 2008, 189, 293, 6, 139, 298, 85, 54, 538, 71, 85, 2009, 83, 20, 303, 3], [376, 648, 18, 1016, 141, 42, 116, 3, 1017, 1], [26], [9, 2, 9, 2], [433, 2010, 2011, 2012, 59, 1018, 691, 2013, 1019, 127, 2014, 2015], [2016, 660], [994, 878, 2017, 236, 159, 6, 255, 1020], [11, 1, 4, 2, 13, 11, 1, 4, 2, 13, 11, 1, 4, 2, 13, 11, 1, 4, 2, 13], [2018], [2019, 2020, 2021], [43, 9, 2], [211, 271, 10, 26], [275, 38, 539, 68, 93], [57, 419, 152, 130, 15, 366, 225, 111, 198, 42, 7, 2022, 116, 3, 14, 5], [198, 37, 367], [26, 11, 1, 4, 2, 13], [91, 153, 195, 65], [26, 537, 2], [2023], [2024], [2025], [26, 43, 3, 70, 62], [1021, 265, 18, 154, 3], [2026, 93], [26, 41, 637, 2027, 95, 1, 4, 11, 13], [26, 1022, 118, 51, 9, 2], [14, 5], [2028, 2029], [82, 673, 526, 2030, 53, 678], [2031, 78, 20, 2032, 143, 95, 1, 4, 11, 13, 82, 123, 41, 296, 1023, 2033, 10, 9, 2, 432], [245, 33, 987, 1024, 150], [1025, 692, 2, 692, 2], [26], [70, 62, 3, 74, 9, 2], [41, 18, 37, 241, 14, 5], [154, 42, 116, 28, 3, 14, 5], [54, 404], [693, 69, 153, 34, 1026, 18, 521, 2034, 127, 370, 848, 6, 106, 129, 2035, 146, 2036], [353, 32, 322, 29, 142, 27, 96, 616, 2037, 71, 457, 182, 309], [512, 28, 3], [26], [1025], [148, 659, 22, 169, 236], [26, 135, 107], [3, 103, 189, 522, 28, 10, 66], [1027, 979], [247, 2038, 1028, 74, 33, 154, 42, 22, 24, 21], [41, 2039], [347], [2040, 540, 172, 88, 146, 34, 751, 3, 304], [26, 82, 3, 74], [26, 23, 19, 1, 24, 21], [74, 2041, 2042, 581, 470, 1029, 80, 2043, 1013], [678, 10, 2044, 2045], [280, 87, 152, 130, 80, 10, 3, 246, 597, 501, 14, 5], [11, 1, 4, 174, 11, 1, 4, 174], [15, 143, 154, 42, 3, 211, 33, 124, 354, 111, 267, 23, 19, 1], [694, 34, 16, 186, 186, 34], [35, 184, 165, 22, 63, 6, 22, 220, 530, 266, 3, 541, 256, 14, 5], [40, 20, 1030, 1031, 78, 45, 2046, 58, 10, 3, 1032], [43, 2047], [26], [695, 8], [41, 45, 73, 1033, 10, 3, 696, 697, 230, 1, 696, 697, 230, 1], [3, 126, 15, 7, 2048, 28, 165, 22, 187, 78, 2049, 87, 909, 2050], [82, 299], [26, 14, 5], [664, 106, 345, 32, 9, 2, 9, 2, 9, 2, 9, 2], [135, 107, 77, 5], [2051, 542, 2052, 884, 1034, 3, 998, 2053], [3, 20, 685, 672, 28, 15], [2054, 41, 15, 2055, 488, 61, 117, 101, 266, 14, 5], [698, 698, 698], [1035, 26], [70, 62, 107, 74, 14, 5, 14, 5], [2056, 691, 110, 1036, 71, 175, 25, 131, 699, 309], [26], [26], [310, 229, 31, 105, 2057, 2058, 6, 67, 822], [2059, 2060, 1, 227, 115, 228, 1, 227, 115, 228], [542, 67, 38, 34, 3, 279], [1037, 2061], [303, 146, 10, 76, 33, 1038, 1024, 8, 8], [90, 2062, 65, 3, 109], [26, 3, 74, 2063, 14, 5, 14, 5, 14, 5, 176, 5, 176, 5], [26, 70, 62, 123, 14, 5], [543, 2064, 123], [20, 7, 2065, 28, 15, 3, 1039, 11, 1], [142, 1, 4, 47, 44, 48], [9, 2, 9, 2], [43], [70, 62, 107], [255, 355, 130, 65, 3, 11, 1, 4, 2, 13, 9, 2], [216, 1, 178, 2], [347], [157, 2066, 2067], [2068], [172, 404, 79, 532, 9, 2, 9, 2, 9, 2, 9, 2], [54, 172, 88, 146], [43, 2069, 2070, 890, 8], [2071], [303, 16, 328, 2072, 777, 1040, 2073], [26, 60, 11, 1, 4, 2, 13], [54, 88, 146], [148, 662, 38], [334, 45, 2074, 2075, 10, 287, 18, 78, 215, 2076, 145], [9, 2, 9, 2, 9, 2], [9, 2, 9, 2, 9, 2, 9, 2, 9, 2, 9, 2], [577, 43], [64, 107, 489, 192, 2077, 700, 17, 1041, 1041, 414, 75, 10, 3, 700, 928, 192, 414, 1042, 92, 701, 58, 2078, 2079, 130, 2080, 2081, 623, 700, 17, 246, 207, 17, 100, 18, 521, 168, 296, 7, 510, 3, 84, 30, 2082, 2083, 117, 35, 398], [138, 456, 2084, 514, 324, 941, 1018, 91, 85, 215, 952, 702, 234, 10, 138, 23, 19, 1, 14, 5], [60, 122, 286, 9, 2, 11, 1, 4, 2, 13], [3, 25, 1043, 985, 367, 2085, 33, 2086, 250, 147, 18, 37, 242, 396, 23, 19, 1], [2087], [3, 76, 6, 31, 165, 2088, 28, 187, 447, 121, 15, 447, 1031, 165, 2089], [26, 11, 1, 4, 2, 13], [7, 2090, 2091, 22, 3, 105, 91, 270, 2092, 14, 5, 14, 5, 14, 5], [2093, 351, 1044, 1002], [2094, 1, 227, 115, 228], [41, 112, 173, 165, 10, 1045, 2095], [2096], [2097], [279], [26, 2098, 1, 4, 47, 44, 48], [390, 236, 15, 110, 188], [664, 2099, 332, 356], [106, 648, 1046, 357, 46, 15, 1047, 1047, 417, 2100], [1048, 105, 15, 2101, 2102, 211, 2103, 2104], [703, 134, 2105, 93], [544, 54, 861, 78, 20, 158, 10], [25, 59, 78, 3, 287, 66, 505, 505, 31, 6, 22, 261], [26, 135, 3, 1015], [9, 2, 9, 2], [704, 9, 2], [35, 2106, 126, 15, 3, 23, 19, 1, 23, 19, 1, 23, 19, 1], [2107, 11, 1, 4, 2, 13], [106, 88, 266], [2108, 123, 9, 2], [2109], [26, 11, 1, 4, 174], [694, 34, 30, 242, 186], [2110, 2111, 1049, 52, 49, 50], [660], [2112, 3, 2113], [26], [542, 65, 3, 2114], [157, 2115, 130, 65, 3], [178, 2], [26], [2116, 705, 20, 140, 49], [88, 2117, 178, 2], [704, 23, 19, 1, 23, 19, 1, 8, 8, 8], [704], [41, 502, 173, 229, 14, 5], [26, 14, 5], [1050, 2118, 152, 1029, 24, 21], [23, 19, 1, 23, 19, 1], [143, 3, 374, 7, 62, 934], [41, 20, 293, 535, 254, 28, 187, 25, 59, 181, 174], [455], [26, 82, 137, 530, 266], [68, 542, 63, 38, 253, 93], [26, 9, 2], [255, 960, 65, 3, 1051, 1052, 2119, 1], [424, 14, 5, 8], [26, 76, 303, 33, 986, 2120, 253, 1053, 89, 97, 72, 98, 99], [317, 205, 2121], [87, 2122, 154, 93], [26, 211], [247, 2123, 775, 144, 10, 299, 14, 5], [245, 288, 835, 181, 2124, 85, 10, 2125], [164, 226, 31, 8], [2126, 230, 1], [185, 28, 40, 302, 165, 66], [429, 352, 1, 227, 115, 228], [2127, 190, 687, 2128], [26, 14, 5, 52, 49, 50], [2129], [504, 31, 12, 1054, 75], [135, 107, 11, 1, 4, 174], [3, 30, 265, 20, 102, 930, 466, 939, 29, 3, 1, 4, 47, 44, 48], [665, 520, 23, 19, 1], [43, 3], [2130, 2131, 1055], [26, 524, 3, 74, 524, 118, 51, 14, 5], [26, 70, 62, 56, 545, 9, 2], [351, 2132, 541, 256, 3, 74], [26, 70, 62, 32], [2133], [41, 124, 944, 355, 2134, 8, 8, 8], [2135, 32, 9, 2, 9, 2], [2136, 122, 79, 123], [2137, 2138], [26], [268, 602, 169, 539], [2139], [2140], [2141], [41, 15, 112, 173, 6, 187, 804, 85, 2142, 2143, 23, 19, 1], [43, 2144], [142, 1007, 53, 2145], [2146, 43, 266, 11, 1, 4, 2, 13], [3, 125, 349, 29, 55, 34, 3, 2147], [43, 118, 51], [6], [2148, 135, 3, 9, 2], [347, 14, 5], [142, 2149], [2150, 2151], [1056, 2152, 26], [8, 8, 8, 8], [70, 62, 3, 14, 5], [26, 11, 546, 1, 4, 2, 13, 11, 546, 1, 4, 2, 13], [14, 5, 14, 5, 14, 5], [38, 705, 539], [70, 2153, 9, 2, 9, 2, 14, 5], [43], [26], [706, 43], [2154, 2155], [26, 82, 3, 74], [2156, 2157], [43, 3, 82, 14, 5], [26, 70, 62, 3, 74, 14, 5, 14, 5], [2158, 157, 31], [541, 256], [2159, 32, 27, 107, 2160, 9, 2, 9, 2, 9, 2, 23, 19, 1, 23, 19, 1], [702, 2161, 2162, 2163, 293, 2164], [115, 494, 2165], [17, 10], [142, 176, 5], [1022, 107, 74, 1057, 2166, 2167, 218, 220, 925, 176, 5, 8], [17, 200, 56, 707, 536], [2168, 22, 106, 2169, 1, 4, 2170, 13, 8], [498, 429, 51, 32], [41, 2171, 18, 1016, 853, 289, 57, 111, 2172, 17, 1, 4, 47, 44, 48], [2173, 256, 299], [541, 256, 41, 199, 167], [708], [2174, 71, 130, 75, 10, 355, 130], [8], [1058, 82, 107, 74, 14, 5, 52, 49, 50, 142, 175, 25, 20, 156, 240, 384, 1059], [347], [1, 4, 47, 44, 48, 1, 4, 47, 44, 48, 1, 4, 47, 44, 48, 135, 3, 1, 4, 47, 44, 48, 1, 4, 47, 44, 48], [255, 300, 2175, 145], [43, 963, 67, 127], [1035, 70, 62, 32, 11, 1, 4, 304, 177, 14, 5, 52, 49, 50], [2176], [157, 355, 130, 67, 90, 501, 34, 132, 347, 1004], [43, 3], [23, 19, 1], [70, 62, 107, 74], [2177, 95, 1, 4, 11, 13, 95, 1, 4, 11, 13], [33, 124, 78], [185, 28, 55, 110, 141, 529, 178, 2, 178, 2, 178, 2, 178, 2, 178, 2, 178, 2, 178, 2], [2178, 2179, 2180, 1060, 670], [2181, 34, 1020, 492], [41, 42, 276, 29, 2182, 1, 4, 344], [2183, 2184, 2185], [32, 2186, 2187, 518, 1061, 3, 176, 5], [142], [43, 95, 1, 4, 11, 13, 95, 1, 4, 11, 13, 95, 1, 4, 11, 13], [17, 184, 22, 649, 229, 67, 649, 2188, 150, 2189], [8], [547, 51, 532, 74], [135, 107, 9, 2, 199, 167], [9, 2, 9, 2, 9, 2, 9, 2], [1062, 2190, 1062], [23, 19, 1, 709, 2], [82, 286, 9, 2], [2191, 2192], [75, 2193], [142, 26, 135, 23, 19, 1, 23, 19, 1, 23, 19, 1], [8], [43], [26], [2194], [2195], [2196, 64], [26], [41, 2197, 91, 112, 173, 6, 137, 83, 73, 58, 710, 224, 71, 32, 14, 5, 341, 2198, 49, 50], [26], [1048, 395], [32, 72, 2199, 515, 114, 52, 49, 50], [26, 2200, 1028, 74, 14, 5, 14, 5, 14, 5, 14, 5], [493, 146, 10, 91, 33, 1040, 2201, 79, 957, 942], [26, 14, 5], [547, 2202, 2203, 9, 2, 9, 2], [26, 18, 37, 41, 2204, 18, 37, 1021, 150], [9, 2], [157, 2205, 32], [2206], [2207], [496, 113, 409, 106, 215, 1046, 2208, 2209], [2210, 8, 9, 2], [142, 24, 21, 52, 49, 50, 24, 21, 52, 49, 50, 24, 21, 52, 49, 50, 24, 21, 52, 49, 50, 94, 1, 94, 1, 94, 1], [8], [199, 199, 2211, 14, 5], [1063, 1063, 434, 2212], [351, 8, 8, 8], [43, 3, 74], [88, 57, 337, 337, 426, 134, 349, 37, 197, 71, 56, 11, 1, 4, 11, 13, 14, 5, 517, 2213, 475, 2214], [26], [70, 62, 107, 74, 14, 5, 52, 49, 50], [24, 21, 52, 49, 50, 24, 21, 52, 49, 50, 8, 8], [492], [1064, 2, 1064, 2], [26, 14, 5], [26, 70, 62, 118, 51, 9, 2, 9, 2], [43], [26], [43, 14, 5], [2215, 432], [43, 107], [7, 62, 22, 75, 127], [26, 1037, 135, 32], [43, 626], [69, 262, 371, 34, 12, 132, 100, 160, 29, 14, 5, 52, 49, 50], [426, 31], [108, 100, 110, 10, 90, 486, 1065, 1066, 75], [3, 210, 262, 282, 153, 17, 35, 184, 108, 316, 18, 1067, 3], [3, 210, 262, 282, 153, 17, 35, 184, 108, 316, 18, 1067, 3], [646, 34, 2216, 108, 2217], [17, 262, 918, 144, 87, 315, 18, 402, 32], [15, 2218, 153, 195, 2219, 291, 93], [235], [168, 171, 2220, 3, 621, 75, 321, 17, 213, 2221, 58, 84, 73, 387], [117, 225, 338, 370, 2222, 17, 1068, 270, 1068, 244, 10, 3, 55, 7, 62, 2223, 417], [39, 34, 2224, 415, 235, 113, 69, 917, 96, 452], [153, 195, 34, 66], [174, 75, 34, 7, 334, 189, 120, 35, 2225, 34], [210, 1065, 90, 263, 282, 132, 84, 87, 100, 2226, 196, 299], [118, 51, 39, 34, 6, 22, 2227, 914, 145], [81, 36, 2228, 191, 51, 38, 10, 65, 68, 79, 79, 71, 85, 134, 1039, 970, 1, 7, 473, 71, 548, 621, 2229, 2230, 305, 1069, 29, 593, 27, 305, 1069, 25, 83, 18, 610, 20, 31, 191, 51, 110, 37], [2231, 108, 100, 2232, 10], [38, 34, 12, 100, 993], [3, 191, 51, 29, 2233], [2, 427, 2, 427, 8, 8, 8], [3, 535, 254, 28, 89, 97, 72, 98, 99], [17, 148, 2234, 38, 10], [40, 422, 78, 38, 89, 97, 72, 98, 99], [198, 535, 254, 28, 33, 291, 140, 6, 20, 2235, 298, 224, 182, 63, 78, 29, 20, 425], [687, 31, 3], [69, 7, 2236, 461, 108, 15, 2237, 29, 397], [3, 229, 22, 28, 294, 3, 137, 25, 59, 711, 66], [75, 34, 20, 7, 659], [2238, 75, 34, 37, 321, 23, 19, 1, 23, 19, 1], [66, 122, 2239, 827, 2240, 200, 35, 140, 2241, 19, 1, 1056, 2242, 157, 2243, 19, 1, 77, 5], [390, 122, 30, 224, 22, 91, 85, 17, 194, 37, 22, 91, 355, 58, 1012, 2244], [311, 959, 31, 285], [711, 20], [689, 25, 120, 2245, 2246, 319, 1000, 446, 316], [2247], [3, 229, 28, 25, 59, 78, 187, 25, 29, 35, 140, 140, 7, 2248, 1070, 18, 2249, 2250, 127, 3], [125, 16, 87, 2251, 29, 31, 3], [214, 130, 31, 691, 65, 57, 1071, 90, 490, 111], [40, 2252, 191, 51, 20, 2253, 10, 65, 191, 51, 1008, 85], [2254, 36, 298, 78], [2255, 7, 121, 15, 18, 886, 330, 19, 1], [128, 2256, 2257, 28, 3, 33, 703], [2258, 630, 6, 163, 401, 391, 59, 2259], [2260, 15, 319, 28], [133, 92, 84, 30, 712, 7, 295, 3, 84, 87, 329, 534, 197, 78, 27, 129, 296, 2261, 2262], [321, 28, 2263, 3, 66], [3, 522, 28, 126, 55, 105, 326, 699], [2264], [12, 125, 110, 29, 31, 1, 4, 47, 44, 48], [523, 7, 682, 15, 20, 544, 12], [3, 40, 7, 121, 59, 78, 38, 3, 145, 1072, 96, 170, 40, 680, 33, 124, 78, 529, 7, 121, 3, 216, 1], [40, 1073, 58, 110, 15, 145], [348, 689, 201, 612, 96, 533, 12, 65, 243, 1074, 7, 682, 18], [12, 30, 55, 422, 224, 330, 38, 10, 245, 246, 651, 110, 37, 136, 12, 63, 2265, 906, 126, 40, 522, 28, 255, 334, 45, 305, 713, 956], [86, 181, 191, 51, 20], [86, 37, 17, 291, 213, 112, 173, 6, 16, 2266, 157, 30, 380, 594, 166, 1075, 6, 330, 129, 350, 350, 355, 225, 1076, 27, 221, 25, 96, 170, 213, 112, 173, 321, 244, 105, 222, 926, 123, 20, 2267, 144, 714, 92, 1075, 1076, 358, 358, 24, 21], [2268, 15, 936, 16, 790, 330, 2269], [2270, 25, 17, 87, 100, 636, 654, 470, 58, 710, 181, 92, 1033, 538, 85, 2271, 129, 96, 2272, 382, 189, 293, 141, 2273, 30, 7, 319, 45, 1074, 358, 358], [305, 22, 69, 15, 876, 348, 28, 25, 301, 305, 713, 25, 10, 95, 1, 4, 11, 13], [69, 350, 55, 20, 544, 80, 2274, 91, 2275], [512, 28, 2276, 15, 3, 334, 28, 45, 305, 713, 25, 109], [256, 56, 1023, 525, 465, 11, 1, 4, 2, 13], [2277], [275, 40, 30, 59, 181, 2278, 38], [253, 40, 350, 575, 79, 16, 7, 292, 2279], [191, 51, 20, 265, 10, 68, 65, 2280, 85, 29], [64, 12, 40, 53, 16, 2281, 181, 85, 503, 10, 209, 375, 15, 110, 37, 22], [2282, 2283, 31, 2284, 19, 1], [1077], [125, 110, 15], [64, 416, 191, 51, 20, 15, 397, 191, 51, 29, 842, 85, 65], [85, 2285, 411, 30, 2286, 85, 2287, 2288, 23, 19, 1], [2289], [3, 25, 59, 711, 209, 15, 7, 62, 23, 19, 1], [104, 224, 191, 51, 2290, 20, 83], [2291, 87, 2292], [2293, 422, 523, 85], [3, 715, 1077, 2294, 1, 4, 47, 44, 48], [435, 2295, 24, 21], [436, 167, 36, 118, 51, 219, 392, 60], [421], [219, 392, 60, 436, 24, 21, 24, 21], [60, 136, 17, 194], [193, 2296], [11, 1, 4, 2, 13, 11, 1, 4, 2, 13, 11, 1, 4, 2, 13, 41, 296, 20, 716, 2297, 17], [549, 193, 70, 62, 32, 217, 14, 5], [717, 60], [3, 1078, 717, 3, 95, 1, 4, 11, 13], [506, 507, 506, 507, 2298], [9, 2, 9, 2, 9, 2], [172, 235, 172, 60, 56, 17, 8, 8], [2299], [60], [8, 8, 8], [58, 30, 2300, 803, 15, 2301], [1027, 2302], [193, 15, 134], [2303, 122, 160, 127, 56, 285, 15, 550, 2304, 1079, 1080, 137, 118, 51, 167, 1081, 27, 997, 2305, 53, 359, 44, 51, 118, 51, 9, 2], [88, 27, 196, 2306, 506, 507, 1082], [24, 21, 24, 21], [8, 8], [8, 8, 8, 8, 8, 60, 515, 114, 52, 49, 50], [948, 18, 3, 2307, 2308, 34, 487, 2309, 14, 5], [60, 2310, 2], [695], [2311, 24, 21, 52, 49, 50, 24, 21, 52, 49, 50], [695, 122, 24, 21], [551, 552], [2312, 1083, 21, 2313, 2314, 73], [30, 2315, 3, 2316, 68, 3, 715, 65, 2317, 212, 179], [543, 3, 715, 24, 21], [40, 59, 1084, 1085, 1086, 68, 12], [142], [2318], [59, 165, 42, 53, 28, 718], [12, 17, 223, 236, 348, 248, 2319, 15], [121, 640, 27, 2320, 2321, 16, 39, 16, 2322, 2323, 12, 126, 7, 2324, 80, 2325, 2326, 1087], [40, 59, 1084, 1085, 1086, 68, 12], [553, 11, 1, 4, 2, 13], [553, 175, 175, 2327], [2328, 491], [1058, 107, 212, 2329, 34, 2330, 2331, 34, 454, 1088], [2332, 2333, 2334], [81, 2335, 719, 77, 5, 52, 49, 50, 77, 5, 52, 49, 50, 77, 5, 52, 49, 50], [12, 554, 31, 106, 2336, 118, 51, 437, 555, 2337, 16, 2338, 1089, 2339, 12, 2340, 128, 113, 33, 102, 2341, 485, 140, 7, 2342, 2343, 468], [126, 34], [20, 134, 2344, 2345, 27, 2346, 45, 1090, 30, 2347], [35, 12], [891, 2348], [60], [2349, 1091, 188, 10, 2350], [12, 642, 56, 32, 387, 266, 1092, 368], [76, 2351, 2352, 27, 2353, 7, 32, 10, 12, 2354, 2355, 183, 2356, 314, 29, 845, 2357, 30, 18, 7, 434, 17, 70, 62, 14, 5], [193, 885], [420, 420, 45, 58, 309], [369, 83, 2358], [2359, 2360, 2361], [250, 7, 2362, 45, 304, 2363, 1059, 23, 19, 1], [104, 58, 16, 87, 7, 474, 1093, 919, 55], [12, 58, 1057, 2364, 2365, 95, 1, 4, 11, 13], [719, 2366, 2367, 54, 2368, 2369, 34, 20, 2370, 380, 34, 2371, 2372, 435, 2373, 118, 51, 24, 21], [35, 31, 94, 1, 4, 344], [2374, 77, 5, 77, 5], [55, 2375, 10, 12, 33, 125, 94, 1, 94, 1], [2376, 2377, 11, 1, 4, 2, 13], [554, 12, 545, 87, 7, 2378, 56], [390, 134, 642, 32, 30, 167, 2379, 196, 206, 30, 182, 996, 683, 528, 717, 419, 2380, 28], [403, 46, 29, 31], [43, 8, 20, 34, 2381, 225, 45, 25], [2382, 11, 1, 4, 2, 13], [186, 2383, 677, 2384], [131, 2385, 316, 1030, 2386, 297, 2387, 1, 4, 47, 44, 48], [12, 2388, 131, 1094, 16, 87, 479, 2389, 41, 1093, 2390, 95, 1, 4, 11, 13, 95, 1, 4, 11, 13, 383, 2391, 30, 87, 180, 36, 2392, 600, 2393, 1032, 2394, 95, 1, 4, 11, 13, 95, 1, 4, 11, 13], [7, 1095, 101, 15, 12, 40, 1096, 2395, 1097, 163, 45, 1090, 1098, 12, 2396, 11, 1, 4, 2, 13], [518, 15, 1054, 29, 34], [12], [45, 56, 2397], [88, 196, 2398, 545, 264, 320], [20, 2399, 15, 34], [58, 29, 35, 31, 19, 1], [2400, 24, 21, 24, 21, 24, 21], [2401, 45, 354, 454, 2402, 485, 808, 18, 58, 7, 354], [2403, 2404, 11, 1, 4, 2, 13, 11, 1, 4, 2, 13, 11, 1, 4, 2, 13], [35, 31, 32], [250, 18, 335, 719, 718, 89, 97, 72, 98, 99], [7, 1095, 2405, 15, 34, 12], [56, 459, 339, 127, 60, 122], [35, 12], [7, 403, 380, 10], [2406, 6, 2407, 975, 2408, 54, 1092, 1, 4, 47, 44, 48], [221, 214, 58, 2409, 149, 2410, 45, 2411, 121, 2412], [117, 18, 2413, 2414, 720, 29, 34, 2415, 2416, 2417], [2418, 2419, 2420], [2421, 113, 56, 188], [106, 345, 2422], [35, 2423, 17, 2424, 283, 12], [1099, 2425, 4, 1099, 2426, 2427], [1053, 2428, 152], [56, 459, 758], [693, 2429, 360], [438, 72, 439, 24, 21], [86, 92, 17, 323, 129, 497, 2430, 230, 1], [369, 17, 16, 655, 1038, 460, 161, 190, 123, 2431, 424], [60, 8], [40, 556, 200, 1100, 2432, 113], [12, 1070, 2433, 2434, 130, 529, 2435, 2436, 892, 721, 2437, 2438, 2439, 2440, 2441, 2442, 2443, 2444, 2445, 2446, 2447, 707, 536, 457, 2448, 2449, 973, 2450, 721, 2451, 1101, 2452, 707, 536], [2453, 297, 721, 2454, 105, 40, 372, 160, 527, 2455, 2456, 10, 278, 2457, 28], [54, 2458, 2459, 335, 379, 7, 360, 2460, 670, 2461], [2462, 1102, 1102, 2463, 56, 335], [274, 96, 636, 557, 36, 112, 2464, 2465, 2466, 2467, 2468, 167, 2469, 27, 248, 557, 2470, 7, 219, 2471, 1103, 87, 2472, 297, 28, 2473, 2474, 242, 2475, 2476, 2477, 16, 2478, 226, 268, 544, 1104, 557, 2479, 294, 76, 2480, 2481, 148, 399, 1105, 16, 69, 18, 268, 96, 2482, 493], [60, 122, 629, 120, 139, 249, 215, 2483, 395], [77, 5, 77, 5], [77, 5, 341, 52, 49, 50, 77, 5, 341, 52, 49, 50, 77, 5, 341, 52, 49, 50], [2484, 360, 91, 183, 22], [375, 556, 722, 260, 1066, 723, 580, 93], [118, 51, 55, 35, 755, 79, 2485, 2486, 2487, 8, 8, 8, 8], [193, 294, 79, 123], [297, 2488, 440, 2489, 2490, 273, 2491, 2492, 2493, 384, 2494, 318, 119, 724, 200], [361, 440, 163, 59, 557, 988], [2495, 2496, 7, 39, 2497, 89, 97, 72, 98, 99], [60, 136, 17, 515, 114], [1106, 53, 2498, 397, 95, 1, 4, 11, 13], [2499, 161, 190, 288, 1107, 2500], [60, 113, 56, 257], [132, 65, 2501, 56, 7, 2502, 279], [2503, 80, 180, 2504], [2505, 2506, 2507, 93], [11, 1, 4, 2, 13, 11, 1, 4, 2, 13, 11, 1, 4, 2, 13], [359], [40, 298, 499, 55, 18, 10, 3], [382, 17, 207, 392, 656, 1108, 2508, 646, 39, 395], [67, 83, 2509, 546, 556, 232, 1109, 423, 616, 1109], [68, 2510, 79, 2511, 16, 2512, 2513], [23, 19, 1, 8, 77, 5], [56, 53, 297, 29, 65, 10, 89, 97, 72, 98, 99], [2514, 79, 30, 2515], [435, 24, 21], [176, 5, 52, 49, 50, 9, 2, 9, 2], [38, 539, 1034, 7, 112, 440, 29, 817, 306, 1042, 139, 596, 440, 160, 2516, 360, 2517], [551, 552], [172, 60, 28, 159, 2518], [193], [143, 361, 440, 163, 31], [2519, 417, 215, 1080, 1110], [252, 136, 56, 401, 60, 23, 19, 1], [43, 11, 1, 4, 2520], [2521, 360], [8, 8], [2522, 540, 11, 1, 4, 2, 13], [11, 1, 4, 2, 13, 11, 1, 4, 2, 13, 11, 1, 4, 2, 13], [556, 15, 360, 66], [2523, 2524], [1111, 359, 44, 352, 434, 1, 227, 115, 228], [17], [164, 533, 17, 40, 36, 2525, 91, 36, 2526, 43, 430, 123, 688, 1], [43, 579], [693, 60], [2527, 1108, 90, 2528, 15], [9, 2, 9, 2], [2529, 8], [193, 25], [60, 2530], [1112, 1113, 1114, 1112, 1113, 1114], [2531], [2532], [2533], [81, 25, 117, 33, 1115, 132, 252, 388, 35, 782, 2534, 27, 2535, 22, 668, 196, 274, 117, 714], [75, 701, 151, 17, 81], [81, 223, 558, 1116, 1089, 20, 10, 274, 2536, 236, 2537, 332, 503, 10], [18, 289, 619, 83, 763], [30, 437, 2538], [81, 318, 301, 310, 14, 5, 11, 1, 4, 174], [252, 558, 1116, 265, 18, 265, 20, 332, 10, 81], [2539, 2540, 124, 423], [701, 75, 12], [12, 40, 1117, 151, 17, 196, 29, 1117, 2541, 20, 2542, 1118, 55, 12], [437, 1119, 2543], [981, 134], [2544], [17, 2545, 2546, 67, 2547, 368, 81], [433, 2548], [2549], [433, 2550], [619, 2551, 75], [192, 22, 366, 63, 2552, 2553], [2554, 192, 22, 161, 69, 725, 38, 81, 18, 2555, 2556, 63, 38, 81], [467, 301, 25, 103, 447, 318], [261], [12, 324, 35, 441, 40, 2557, 53, 69, 725, 7, 151, 559, 149, 275, 238, 80, 2558, 7, 151, 192, 268, 2559, 15, 398, 7, 151, 192, 164, 894, 25, 394, 54, 2560, 32, 7, 151, 559, 149, 65, 12, 1, 4, 47, 44, 48], [81, 16, 120, 238, 559, 149, 331, 20, 238], [81, 106, 69, 398, 151, 1120, 132, 595, 2561, 151, 192, 132, 108, 161, 7, 991, 265, 20, 10, 30, 372, 1091, 2562, 618, 1120, 275], [81, 16, 190, 151, 192, 68, 819, 2563, 71, 67, 10, 81], [241, 2564, 2565, 149, 1121, 63, 111, 149, 752, 12], [81, 2566, 11, 1, 4, 2, 13], [2567, 17], [82, 473, 2568, 349, 7, 232, 7, 2569, 84, 11, 1, 4, 11, 13, 176, 5], [81, 104, 1122, 2570, 117, 725, 190, 559, 149, 27, 117, 124, 126, 332, 151, 192, 55, 81, 27, 86, 680, 497], [2571], [77, 5, 8], [77, 5], [924, 9, 2], [8], [24, 21, 24, 21, 24, 21], [24, 21, 24, 21, 24, 21], [24, 21, 24, 21, 432], [77, 5], [40, 1123, 2572, 169], [547, 352], [32, 310, 407, 2573, 115, 1124, 1125, 2574, 2575, 23, 19, 1, 23, 19, 1], [551, 552], [2576, 864, 2577, 68, 1126, 16, 59, 2578, 2579], [726, 11, 1, 4, 2, 13], [2580, 77, 5, 95, 1, 4, 11, 13], [2581, 1127, 2582, 560], [561], [436, 33, 2583, 966, 2584, 32, 217, 41, 20, 530, 448, 2585, 476, 562, 7, 269], [2586, 3, 1128, 91, 136], [43, 563], [43, 29, 563], [727, 127, 2587, 1, 4, 114, 313, 208], [708, 563, 2588, 560], [2589], [60, 29, 51, 77, 5], [2590, 90, 45, 1129, 2591, 2592, 2593, 9, 2, 9, 2, 9, 2], [435, 436, 150, 434, 24, 21], [2594, 290, 2595, 400, 1, 4, 47, 44, 48, 2596, 2597], [543, 8], [193, 537, 2], [2598, 56, 459, 17, 421, 113, 23, 19, 1, 23, 19, 1], [41, 2599, 471, 2600, 24, 21], [21, 31], [2601, 2602, 160, 32, 93], [560, 353, 353], [172, 193, 54, 2603], [1130], [176, 5], [24, 21, 52, 49, 50, 24, 21, 52, 49, 50, 24, 21, 52, 49, 50, 24, 21, 52, 49, 50], [2604, 727, 309, 193, 55, 134, 1, 4, 47, 44, 48], [995, 434], [2605, 2606, 2607, 77, 5, 560], [54, 2608, 188, 705], [43, 1061], [60], [3, 1128, 11, 546, 1, 4, 2, 13, 2609], [60, 2610], [43, 118, 51, 429, 352, 2611], [233, 564, 2612, 362, 14, 5, 14, 5, 14, 5, 10, 218, 252, 3, 442], [565, 14, 5], [1110, 566, 2613, 21, 1131, 52, 49, 50], [277, 566], [565, 3, 442, 41, 2614, 2615, 27, 1132, 16, 2616, 796, 2617, 14, 5], [2618, 566], [728, 564, 2619, 2620, 2621, 549, 1133, 1134], [233], [2622, 566, 41, 567, 443], [277, 150, 1135, 1136], [565, 81, 442, 41, 567, 443, 14, 5, 52, 49, 50], [233, 66], [233, 1137, 362], [442, 233, 2623, 362, 810, 982, 27, 635, 324, 927, 2624, 2625, 2626, 357, 260, 22, 170, 702, 567, 443, 415, 686, 252, 10], [277, 10, 2627], [233, 2628, 362], [233, 2629, 2630, 2631, 2632, 2633, 2634, 729, 22, 1138, 12], [549, 1133, 1134, 2635, 1139, 2636, 443, 27, 25, 35, 441, 86, 2637, 1139, 729, 839, 476, 562, 187, 18, 724, 2638, 2639, 729, 654, 912, 168, 385, 382, 668, 137, 270, 2640, 516, 724, 83, 849, 850], [728, 2641, 362, 41, 703, 2642, 7, 70, 7, 2643], [728, 564, 2644, 2645], [549, 2646], [277, 150, 1135, 1136], [565, 81, 442, 41, 567, 443, 14, 5, 52, 49, 50], [233, 66], [233, 1137, 362], [1140, 444, 166, 431, 63, 591, 269], [86, 129, 1141, 151, 730, 46, 555, 45, 731], [2647, 780], [20, 2648, 94, 1, 4, 344], [356, 75, 2649, 12], [2650, 426, 2651, 169, 28, 2652, 1], [2653, 415, 1142, 93], [86, 20, 36, 357, 730, 71, 555, 45, 731], [171, 31, 33, 356, 22, 12], [16, 356, 31], [538, 1143, 20, 55, 12], [1144, 7, 431, 10, 12, 216, 1], [1145], [1146, 1147, 158, 28, 1148, 1, 4, 47, 44, 48, 1149, 7, 1150, 105, 20, 18, 599, 346], [706, 1151], [1152, 55, 180, 81], [1153, 31, 12, 481, 1], [289, 423, 12], [171, 31, 33, 356, 22, 12], [16, 356, 31], [538, 1143, 20, 55, 12], [1144, 7, 431, 10, 12, 216, 1], [1145], [1146, 1147, 158, 28, 1148, 1, 4, 47, 44, 48, 1149, 7, 1150, 105, 20, 18, 599, 346], [706, 1151], [1152, 55, 180, 81], [1153, 31, 12, 481, 1], [289, 423, 12], [1140, 444, 166, 431, 63, 591, 269], [86, 129, 1141, 151, 730, 46, 555, 45, 731], [231, 177, 231, 177, 231, 177], [1154, 160, 1115, 2654, 1155], [1155], [418, 2655, 87, 100, 895, 2656, 2657, 2658, 27, 1156, 1126, 129, 84, 2659, 92, 2660, 36, 473, 1156, 20, 232, 7, 292, 84, 2661, 12, 2662], [2663, 2664, 95, 1, 4, 11, 13], [88, 8], [6, 684, 12, 1, 4, 47, 44, 48], [18, 331, 2665, 639], [575, 1121, 353, 34, 2666], [8, 8, 8, 8, 88], [387, 6], [708, 8], [732, 732, 732, 2667, 2668], [253, 428, 22, 55, 2669, 2670, 66], [551, 552], [543, 675], [24, 21, 24, 21], [9, 2, 9, 2], [699, 2671, 91, 482], [3, 6, 3], [8, 8, 8, 8, 88], [387, 6], [12, 25, 1043, 124, 1157, 596, 117, 7, 124, 108, 147, 7, 2672, 22, 100, 2673, 2674, 10, 168, 1087], [12, 37, 6, 22, 108, 315, 160, 10, 109], [24, 21, 24, 21, 24, 21, 24, 21], [60, 122, 11, 1, 4, 2, 13], [1158, 2675, 564, 1158, 2676, 2677, 2678], [2679, 11, 1, 4, 2, 13, 11, 1, 4, 2, 13, 11, 1, 4, 2, 13, 11, 1, 4, 2, 13], [561, 60, 2680], [2681], [475, 55, 517, 454, 2682, 290, 1159, 2683, 1160, 1161], [2684, 196, 2685], [8], [2686, 202, 203, 2687], [230, 1], [525, 9, 2, 9, 2, 9, 2, 9, 2, 9, 2], [1162, 16, 53, 73, 1163, 568, 1164, 68, 167, 7, 1165, 109, 1166], [18, 511, 1167], [561, 23, 19, 1, 23, 19, 1], [2688, 96, 170, 2689, 242, 1160, 1161, 16, 18, 7, 2690, 109, 104, 242, 186, 54, 182, 187, 1, 4, 47, 44, 48], [2691, 8, 60, 8], [726, 11, 1, 4, 2, 13], [202, 203, 202, 203, 202, 203], [18, 131, 2692, 63, 2693, 16, 2694, 17, 60], [525, 9, 2, 9, 2, 9, 2, 9, 2, 9, 2], [1162, 16, 53, 73, 1163, 568, 1164, 68, 167, 7, 1165, 109, 1166], [18, 511, 1167], [561, 23, 19, 1, 23, 19, 1], [60, 65, 56, 257], [9, 2], [554, 31, 12], [1073, 286, 60, 113, 430, 202, 203], [2695, 1], [300, 101, 271, 635, 32], [783, 610, 152, 2696, 10], [43, 2697, 69, 90, 18, 16, 403, 7, 2698], [41, 172, 436, 76, 288, 62, 2699, 36, 214, 897, 123, 10, 109], [60, 65, 56, 257], [9, 2], [554, 31, 12], [12, 148, 590, 1157, 22, 169, 10], [517, 34], [39, 34, 37, 458, 15, 2700, 210, 263, 371, 14, 5], [64, 37, 6, 22, 75, 414, 22, 12], [12, 126, 318, 301, 106, 15], [492, 2701, 1142, 15], [12, 252, 1044, 20, 733, 734, 33, 297, 243, 1118, 7], [115], [6, 39, 589, 1, 4, 47, 44, 48], [37, 6, 236, 90, 39, 150, 12], [124, 15, 12], [164, 134, 124, 400], [234, 162, 445], [350, 22, 79, 192, 151, 1168, 67, 12], [35, 2702, 999], [2703, 25, 35, 281, 25, 65, 238, 192, 32, 151, 1168, 164, 735, 2704, 241, 736, 623, 2705, 25, 568, 736, 270, 18, 7, 111, 149, 152, 244, 111, 2706, 83, 18, 568, 736, 133, 148, 25, 2707, 25, 2708, 241, 2709, 147, 18, 2710, 183, 1011], [2711, 2712], [2713, 2714, 119], [55, 20, 45, 254, 22, 12], [68, 33, 58, 32, 28, 10, 12], [12, 17, 444, 2715, 63, 126, 2716, 182, 331], [428, 18, 2717, 2718, 1159, 243, 2719], [124, 15, 12], [164, 134, 124, 400], [64, 35, 281, 86, 32, 217, 83, 18, 37, 6, 36, 58, 70, 62], [57, 46, 128, 6, 1169, 627, 18, 1170, 444, 534, 367, 63, 67, 33, 226, 737, 510, 57, 42, 53, 103, 716, 33, 1171, 58], [71, 139, 33, 377, 462, 396, 198, 1172, 37, 6, 69, 15, 18, 606, 42, 61, 1173, 101, 328, 6, 1174, 569, 1175, 147, 569], [37, 458, 39, 34], [64, 35, 281, 86, 32, 217, 83, 18, 37, 6, 36, 58, 70, 62], [57, 46, 128, 6, 1169, 627, 18, 1170, 444, 534, 367, 63, 67, 33, 226, 737, 510, 57, 42, 53, 103, 716, 33, 1171, 58], [71, 139, 33, 377, 462, 396, 198, 1172, 37, 6, 69, 15, 18, 606, 42, 61, 1173, 101, 328, 6, 1174, 569, 1175, 147, 569], [37, 458, 39, 34], [164, 186, 11, 1, 4, 2, 13], [2720, 2721, 2722, 1125, 1176], [135, 12, 14, 5], [70, 62, 416, 14, 5, 41, 520, 2723, 279], [11, 1, 4, 2, 13], [2724, 2725], [14, 5], [37, 6, 22, 467], [547, 352, 416, 14, 5], [64, 25, 773, 312, 305, 753, 37, 144, 467, 120, 90, 39, 10], [82, 32, 217, 11, 1, 4, 11, 13, 14, 5, 11, 1, 4, 11, 13, 14, 5], [416, 161, 733, 2726, 27, 69, 18, 181, 2727, 108, 1123, 2728, 10, 274, 117, 733, 734], [6, 684, 589, 1, 4, 47, 44, 48], [759, 36, 2729, 1177, 241, 2730, 104, 550, 391, 631, 169, 10, 488, 2731, 25, 550, 2732, 2733, 206, 225, 111, 340, 1079, 45, 1119], [1178, 1179, 578, 778, 22, 2734], [144, 39, 17, 308, 365], [2735, 696, 697, 230, 1], [32, 1050, 2736, 89, 97, 72, 98, 99], [738, 2737, 123, 75, 10, 2738, 189], [2739, 6, 159, 582, 961, 261], [64, 6, 22, 120, 90, 39, 81], [456, 26, 41, 218, 2740, 53, 73, 199, 2741, 2742, 846, 420, 1132, 53, 30, 300, 199, 218, 2743, 1180, 92, 1180, 30, 2744, 2745], [168, 385, 29, 18, 2746, 760, 735, 41, 83, 2747, 2748, 71, 1105, 2749, 14, 5], [1181], [2750, 2751], [60, 24, 21, 2752, 2753, 2754, 29, 31, 81, 2755], [2756, 114, 1182, 1183, 413], [359, 363, 364], [39, 144], [438, 72, 439, 363, 364], [438, 72, 439, 363, 364], [694, 127, 16, 186, 127], [2757, 1176, 2758, 1005, 1088], [6, 119, 2759, 503, 17, 2760], [193], [43, 24, 21], [2761, 801, 2762, 363, 364, 363, 364], [77, 5, 77, 5], [531, 60, 77, 5, 52, 49, 50], [14, 5, 14, 5], [421], [144, 100, 160, 10, 12, 63, 38], [359, 77, 5], [2763, 656, 17, 16, 33, 127, 2764], [291, 2765, 2766, 2767, 2768, 244, 1184, 1185, 105, 446, 2769, 923, 93], [8, 8, 8, 8, 8, 2770, 1], [830, 114, 1182, 1183, 1186], [1181], [8, 8, 8, 8], [438, 72, 439, 8], [2771], [2772, 2773, 1187, 2774, 1036, 1188, 9, 2], [1188, 438, 72, 439, 363, 364], [862], [2775, 67, 68, 1184, 1185, 1, 4, 47, 44, 48], [2776, 1049], [2777, 8], [2778], [2779, 158, 2780, 10], [2781, 18, 2782], [351], [359], [2783], [540], [435, 24, 21, 24, 21, 24, 21], [540], [2784], [2785, 8, 8], [11, 1, 4, 2, 13, 11, 1, 4, 2, 13, 11, 1, 4, 2, 13, 11, 1, 4, 2, 13], [351, 24, 21, 24, 21], [179, 1131, 2786, 72, 2787], [7, 2788, 20, 232, 2789, 408, 413], [36, 84, 30, 7, 219, 307, 2790, 836, 114, 570, 63, 739, 414, 36, 361, 259, 2791], [68, 161, 2792, 1107, 1189, 22, 10, 2793, 417, 31, 921, 32, 379, 391, 2794, 22, 294, 59, 2795, 63, 59, 1189, 2796], [12, 68, 340, 361, 259, 527, 1190, 740, 27, 2797, 145], [32, 1191, 1192, 31, 33, 16, 7, 219, 1193, 32, 84, 16, 131, 295, 638, 1194], [679], [12, 741, 15, 248, 1195, 1196, 161, 1197, 259], [159, 361, 259, 40, 1198, 59, 1199, 1200, 28, 10, 411, 225, 1201, 28, 278, 1202, 1203, 1], [2798], [161, 2799, 7, 1204, 1205, 55, 248, 1190, 2800, 10], [825, 101, 710, 114, 570, 20, 526, 2801, 2802, 27, 2803, 2804, 200, 1045, 54, 20, 2805, 45, 739, 28, 10, 63, 20, 59, 2806, 259, 28, 1206], [1, 227, 115, 228], [1207, 1124, 2807, 2808, 2809, 2810, 2811, 519], [221, 28, 206, 422, 739, 741, 20, 2812, 119, 2813, 2814, 2815], [275, 2816, 39, 92, 1208, 30, 303, 33, 180, 1209, 104, 73, 201, 29, 59, 1208, 2817, 183, 238, 1100, 29, 31, 2818], [32, 1191, 1192, 31, 33, 16, 7, 219, 1193, 32, 84, 16, 131, 295, 638, 1194], [679], [12, 741, 15, 248, 1195, 1196, 161, 1197, 259], [159, 361, 259, 40, 1198, 59, 1199, 1200, 28, 10, 411, 225, 1201, 28, 278, 1202, 1203, 1], [150, 376, 558, 32], [18, 437, 1210, 83, 7, 608, 32], [150, 376, 558, 32], [18, 437, 1210, 83, 7, 608, 32], [66, 571, 15, 18, 204], [214, 2819, 29, 742, 2820], [307, 1211, 284, 33, 548, 1212, 10, 12, 105, 110, 204, 94, 1, 4, 11, 13], [108, 302, 734, 179], [519, 76, 860, 1213, 35, 742, 1214, 1, 4, 47, 44, 48], [179, 1215, 1216, 743], [571, 108, 55, 18, 23, 19, 1, 23, 19, 1], [93, 2821, 2822, 1, 4, 47, 44, 48], [2823, 2824, 204, 500, 2825, 451, 67, 901, 744, 588], [43, 2826, 20, 346, 2827, 2828, 204], [548, 1212, 737, 269, 199, 2829, 190, 744, 718], [179, 744, 22, 28, 158, 184, 29, 105, 2830], [76, 246, 18, 57], [108, 73, 887, 54, 61], [545, 2831, 18, 2832, 2833, 108, 487, 54, 61, 46, 2834], [196, 16, 2835, 204, 172, 823, 27, 2836], [179, 369, 1096, 65, 2837, 2838, 71, 2839, 657, 658, 1], [548, 1211, 1217, 113, 302, 204], [188, 2840, 1218, 1218, 57, 15, 339, 2841], [2842, 499, 38], [2843, 134, 51, 663, 727, 1219, 407, 2844], [2845, 1214, 91, 742], [571, 2846, 384, 204], [54, 75, 18, 1220, 179, 184, 204, 94, 1, 4, 11, 13], [2847, 179, 369, 55, 18, 204, 1, 4, 47, 44, 48], [204, 179, 15, 2848, 226, 29, 93], [2849], [357, 1213, 2850, 743, 40, 69, 2851, 94, 1, 4, 344], [179, 15, 184, 2852, 29, 250], [179, 765, 2853], [68, 2854, 714, 2855], [2856, 2857, 286, 176, 5, 341, 52, 49, 50], [571, 179, 1215, 1216, 743, 1, 4, 47, 44, 48, 1, 4, 47, 44, 48, 1, 4, 47, 44, 48], [480, 1221, 114, 570, 7, 166, 56, 226], [12, 35, 441, 40, 35, 738, 232, 126, 15, 1222, 1223, 66], [480, 1221, 114, 570, 7, 166, 56, 226], [12, 35, 441, 40, 35, 738, 232, 126, 15, 1222, 1223, 66], [172, 345, 79, 56, 401, 30, 2858, 2859, 513, 130, 17, 82, 117, 1224, 2860, 624, 2861, 27, 2862, 401, 55, 129, 288, 79, 56, 17, 2, 427], [1154, 16, 1225, 1226, 2863, 77, 5], [35, 185, 133, 136, 399, 7, 572, 18, 509, 1227, 27, 1228, 67, 28, 136, 7, 1229, 38, 572, 1230, 1231, 516, 54, 1232, 40, 35, 185, 1233, 283, 1234, 45, 292, 53, 76, 288, 7, 652, 150, 40, 342, 55, 35, 1235, 171, 171, 1236], [1138, 1225, 1226, 611, 339, 16, 2864, 513, 1, 4, 47, 44, 48], [905, 30, 769, 38, 7, 2865, 119, 413], [2866], [2867, 2868, 11, 1, 4, 2, 13, 11, 1, 4, 2, 13, 11, 1, 4, 2, 13], [2869, 60, 1019, 81, 2870], [2871, 11, 1, 4, 2, 13], [11, 1, 4, 2, 13], [237, 1237, 1238, 709, 2], [271, 108, 302, 1239, 690], [2872, 2873, 1060, 553, 10], [51, 2874, 462, 2875, 9, 2, 553], [740, 2876, 122, 253], [2877, 563, 735], [35, 185, 133, 136, 399, 7, 572, 18, 509, 1227, 27, 1228, 67, 28, 136, 7, 1229, 38, 572, 1230, 1231, 516, 54, 1232, 40, 35, 185, 1233, 283, 1234, 45, 292, 53, 76, 288, 7, 652, 150, 40, 342, 55, 35, 1235, 171, 171, 1236], [155, 67, 723, 2878, 457, 182, 779, 139, 57, 46, 185], [57, 46, 54, 67, 2879], [2880, 31], [2881, 155, 15], [11, 1, 4, 2, 13], [237, 1237, 1238, 709, 2], [271, 108, 302, 1239, 690], [80, 88, 22, 147, 46], [2882, 328, 1127, 2883, 916, 2884], [237, 28, 2885, 2886, 155, 272, 2887, 2888, 634, 881, 83, 18, 272], [2889, 17, 188, 155], [2890, 102, 2891, 2892], [15, 1240, 23, 19, 1], [30, 2893, 632, 103, 2894, 45, 25, 2895, 523, 152], [1241, 155, 29, 10, 2896], [1242, 2897, 17, 2898], [2899, 155, 2900, 333, 53, 45, 2901, 2902, 2903, 2904, 2905], [2906, 57, 1071, 149, 130, 187, 65, 17, 273, 2907, 105, 2908, 1243, 328, 15, 339], [7, 428, 2909], [2910, 393, 393, 10, 2911, 491], [10, 2912, 274, 25, 335, 69, 88, 1078, 122, 57, 2913, 88, 250, 147, 152, 338, 155, 119, 2914, 2915, 294, 2916, 251, 2917, 799, 2918], [17, 57, 46, 63, 61, 46, 2919, 12], [1207, 408, 2920], [103, 2921, 2922, 220, 526, 740, 25, 2923], [142], [562, 249, 947], [677, 2924, 474, 236, 2925, 102, 829, 449, 214, 207], [385, 36, 58, 865, 280, 96, 170, 394, 712, 7, 2926, 32, 28, 10, 40, 2927, 2928, 102, 45, 121, 358, 358, 27, 53, 15, 185, 86, 53, 329, 273, 68, 63, 1244, 201, 7, 1098, 53, 161, 2929, 102, 2930, 222, 147, 2931, 45, 201, 121], [86, 18, 1245, 57, 46, 22, 7, 2932, 1, 4, 47, 44, 48], [2933, 1101, 408, 377], [251, 406, 1026, 464, 663, 1187, 407], [2934, 484, 237], [2935, 1246, 87, 180, 15, 10], [2936, 2937, 34], [1178, 188, 15, 155], [280, 104, 102, 477, 147, 2938, 1245, 2939, 92, 201, 101, 383, 104, 866, 190, 2940, 1205, 896, 2941, 2942, 624], [2943], [1220, 35, 2944, 2945, 250, 185, 22, 155], [35, 441, 86, 1241, 394, 180, 25, 69, 2946, 17, 35, 667, 2947, 145], [674, 1247, 598, 121, 1248, 377, 409, 264, 2948, 114, 52, 49, 50], [54, 17, 53, 389, 102], [41, 53, 167, 112, 2949, 218], [1249, 237, 180, 15], [142, 2950], [82, 641, 41, 73, 502, 904, 277], [30, 405, 133, 2951, 187, 175, 175, 30, 405, 2952, 291, 92, 201, 201, 219, 27, 68, 220, 220, 248, 2953, 103, 62, 2954, 12], [36, 2955, 162, 63, 2956, 2957, 133, 10, 12, 86, 2958, 29, 1097, 46], [2959, 1111, 2960], [10, 218, 69, 7, 1204, 2961], [1250, 34, 1250], [353, 54, 155, 93], [9, 2, 9, 2, 9, 2], [2962, 325, 129, 821, 134, 169, 1186, 59, 888, 445, 20, 2963, 2964, 232, 813, 409, 2965, 409], [35, 249, 132, 1248, 113, 80], [2966, 38, 425], [253, 465, 80, 949, 32, 2967], [2968, 2969, 249, 80, 494], [629, 87, 7, 121, 395], [2970, 491, 76, 685, 2971, 33, 2972, 910, 33, 251, 7, 2973, 592, 245, 147, 102, 2974, 911, 2975, 2976], [16, 71, 460, 2977, 2978], [300, 235], [102, 2979], [39, 45, 318, 12], [251, 406, 175, 175, 73, 30, 2980, 63, 509, 372, 30, 83, 248, 113, 7, 882, 119, 10, 251, 1219, 2981, 531, 1251, 4, 2982, 41, 273, 476, 562, 20, 495, 633, 10, 2983, 216, 1, 14, 5, 52, 49, 50], [2984, 681], [36, 16, 2985, 976, 38, 12], [3, 2986, 103, 1252, 259, 634, 831, 33, 45, 1094, 119, 3], [2987, 1, 4, 47, 44, 48], [828, 2988, 1, 4, 1253, 720], [2989, 15, 1240, 10, 17, 38, 1179, 2990, 2991, 1017, 1], [17, 200, 123], [36, 30, 2992, 405, 27, 2993, 133, 253], [26], [16, 405, 133, 10, 3, 2994], [152, 338], [30, 80, 2995, 723, 155, 31, 19, 1], [2996], [482, 225, 111, 155, 93], [2997], [123], [333, 1247, 285], [2998, 688, 1], [1, 4, 1253, 720, 88], [56, 494, 430, 2999, 8, 8], [3000, 284, 29, 3001, 3002, 3003], [430, 424, 1072, 96, 424, 354, 25, 29], [284, 29, 31, 43, 32, 8, 1, 4, 47, 44, 48], [354, 25, 35, 31, 138], [899, 106, 31, 93], [3004, 3005, 3006, 243, 1242, 3007, 84, 3008, 232, 292, 53, 784, 785, 786, 1254], [3009], [1, 4, 47, 44, 48], [3010, 81, 128, 722, 676], [393, 27, 3011, 25, 31, 3, 105, 3012, 242, 159, 3013], [103, 3014, 76, 59, 3015, 25, 117, 3016, 950, 1255, 17, 1, 4, 47, 44, 48], [573, 25, 1103, 18, 408, 3017, 7, 410, 3018, 3019, 25, 3020, 27, 3021, 3022, 92, 622, 68, 488, 84, 83, 329, 1104, 1256, 84, 3023, 1224, 410, 1256, 109], [3024, 3025], [143, 3, 1257, 201, 201, 17], [143, 1258, 22], [103, 56, 342, 75], [142, 206, 300, 96, 304, 3026, 712, 7, 56, 17, 200, 158, 17, 18, 3027, 3028, 43], [3029], [3, 143, 3030, 3031, 3032, 3033, 3034], [88, 3, 3035], [287, 106, 29, 283, 880, 585, 71, 32], [3036, 412, 134, 3], [3037, 1251, 340, 249, 34, 3038], [252, 16, 7, 306, 653, 10, 91, 114, 3039, 7, 3040, 65, 16, 479, 3041, 68], [96, 170, 3042, 3043, 3044, 28, 686, 1259, 1252, 113, 425], [3, 573, 257, 31, 175, 257, 3045, 73, 3046], [3047, 3048, 1081], [73, 745, 357, 22, 29, 3049, 90, 1260, 1260, 22, 304], [217, 3050], [1249, 7, 3051, 115], [726], [1261, 306, 29, 1261], [3052, 3053, 3, 1106, 461, 3054, 463, 16, 7, 3055, 3056, 143, 3057, 357, 16, 1217, 113, 3058], [103, 306, 29, 745, 272, 7, 307, 483, 3, 66], [3059, 3060], [376, 3061, 3062], [3063, 3064], [451, 3065, 1, 4, 114, 313, 208], [11, 1, 4, 2, 13, 11, 1, 4, 2, 13, 9, 2], [143, 283, 295, 106, 3066, 152, 1, 3067, 802, 1206, 88, 10, 3, 692, 2, 24, 21], [143, 3, 573, 53, 7, 3068, 128, 122, 722, 433, 1014], [284, 331, 31, 3, 94, 1], [1258, 31, 138], [3069, 1, 227, 115, 228], [12, 232, 301, 31, 128, 3070], [746, 22, 29, 31], [811, 25, 20, 15, 138], [70, 62, 202, 203, 202, 203, 202, 203, 202, 203, 202, 203], [486, 307, 317, 913, 326, 3071, 1, 4, 747, 208, 1, 4, 747, 208, 1, 4, 747, 208], [1130], [3072, 8, 8, 8, 8, 8], [3, 143, 1129, 295, 3073, 149, 3074, 23, 19, 1], [16, 1257, 280, 3075, 16, 479, 3076, 3077, 605, 1122, 746, 1209, 1010], [3078, 11, 1, 4, 304, 177, 11, 1, 4, 2, 13], [68, 30, 7, 3079, 3080, 28, 1262, 746, 3081, 27, 3082, 182, 55, 3083], [14, 5, 14, 5, 14, 5], [307, 483, 31], [135, 3, 9, 2, 9, 2], [3084, 495, 29, 3085], [3086, 3087, 3088], [60, 24, 21, 1082], [17, 3089, 30, 3090, 3091, 1], [3092, 10, 138], [404, 106, 79, 32, 231, 177, 231, 177, 231, 177], [143, 1262, 745, 3093, 272], [584, 1259], [88, 1006, 178, 2], [3094, 3095, 31], [24, 21, 24, 21, 24, 21], [24, 21, 24, 21, 24, 21, 24, 21, 24, 21], [354, 3096, 3097, 379, 93], [70, 62, 32], [284, 307, 1001, 410, 3098, 3, 14, 5], [64, 3099, 31, 3100, 25, 143, 93], [43, 32], [3, 175, 25, 29, 31, 7, 306, 581, 15, 550, 3101, 381, 57], [3102, 183, 18, 273, 119, 32, 200, 7, 3103], [82, 32, 9, 2, 8], [3104, 24, 21], [143, 306, 284, 307, 115, 3105, 10], [88, 196, 3], [35, 31, 3, 7, 573, 25, 3106, 149], [3107, 8], [3108, 339, 306, 29, 34, 3109], [11, 1, 4, 2, 13, 9, 2], [1255, 3110], [9, 2, 9, 2, 9, 2, 9, 2], [410, 295, 25, 31, 3, 143], [32, 3111, 31], [1243, 96, 170, 71, 139, 3112, 432, 1055], [3113], [1051, 1052, 9, 2], [3114, 531, 3115, 3116], [142, 3117], [24, 21, 24, 21, 24, 21], [3118], [9, 2, 9, 2, 9, 2], [8, 8, 8], [3119, 511, 3120, 186], [12, 25, 35, 3121, 3122, 120, 301, 292, 3123, 3124, 3125, 1083, 1244, 3126, 268, 302, 3127, 1246, 40, 35, 968, 183, 190, 39, 10], [333, 238, 3128, 464, 3129, 1177, 3130, 3131, 1254], [6, 3132, 12, 66]]\n"
     ]
    }
   ],
   "source": [
    "comments_ints =[]\n",
    "for comment in comments:\n",
    "    comments_ints.append([vocab_to_int[word] for word in comment.split()])\n",
    "print(comments_ints)"
   ]
  },
  {
   "cell_type": "code",
   "execution_count": 37,
   "metadata": {},
   "outputs": [
    {
     "name": "stdout",
     "output_type": "stream",
     "text": [
      "Unique words:  3132\n",
      "\n",
      "Tokenized comment: \n",
      " [[445, 446, 447, 180, 10, 12]]\n"
     ]
    }
   ],
   "source": [
    "# stats about vocabulary\n",
    "print('Unique words: ', len((vocab_to_int)))\n",
    "print()\n",
    "\n",
    "# print tokens in first review\n",
    "print('Tokenized comment: \\n', comments_ints[:1])"
   ]
  },
  {
   "cell_type": "code",
   "execution_count": 38,
   "metadata": {},
   "outputs": [],
   "source": [
    "labels_split = cleaned_data['sentiment'].tolist()\n",
    "labels_split = np.array(labels_split)"
   ]
  },
  {
   "cell_type": "code",
   "execution_count": 39,
   "metadata": {},
   "outputs": [
    {
     "name": "stdout",
     "output_type": "stream",
     "text": [
      "Zero-length reviews: [445, 446, 447, 180, 10, 12]\n",
      "Maximum review length: 138\n"
     ]
    }
   ],
   "source": [
    "# outlier review stats\n",
    "comment_lens = Counter([len(x) for x in comments_ints])\n",
    "print(\"Zero-length reviews: {}\".format(comments_ints[0]))\n",
    "print(\"Maximum review length: {}\".format(max(comment_lens)))"
   ]
  },
  {
   "cell_type": "code",
   "execution_count": 40,
   "metadata": {},
   "outputs": [
    {
     "name": "stdout",
     "output_type": "stream",
     "text": [
      "Number of reviews before removing outliers:  1636\n",
      "Number of reviews after removing outliers:  1636\n"
     ]
    }
   ],
   "source": [
    "print('Number of reviews before removing outliers: ', len(comments_ints))\n",
    "\n",
    "## remove any reviews/labels with zero length from the comments_ints list.\n",
    "\n",
    "# get indices of any reviews with length 0\n",
    "non_zero_idx = [ii for ii, comment in enumerate(comments_ints) if len(comment) != 0]\n",
    "\n",
    "# remove 0-length comment and their labels\n",
    "comments_ints = [comments_ints[ii] for ii in non_zero_idx]\n",
    "encoded_labels = np.array([labels_split[ii] for ii in non_zero_idx])\n",
    "\n",
    "print('Number of reviews after removing outliers: ', len(comments_ints))"
   ]
  },
  {
   "cell_type": "code",
   "execution_count": 41,
   "metadata": {},
   "outputs": [],
   "source": [
    "def pad_features(comments_ints, seq_length):\n",
    "    ''' Return features of review_ints, where each review is padded with 0's \n",
    "        or truncated to the input seq_length.\n",
    "    '''\n",
    "    \n",
    "    # getting the correct rows x cols shape\n",
    "    features = np.zeros((len(comments_ints), seq_length), dtype=int)\n",
    "\n",
    "    # for each review, I grab that comment and \n",
    "    for i, row in enumerate(comments_ints):\n",
    "        features[i, -len(row):] = np.array(row)[:seq_length]\n",
    "    \n",
    "    return features"
   ]
  },
  {
   "cell_type": "code",
   "execution_count": 42,
   "metadata": {},
   "outputs": [
    {
     "name": "stdout",
     "output_type": "stream",
     "text": [
      "[[   0    0    0 ...  180   10   12]\n",
      " [   0    0    0 ...    6   39    6]\n",
      " [   0    0    0 ...   37    6   39]\n",
      " ...\n",
      " [   0    0    0 ...  190   39   10]\n",
      " [   0    0    0 ... 3130 3131 1254]\n",
      " [   0    0    0 ... 3132   12   66]]\n"
     ]
    }
   ],
   "source": [
    "# Test your implementation!\n",
    "\n",
    "seq_length = 200\n",
    "\n",
    "features = pad_features(comments_ints, seq_length=seq_length)\n",
    "\n",
    "## test statements - do not change - ##\n",
    "assert len(features)==len(comments_ints), \"Your features should have as many rows as reviews.\"\n",
    "assert len(features[0])==seq_length, \"Each feature row should contain seq_length values.\"\n",
    "\n",
    "print(features[:,:])"
   ]
  },
  {
   "cell_type": "code",
   "execution_count": 43,
   "metadata": {},
   "outputs": [
    {
     "name": "stdout",
     "output_type": "stream",
     "text": [
      "\t\t\tFeature Shapes:\n",
      "Train set: \t\t(1308, 200) \n",
      "Validation set: \t(164, 200) \n",
      "Test set: \t\t(164, 200)\n"
     ]
    }
   ],
   "source": [
    "split_frac = 0.8\n",
    "\n",
    "## split data into training, validation, and test data (features and labels, x and y)\n",
    "\n",
    "split_idx = int(len(features)*split_frac)\n",
    "train_x, remaining_x = features[:split_idx], features[split_idx:]\n",
    "train_y, remaining_y = encoded_labels[:split_idx], encoded_labels[split_idx:]\n",
    "\n",
    "test_idx = int(len(remaining_x)*0.5)\n",
    "val_x, test_x = remaining_x[:test_idx], remaining_x[test_idx:]\n",
    "val_y, test_y = remaining_y[:test_idx], remaining_y[test_idx:]\n",
    "\n",
    "## print out the shapes of your resultant feature data\n",
    "print(\"\\t\\t\\tFeature Shapes:\")\n",
    "print(\"Train set: \\t\\t{}\".format(train_x.shape), \n",
    "      \"\\nValidation set: \\t{}\".format(val_x.shape),\n",
    "      \"\\nTest set: \\t\\t{}\".format(test_x.shape))"
   ]
  },
  {
   "cell_type": "code",
   "execution_count": 44,
   "metadata": {},
   "outputs": [],
   "source": [
    "import torch\n",
    "from torch.utils.data import TensorDataset, DataLoader\n",
    "\n",
    "# create Tensor datasets\n",
    "train_data = TensorDataset(torch.from_numpy(train_x), torch.from_numpy(train_y))\n",
    "valid_data = TensorDataset(torch.from_numpy(val_x), torch.from_numpy(val_y))\n",
    "test_data = TensorDataset(torch.from_numpy(test_x), torch.from_numpy(test_y))\n",
    "\n",
    "# dataloaders\n",
    "batch_size = 50\n",
    "\n",
    "# make sure the SHUFFLE your training data\n",
    "train_loader = DataLoader(train_data, shuffle=True,batch_size=batch_size, drop_last=True)\n",
    "valid_loader = DataLoader(valid_data, shuffle=True, batch_size=batch_size, drop_last=True)\n",
    "test_loader = DataLoader(test_data, shuffle=True, batch_size=batch_size, drop_last=True)"
   ]
  },
  {
   "cell_type": "code",
   "execution_count": 45,
   "metadata": {},
   "outputs": [
    {
     "name": "stdout",
     "output_type": "stream",
     "text": [
      "Sample input size:  torch.Size([50, 200])\n",
      "Sample input: \n",
      " tensor([[   0,    0,    0,  ...,  484,   46,   12],\n",
      "        [   0,    0,    0,  ...,   62,  107,   74],\n",
      "        [   0,    0,    0,  ...,    0,    0, 2533],\n",
      "        ...,\n",
      "        [   0,    0,    0,  ...,   52,   49,   50],\n",
      "        [   0,    0,    0,  ...,   57,  240,  285],\n",
      "        [   0,    0,    0,  ...,    0,  551,  552]], dtype=torch.int32)\n",
      "\n",
      "Sample label size:  torch.Size([50])\n",
      "Sample label: \n",
      " tensor([1, 1, 0, 1, 1, 1, 1, 1, 1, 1, 1, 1, 1, 1, 1, 1, 1, 1, 1, 1, 1, 1, 1, 1,\n",
      "        1, 1, 1, 0, 1, 1, 1, 1, 1, 1, 1, 1, 1, 1, 1, 0, 1, 0, 1, 1, 1, 1, 1, 1,\n",
      "        1, 1], dtype=torch.int32)\n"
     ]
    }
   ],
   "source": [
    "# obtain one batch of training data\n",
    "dataiter = iter(train_loader)\n",
    "sample_x, sample_y = dataiter.next()\n",
    "\n",
    "print('Sample input size: ', sample_x.size()) # batch_size, seq_length\n",
    "print('Sample input: \\n', sample_x)\n",
    "print()\n",
    "print('Sample label size: ', sample_y.size()) # batch_size\n",
    "print('Sample label: \\n', sample_y)"
   ]
  },
  {
   "cell_type": "code",
   "execution_count": 46,
   "metadata": {},
   "outputs": [
    {
     "name": "stdout",
     "output_type": "stream",
     "text": [
      "Training on GPU.\n"
     ]
    }
   ],
   "source": [
    "train_on_gpu=torch.cuda.is_available()\n",
    "\n",
    "if(train_on_gpu):\n",
    "    print('Training on GPU.')\n",
    "else:\n",
    "    print('No GPU available, training on CPU.')"
   ]
  },
  {
   "cell_type": "code",
   "execution_count": 47,
   "metadata": {},
   "outputs": [],
   "source": [
    "import torch.nn as nn\n",
    "\n",
    "class SentimentRNN(nn.Module):\n",
    "    \"\"\"\n",
    "    The RNN model that will be used to perform Sentiment analysis.\n",
    "    \"\"\"\n",
    "\n",
    "    def __init__(self, vocab_size, output_size, embedding_dim, hidden_dim, n_layers, drop_prob=0.5):\n",
    "        \"\"\"\n",
    "        Initialize the model by setting up the layers.\n",
    "        \"\"\"\n",
    "        super(SentimentRNN, self).__init__()\n",
    "\n",
    "        self.output_size = output_size\n",
    "        self.n_layers = n_layers\n",
    "        self.hidden_dim = hidden_dim\n",
    "        \n",
    "        # embedding and LSTM layers\n",
    "        self.embedding = nn.Embedding(vocab_size, embedding_dim)\n",
    "        self.lstm = nn.LSTM(embedding_dim, hidden_dim, n_layers, \n",
    "                            dropout=drop_prob, batch_first=True)\n",
    "        \n",
    "        # dropout layer\n",
    "        self.dropout = nn.Dropout(0.3)\n",
    "        \n",
    "        # linear and sigmoid layers\n",
    "        self.fc = nn.Linear(hidden_dim, output_size)\n",
    "        self.sig = nn.Sigmoid()\n",
    "        \n",
    "\n",
    "    def forward(self, x, hidden):\n",
    "        \"\"\"\n",
    "        Perform a forward pass of our model on some input and hidden state.\n",
    "        \"\"\"\n",
    "        batch_size = x.size(0)\n",
    "\n",
    "        # embeddings and lstm_out\n",
    "        x = x.long()\n",
    "        embeds = self.embedding(x)\n",
    "        lstm_out, hidden = self.lstm(embeds, hidden)\n",
    "    \n",
    "        # stack up lstm outputs\n",
    "        lstm_out = lstm_out.contiguous().view(-1, self.hidden_dim)\n",
    "        \n",
    "        # dropout and fully-connected layer\n",
    "        out = self.dropout(lstm_out)\n",
    "        out = self.fc(out)\n",
    "        # sigmoid function\n",
    "        sig_out = self.sig(out)\n",
    "        \n",
    "        # reshape to be batch_size first\n",
    "        sig_out = sig_out.view(batch_size, -1)\n",
    "        sig_out = sig_out[:, -1] # get last batch of labels\n",
    "        \n",
    "        # return last sigmoid output and hidden state\n",
    "        return sig_out, hidden\n",
    "    \n",
    "    \n",
    "    def init_hidden(self, batch_size):\n",
    "        ''' Initializes hidden state '''\n",
    "        # Create two new tensors with sizes n_layers x batch_size x hidden_dim,\n",
    "        # initialized to zero, for hidden state and cell state of LSTM\n",
    "        weight = next(self.parameters()).data\n",
    "        \n",
    "        if (train_on_gpu):\n",
    "            hidden = (weight.new(self.n_layers, batch_size, self.hidden_dim).zero_().cuda(),\n",
    "                  weight.new(self.n_layers, batch_size, self.hidden_dim).zero_().cuda())\n",
    "        else:\n",
    "            hidden = (weight.new(self.n_layers, batch_size, self.hidden_dim).zero_(),\n",
    "                      weight.new(self.n_layers, batch_size, self.hidden_dim).zero_())\n",
    "        \n",
    "        return hidden"
   ]
  },
  {
   "cell_type": "code",
   "execution_count": 48,
   "metadata": {},
   "outputs": [
    {
     "name": "stdout",
     "output_type": "stream",
     "text": [
      "SentimentRNN(\n",
      "  (embedding): Embedding(3133, 400)\n",
      "  (lstm): LSTM(400, 256, num_layers=2, batch_first=True, dropout=0.5)\n",
      "  (dropout): Dropout(p=0.3, inplace=False)\n",
      "  (fc): Linear(in_features=256, out_features=1, bias=True)\n",
      "  (sig): Sigmoid()\n",
      ")\n"
     ]
    }
   ],
   "source": [
    "# Instantiate the model w/ hyperparams\n",
    "vocab_size = len(vocab_to_int)+1 # +1 for the 0 padding + our word tokens\n",
    "output_size = 1\n",
    "embedding_dim = 400\n",
    "hidden_dim = 256\n",
    "n_layers = 2\n",
    "\n",
    "net = SentimentRNN(vocab_size, output_size, embedding_dim, hidden_dim, n_layers)\n",
    "\n",
    "print(net)"
   ]
  },
  {
   "cell_type": "code",
   "execution_count": 49,
   "metadata": {},
   "outputs": [],
   "source": [
    "# loss and optimization functions\n",
    "lr=0.001\n",
    "\n",
    "criterion = nn.BCELoss()\n",
    "optimizer = torch.optim.Adam(net.parameters(), lr=lr)"
   ]
  },
  {
   "cell_type": "code",
   "execution_count": 50,
   "metadata": {},
   "outputs": [
    {
     "name": "stdout",
     "output_type": "stream",
     "text": [
      "Epoch: 4/50... Step: 100... Loss: 0.004061... Val Loss: 0.168573\n",
      "Epoch: 8/50... Step: 200... Loss: 0.000886... Val Loss: 0.265066\n",
      "Epoch: 12/50... Step: 300... Loss: 0.000328... Val Loss: 0.243918\n",
      "Epoch: 16/50... Step: 400... Loss: 0.000164... Val Loss: 0.301165\n",
      "Epoch: 20/50... Step: 500... Loss: 0.000062... Val Loss: 0.361260\n",
      "Epoch: 24/50... Step: 600... Loss: 0.000067... Val Loss: 0.295799\n",
      "Epoch: 27/50... Step: 700... Loss: 0.000049... Val Loss: 0.333004\n",
      "Epoch: 31/50... Step: 800... Loss: 0.000031... Val Loss: 0.336037\n",
      "Epoch: 35/50... Step: 900... Loss: 0.000025... Val Loss: 0.400979\n",
      "Epoch: 39/50... Step: 1000... Loss: 0.000023... Val Loss: 0.401865\n",
      "Epoch: 43/50... Step: 1100... Loss: 0.000024... Val Loss: 0.315961\n",
      "Epoch: 47/50... Step: 1200... Loss: 0.000021... Val Loss: 0.333191\n",
      "Epoch: 50/50... Step: 1300... Loss: 0.000021... Val Loss: 0.335061\n"
     ]
    }
   ],
   "source": [
    "# training params\n",
    "\n",
    "epochs = 50 \n",
    "\n",
    "counter = 0\n",
    "print_every = 100\n",
    "clip=5 # gradient clipping\n",
    "\n",
    "# move model to GPU, if available\n",
    "if(train_on_gpu):\n",
    "    net.cuda()\n",
    "\n",
    "net.train()\n",
    "# train for some number of epochs\n",
    "for e in range(epochs):\n",
    "    # initialize hidden state\n",
    "    h = net.init_hidden(batch_size)\n",
    "\n",
    "    # batch loop\n",
    "    for inputs, labels in train_loader:\n",
    "        counter += 1\n",
    "\n",
    "        if(train_on_gpu):\n",
    "            inputs, labels = inputs.cuda(), labels.cuda()\n",
    "\n",
    "        # Creating new variables for the hidden state, otherwise\n",
    "        # we'd backprop through the entire training history\n",
    "\n",
    "        h = tuple([each.data for each in h])\n",
    "\n",
    "        # zero accumulated gradients\n",
    "        net.zero_grad()\n",
    "\n",
    "        # get the output from the model\n",
    "        output, h = net(inputs, h)\n",
    "\n",
    "        # calculate the loss and perform backprop\n",
    "        loss = criterion(output.squeeze(), labels.float())\n",
    "        loss.backward()\n",
    "        # `clip_grad_norm` helps prevent the exploding gradient problem in RNNs / LSTMs.\n",
    "        nn.utils.clip_grad_norm_(net.parameters(), clip)\n",
    "        optimizer.step()\n",
    "\n",
    "        # loss stats\n",
    "        if counter % print_every == 0:\n",
    "            # Get validation loss\n",
    "            val_h = net.init_hidden(batch_size)\n",
    "            val_losses = []\n",
    "            net.eval()\n",
    "            for inputs, labels in valid_loader:\n",
    "\n",
    "                # Creating new variables for the hidden state, otherwise\n",
    "                # we'd backprop through the entire training history\n",
    "                val_h = tuple([each.data for each in val_h])\n",
    "\n",
    "                if(train_on_gpu):\n",
    "                    inputs, labels = inputs.cuda(), labels.cuda()\n",
    "\n",
    "                output, val_h = net(inputs, val_h)\n",
    "                val_loss = criterion(output.squeeze(), labels.float())\n",
    "\n",
    "                val_losses.append(val_loss.item())\n",
    "\n",
    "            net.train()\n",
    "            print(\"Epoch: {}/{}...\".format(e+1, epochs),\n",
    "                  \"Step: {}...\".format(counter),\n",
    "                  \"Loss: {:.6f}...\".format(loss.item()),\n",
    "                  \"Val Loss: {:.6f}\".format(np.mean(val_losses)))"
   ]
  },
  {
   "cell_type": "code",
   "execution_count": 51,
   "metadata": {},
   "outputs": [
    {
     "name": "stdout",
     "output_type": "stream",
     "text": [
      "Test loss: 0.361\n",
      "Test accuracy: 0.872\n"
     ]
    }
   ],
   "source": [
    "# Get test data loss and accuracy\n",
    "\n",
    "test_losses = [] # track loss\n",
    "num_correct = 0\n",
    "\n",
    "# init hidden state\n",
    "h = net.init_hidden(batch_size)\n",
    "\n",
    "net.eval()\n",
    "# iterate over test data\n",
    "for inputs, labels in test_loader:\n",
    "\n",
    "    # Creating new variables for the hidden state, otherwise\n",
    "    # we'd backprop through the entire training history\n",
    "    h = tuple([each.data for each in h])\n",
    "\n",
    "    if(train_on_gpu):\n",
    "        inputs, labels = inputs.cuda(), labels.cuda()\n",
    "    \n",
    "    # get predicted outputs\n",
    "    output, h = net(inputs, h)\n",
    "    \n",
    "    # calculate loss\n",
    "    test_loss = criterion(output.squeeze(), labels.float())\n",
    "    test_losses.append(test_loss.item())\n",
    "    \n",
    "    # convert output probabilities to predicted class (0 or 1)\n",
    "    pred = torch.round(output.squeeze())  # rounds to the nearest integer\n",
    "    \n",
    "    # compare predictions to true label\n",
    "    correct_tensor = pred.eq(labels.float().view_as(pred))\n",
    "    correct = np.squeeze(correct_tensor.numpy()) if not train_on_gpu else np.squeeze(correct_tensor.cpu().numpy())\n",
    "    num_correct += np.sum(correct)\n",
    "\n",
    "\n",
    "# -- stats! -- ##\n",
    "# avg test loss\n",
    "print(\"Test loss: {:.3f}\".format(np.mean(test_losses)))\n",
    "\n",
    "# accuracy over all test data\n",
    "test_acc = num_correct/len(test_loader.dataset)\n",
    "print(\"Test accuracy: {:.3f}\".format(test_acc))"
   ]
  },
  {
   "cell_type": "code",
   "execution_count": 52,
   "metadata": {},
   "outputs": [],
   "source": [
    "test_comment_pos = 'Bagus pak subsidi nya'"
   ]
  },
  {
   "cell_type": "code",
   "execution_count": 53,
   "metadata": {},
   "outputs": [
    {
     "name": "stdout",
     "output_type": "stream",
     "text": [
      "[[533, 3, 37, 22]]\n"
     ]
    }
   ],
   "source": [
    "from string import punctuation\n",
    "\n",
    "def tokenize_review(test_review):\n",
    "    test_review = test_review.lower() # lowercase\n",
    "    # get rid of punctuation\n",
    "    test_text = ''.join([c for c in test_review if c not in punctuation])\n",
    "\n",
    "    # splitting by spaces\n",
    "    test_words = test_text.split()\n",
    "\n",
    "    # tokens\n",
    "    test_ints = []\n",
    "    test_ints.append([vocab_to_int[word] for word in test_words])\n",
    "\n",
    "    return test_ints\n",
    "\n",
    "# test code and generate tokenized review\n",
    "test_ints = tokenize_review(test_comment_pos)\n",
    "print(test_ints)"
   ]
  },
  {
   "cell_type": "code",
   "execution_count": 54,
   "metadata": {},
   "outputs": [
    {
     "name": "stdout",
     "output_type": "stream",
     "text": [
      "[[  0   0   0   0   0   0   0   0   0   0   0   0   0   0   0   0   0   0\n",
      "    0   0   0   0   0   0   0   0   0   0   0   0   0   0   0   0   0   0\n",
      "    0   0   0   0   0   0   0   0   0   0   0   0   0   0   0   0   0   0\n",
      "    0   0   0   0   0   0   0   0   0   0   0   0   0   0   0   0   0   0\n",
      "    0   0   0   0   0   0   0   0   0   0   0   0   0   0   0   0   0   0\n",
      "    0   0   0   0   0   0   0   0   0   0   0   0   0   0   0   0   0   0\n",
      "    0   0   0   0   0   0   0   0   0   0   0   0   0   0   0   0   0   0\n",
      "    0   0   0   0   0   0   0   0   0   0   0   0   0   0   0   0   0   0\n",
      "    0   0   0   0   0   0   0   0   0   0   0   0   0   0   0   0   0   0\n",
      "    0   0   0   0   0   0   0   0   0   0   0   0   0   0   0   0   0   0\n",
      "    0   0   0   0   0   0   0   0   0   0   0   0   0   0   0   0 533   3\n",
      "   37  22]]\n"
     ]
    }
   ],
   "source": [
    "# test sequence padding\n",
    "seq_length=200\n",
    "features = pad_features(test_ints, seq_length)\n",
    "\n",
    "print(features)"
   ]
  },
  {
   "cell_type": "code",
   "execution_count": 55,
   "metadata": {},
   "outputs": [
    {
     "name": "stdout",
     "output_type": "stream",
     "text": [
      "torch.Size([1, 200])\n"
     ]
    }
   ],
   "source": [
    "# test conversion to tensor and pass into your model\n",
    "feature_tensor = torch.from_numpy(features)\n",
    "print(feature_tensor.size())"
   ]
  },
  {
   "cell_type": "code",
   "execution_count": 56,
   "metadata": {},
   "outputs": [],
   "source": [
    "def predict(net, test_review, sequence_length=200):\n",
    "    \n",
    "    net.eval()\n",
    "    \n",
    "    # tokenize review\n",
    "    test_ints = tokenize_review(test_review)\n",
    "    \n",
    "    # pad tokenized sequence\n",
    "    seq_length=sequence_length\n",
    "    features = pad_features(test_ints, seq_length)\n",
    "    \n",
    "    # convert to tensor to pass into your model\n",
    "    feature_tensor = torch.from_numpy(features)\n",
    "    \n",
    "    batch_size = feature_tensor.size(0)\n",
    "    \n",
    "    # initialize hidden state\n",
    "    h = net.init_hidden(batch_size)\n",
    "    \n",
    "    if(train_on_gpu):\n",
    "        feature_tensor = feature_tensor.cuda()\n",
    "    \n",
    "    # get the output from the model\n",
    "    output, h = net(feature_tensor, h)\n",
    "    \n",
    "    # convert output probabilities to predicted class (0 or 1)\n",
    "    pred = torch.round(output.squeeze()) \n",
    "    # printing output value, before rounding\n",
    "    print('Prediction value, pre-rounding: {:.6f}'.format(output.item()))\n",
    "    \n",
    "    # print custom response\n",
    "    if(pred.item()==1):\n",
    "        print(\"Positive comment detected!\")\n",
    "    else:\n",
    "        print(\"Negative comment detected.\")"
   ]
  },
  {
   "cell_type": "code",
   "execution_count": 57,
   "metadata": {},
   "outputs": [
    {
     "name": "stdout",
     "output_type": "stream",
     "text": [
      "Prediction value, pre-rounding: 0.999998\n",
      "Positive comment detected!\n"
     ]
    }
   ],
   "source": [
    "# call function\n",
    "seq_length=200 # good to use the length that was trained on\n",
    "\n",
    "predict(net, test_comment_pos, seq_length)"
   ]
  }
 ],
 "metadata": {
  "kernelspec": {
   "display_name": "Python 3",
   "language": "python",
   "name": "python3"
  },
  "language_info": {
   "codemirror_mode": {
    "name": "ipython",
    "version": 3
   },
   "file_extension": ".py",
   "mimetype": "text/x-python",
   "name": "python",
   "nbconvert_exporter": "python",
   "pygments_lexer": "ipython3",
   "version": "3.7.2"
  }
 },
 "nbformat": 4,
 "nbformat_minor": 2
}
